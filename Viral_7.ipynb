{
  "nbformat": 4,
  "nbformat_minor": 0,
  "metadata": {
    "colab": {
      "name": "Viral_7.ipynb",
      "provenance": [],
      "mount_file_id": "1pl3pns3Ic06FUrHrz2D_DzOZ1o2DvsNt",
      "authorship_tag": "ABX9TyMKRjzaAKysM0OgV7dAV6tE"
    },
    "kernelspec": {
      "name": "python3",
      "display_name": "Python 3"
    },
    "language_info": {
      "name": "python"
    }
  },
  "cells": [
    {
      "cell_type": "code",
      "metadata": {
        "id": "FhTV2SwAynLv"
      },
      "source": [
        "import pandas as pd\n",
        "import numpy as np\n",
        "from sklearn.model_selection import train_test_split\n",
        "from sklearn.ensemble import RandomForestClassifier\n",
        "from xgboost import XGBClassifier\n",
        "from sklearn.svm import SVC\n",
        "from sklearn.linear_model import SGDClassifier\n",
        "from sklearn.neighbors import KNeighborsClassifier\n",
        "from sklearn.naive_bayes import GaussianNB\n",
        "from sklearn.decomposition import PCA\n",
        "from sklearn.preprocessing import LabelEncoder, MinMaxScaler\n",
        "from sklearn.metrics import confusion_matrix, precision_score, recall_score, f1_score, accuracy_score\n",
        "from sklearn.model_selection import GridSearchCV, RandomizedSearchCV, cross_val_score\n",
        "import seaborn as sns\n",
        "import matplotlib.pyplot as plt\n"
      ],
      "execution_count": null,
      "outputs": []
    },
    {
      "cell_type": "code",
      "metadata": {
        "id": "7xugLBrV0LUc"
      },
      "source": [
        "data = pd.read_csv('/content/drive/MyDrive/Viral Tweets Prediction Challenge Dataset/Dataset/Tweets/train_tweets.csv')"
      ],
      "execution_count": null,
      "outputs": []
    },
    {
      "cell_type": "code",
      "metadata": {
        "id": "IZZehVis3LnE"
      },
      "source": [
        "def boolean_df(item_lists, unique_items):\n",
        "# Create empty dict\n",
        "    bool_dict = {}\n",
        "    \n",
        "    # Loop through all the tags\n",
        "    for i, item in enumerate(unique_items):\n",
        "        \n",
        "        # Apply boolean mask\n",
        "        bool_dict[item] = item_lists.apply(lambda x: item in x)\n",
        "            \n",
        "    # Return the results as a dataframe\n",
        "    return pd.DataFrame(bool_dict)\n",
        "\n",
        "def to_1D(series):\n",
        " return pd.Series([x for _list in series for x in _list])"
      ],
      "execution_count": null,
      "outputs": []
    },
    {
      "cell_type": "code",
      "metadata": {
        "colab": {
          "base_uri": "https://localhost:8080/",
          "height": 350
        },
        "id": "nXuVubec0ueB",
        "outputId": "384c031b-cf38-4c68-d413-423871ffd92f"
      },
      "source": [
        "data.head()"
      ],
      "execution_count": null,
      "outputs": [
        {
          "output_type": "execute_result",
          "data": {
            "text/html": [
              "<div>\n",
              "<style scoped>\n",
              "    .dataframe tbody tr th:only-of-type {\n",
              "        vertical-align: middle;\n",
              "    }\n",
              "\n",
              "    .dataframe tbody tr th {\n",
              "        vertical-align: top;\n",
              "    }\n",
              "\n",
              "    .dataframe thead th {\n",
              "        text-align: right;\n",
              "    }\n",
              "</style>\n",
              "<table border=\"1\" class=\"dataframe\">\n",
              "  <thead>\n",
              "    <tr style=\"text-align: right;\">\n",
              "      <th></th>\n",
              "      <th>tweet_id</th>\n",
              "      <th>tweet_user_id</th>\n",
              "      <th>tweet_created_at_year</th>\n",
              "      <th>tweet_created_at_month</th>\n",
              "      <th>tweet_created_at_day</th>\n",
              "      <th>tweet_created_at_hour</th>\n",
              "      <th>tweet_hashtag_count</th>\n",
              "      <th>tweet_url_count</th>\n",
              "      <th>tweet_mention_count</th>\n",
              "      <th>tweet_has_attachment</th>\n",
              "      <th>tweet_attachment_class</th>\n",
              "      <th>tweet_language_id</th>\n",
              "      <th>tweet_topic_ids</th>\n",
              "      <th>virality</th>\n",
              "    </tr>\n",
              "  </thead>\n",
              "  <tbody>\n",
              "    <tr>\n",
              "      <th>0</th>\n",
              "      <td>34698</td>\n",
              "      <td>10</td>\n",
              "      <td>2015</td>\n",
              "      <td>12</td>\n",
              "      <td>5</td>\n",
              "      <td>3</td>\n",
              "      <td>2.0</td>\n",
              "      <td>1.0</td>\n",
              "      <td>0.0</td>\n",
              "      <td>False</td>\n",
              "      <td>C</td>\n",
              "      <td>0</td>\n",
              "      <td>['36', '36', '36', '36', '36', '36', '37', '37...</td>\n",
              "      <td>3</td>\n",
              "    </tr>\n",
              "    <tr>\n",
              "      <th>1</th>\n",
              "      <td>24644</td>\n",
              "      <td>4</td>\n",
              "      <td>2020</td>\n",
              "      <td>6</td>\n",
              "      <td>19</td>\n",
              "      <td>0</td>\n",
              "      <td>0.0</td>\n",
              "      <td>1.0</td>\n",
              "      <td>0.0</td>\n",
              "      <td>False</td>\n",
              "      <td>C</td>\n",
              "      <td>0</td>\n",
              "      <td>['43', '78', '79', '80', '80', '89', '98', '99...</td>\n",
              "      <td>3</td>\n",
              "    </tr>\n",
              "    <tr>\n",
              "      <th>2</th>\n",
              "      <td>36321</td>\n",
              "      <td>54</td>\n",
              "      <td>2019</td>\n",
              "      <td>6</td>\n",
              "      <td>2</td>\n",
              "      <td>15</td>\n",
              "      <td>2.0</td>\n",
              "      <td>3.0</td>\n",
              "      <td>0.0</td>\n",
              "      <td>True</td>\n",
              "      <td>A</td>\n",
              "      <td>0</td>\n",
              "      <td>['79', '80', '98', '98', '98', '99', '99', '10...</td>\n",
              "      <td>1</td>\n",
              "    </tr>\n",
              "    <tr>\n",
              "      <th>3</th>\n",
              "      <td>2629</td>\n",
              "      <td>42</td>\n",
              "      <td>2020</td>\n",
              "      <td>9</td>\n",
              "      <td>6</td>\n",
              "      <td>17</td>\n",
              "      <td>0.0</td>\n",
              "      <td>1.0</td>\n",
              "      <td>1.0</td>\n",
              "      <td>True</td>\n",
              "      <td>A</td>\n",
              "      <td>0</td>\n",
              "      <td>['43', '79', '80', '98', '99', '99', '79', '80']</td>\n",
              "      <td>2</td>\n",
              "    </tr>\n",
              "    <tr>\n",
              "      <th>4</th>\n",
              "      <td>28169</td>\n",
              "      <td>32</td>\n",
              "      <td>2020</td>\n",
              "      <td>11</td>\n",
              "      <td>4</td>\n",
              "      <td>17</td>\n",
              "      <td>2.0</td>\n",
              "      <td>1.0</td>\n",
              "      <td>0.0</td>\n",
              "      <td>True</td>\n",
              "      <td>A</td>\n",
              "      <td>0</td>\n",
              "      <td>['79', '80', '98', '99', '43', '89']</td>\n",
              "      <td>2</td>\n",
              "    </tr>\n",
              "  </tbody>\n",
              "</table>\n",
              "</div>"
            ],
            "text/plain": [
              "   tweet_id  ...  virality\n",
              "0     34698  ...         3\n",
              "1     24644  ...         3\n",
              "2     36321  ...         1\n",
              "3      2629  ...         2\n",
              "4     28169  ...         2\n",
              "\n",
              "[5 rows x 14 columns]"
            ]
          },
          "metadata": {
            "tags": []
          },
          "execution_count": 4
        }
      ]
    },
    {
      "cell_type": "code",
      "metadata": {
        "colab": {
          "base_uri": "https://localhost:8080/"
        },
        "id": "aGD20qTy0wHt",
        "outputId": "75afa2bc-669b-4283-befa-feeafe1a3ff3"
      },
      "source": [
        "data.shape"
      ],
      "execution_count": null,
      "outputs": [
        {
          "output_type": "execute_result",
          "data": {
            "text/plain": [
              "(29625, 14)"
            ]
          },
          "metadata": {
            "tags": []
          },
          "execution_count": 5
        }
      ]
    },
    {
      "cell_type": "code",
      "metadata": {
        "colab": {
          "base_uri": "https://localhost:8080/",
          "height": 282
        },
        "id": "LIqOb-I00w8b",
        "outputId": "660ad749-44c6-42ce-8d48-c73a56567365"
      },
      "source": [
        "data.tweet_created_at_year.hist()"
      ],
      "execution_count": null,
      "outputs": [
        {
          "output_type": "execute_result",
          "data": {
            "text/plain": [
              "<matplotlib.axes._subplots.AxesSubplot at 0x7f0fba3f84d0>"
            ]
          },
          "metadata": {
            "tags": []
          },
          "execution_count": 6
        },
        {
          "output_type": "display_data",
          "data": {
            "image/png": "[encoded data removed]",
            "text/plain": [
              "<Figure size 432x288 with 1 Axes>"
            ]
          },
          "metadata": {
            "tags": [],
            "needs_background": "light"
          }
        }
      ]
    },
    {
      "cell_type": "code",
      "metadata": {
        "colab": {
          "base_uri": "https://localhost:8080/"
        },
        "id": "DQ0IG_U25C8G",
        "outputId": "e862da74-bbb4-4489-d244-94d455c39ca0"
      },
      "source": [
        "data.tweet_created_at_year.value_counts()"
      ],
      "execution_count": null,
      "outputs": [
        {
          "output_type": "execute_result",
          "data": {
            "text/plain": [
              "2020    13288\n",
              "2019     8234\n",
              "2018     3137\n",
              "2016     1549\n",
              "2017     1239\n",
              "2021     1058\n",
              "2015      711\n",
              "2014      325\n",
              "2013       84\n",
              "Name: tweet_created_at_year, dtype: int64"
            ]
          },
          "metadata": {
            "tags": []
          },
          "execution_count": 7
        }
      ]
    },
    {
      "cell_type": "code",
      "metadata": {
        "colab": {
          "base_uri": "https://localhost:8080/",
          "height": 400
        },
        "id": "6goNrIVQ5Yjp",
        "outputId": "e4670ca9-50c6-4d80-ef5e-ce48c5257950"
      },
      "source": [
        "\n",
        "sns.heatmap(data.corr())"
      ],
      "execution_count": null,
      "outputs": [
        {
          "output_type": "execute_result",
          "data": {
            "text/plain": [
              "<matplotlib.axes._subplots.AxesSubplot at 0x7f0fba43e1d0>"
            ]
          },
          "metadata": {
            "tags": []
          },
          "execution_count": 8
        },
        {
          "output_type": "display_data",
          "data": {
            "image/png": "[encoded data removed]",
            "text/plain": [
              "<Figure size 432x288 with 2 Axes>"
            ]
          },
          "metadata": {
            "tags": [],
            "needs_background": "light"
          }
        }
      ]
    },
    {
      "cell_type": "code",
      "metadata": {
        "colab": {
          "base_uri": "https://localhost:8080/"
        },
        "id": "6n2kMLdf5rvl",
        "outputId": "d2cec749-eb8f-4132-b9d9-5d686fcc0630"
      },
      "source": [
        "data.tweet_language_id.value_counts(normalize=1)*100"
      ],
      "execution_count": null,
      "outputs": [
        {
          "output_type": "execute_result",
          "data": {
            "text/plain": [
              "0     97.127426\n",
              "3      1.448101\n",
              "6      0.536709\n",
              "1      0.280169\n",
              "8      0.077637\n",
              "4      0.074262\n",
              "7      0.057384\n",
              "18     0.037131\n",
              "23     0.033755\n",
              "5      0.033755\n",
              "11     0.030380\n",
              "10     0.030380\n",
              "9      0.030380\n",
              "19     0.030380\n",
              "21     0.023629\n",
              "2      0.023629\n",
              "15     0.020253\n",
              "13     0.016878\n",
              "20     0.013502\n",
              "27     0.013502\n",
              "22     0.010127\n",
              "24     0.010127\n",
              "28     0.006751\n",
              "30     0.006751\n",
              "17     0.006751\n",
              "16     0.006751\n",
              "12     0.003376\n",
              "29     0.003376\n",
              "25     0.003376\n",
              "14     0.003376\n",
              "Name: tweet_language_id, dtype: float64"
            ]
          },
          "metadata": {
            "tags": []
          },
          "execution_count": 9
        }
      ]
    },
    {
      "cell_type": "code",
      "metadata": {
        "colab": {
          "base_uri": "https://localhost:8080/",
          "height": 282
        },
        "id": "YDbW-utcDUzF",
        "outputId": "082506ec-433a-41d5-cf7e-306cb114dba1"
      },
      "source": [
        "data.tweet_mention_count.hist()"
      ],
      "execution_count": null,
      "outputs": [
        {
          "output_type": "execute_result",
          "data": {
            "text/plain": [
              "<matplotlib.axes._subplots.AxesSubplot at 0x7f0fba2fd810>"
            ]
          },
          "metadata": {
            "tags": []
          },
          "execution_count": 10
        },
        {
          "output_type": "display_data",
          "data": {
            "image/png": "[encoded data removed]",
            "text/plain": [
              "<Figure size 432x288 with 1 Axes>"
            ]
          },
          "metadata": {
            "tags": [],
            "needs_background": "light"
          }
        }
      ]
    },
    {
      "cell_type": "code",
      "metadata": {
        "colab": {
          "base_uri": "https://localhost:8080/"
        },
        "id": "waJl3TbEDrBC",
        "outputId": "0fc1500d-01cc-48a0-c246-69341775364a"
      },
      "source": [
        "data.tweet_mention_count.value_counts()"
      ],
      "execution_count": null,
      "outputs": [
        {
          "output_type": "execute_result",
          "data": {
            "text/plain": [
              "0.0     17550\n",
              "1.0      7602\n",
              "2.0      3051\n",
              "3.0       917\n",
              "4.0       293\n",
              "5.0        90\n",
              "6.0        48\n",
              "7.0        27\n",
              "8.0        24\n",
              "9.0        10\n",
              "10.0        4\n",
              "13.0        3\n",
              "11.0        2\n",
              "16.0        2\n",
              "14.0        1\n",
              "15.0        1\n",
              "Name: tweet_mention_count, dtype: int64"
            ]
          },
          "metadata": {
            "tags": []
          },
          "execution_count": 11
        }
      ]
    },
    {
      "cell_type": "code",
      "metadata": {
        "colab": {
          "base_uri": "https://localhost:8080/"
        },
        "id": "WXASygcRDwmo",
        "outputId": "c418a01d-6a9f-4996-b18c-90f20219c251"
      },
      "source": [
        "data.tweet_hashtag_count.value_counts()"
      ],
      "execution_count": null,
      "outputs": [
        {
          "output_type": "execute_result",
          "data": {
            "text/plain": [
              "0.0     11435\n",
              "1.0      9682\n",
              "2.0      5312\n",
              "3.0      2285\n",
              "4.0       650\n",
              "5.0       167\n",
              "6.0        64\n",
              "7.0        18\n",
              "8.0         4\n",
              "9.0         3\n",
              "11.0        2\n",
              "14.0        2\n",
              "10.0        1\n",
              "Name: tweet_hashtag_count, dtype: int64"
            ]
          },
          "metadata": {
            "tags": []
          },
          "execution_count": 12
        }
      ]
    },
    {
      "cell_type": "code",
      "metadata": {
        "colab": {
          "base_uri": "https://localhost:8080/"
        },
        "id": "AI9CDnjBD5sN",
        "outputId": "92377852-5741-4230-a07d-6accb3f79695"
      },
      "source": [
        "data.tweet_url_count.value_counts()"
      ],
      "execution_count": null,
      "outputs": [
        {
          "output_type": "execute_result",
          "data": {
            "text/plain": [
              "1.0    11780\n",
              "2.0     8798\n",
              "0.0     7210\n",
              "3.0      949\n",
              "4.0      562\n",
              "5.0      319\n",
              "6.0        6\n",
              "8.0        1\n",
              "Name: tweet_url_count, dtype: int64"
            ]
          },
          "metadata": {
            "tags": []
          },
          "execution_count": 13
        }
      ]
    },
    {
      "cell_type": "code",
      "metadata": {
        "colab": {
          "base_uri": "https://localhost:8080/",
          "height": 282
        },
        "id": "v4AX62HXEED9",
        "outputId": "1a9e7cf8-53ec-4234-db87-cd1b77f9c160"
      },
      "source": [
        "data.tweet_created_at_hour.hist()"
      ],
      "execution_count": null,
      "outputs": [
        {
          "output_type": "execute_result",
          "data": {
            "text/plain": [
              "<matplotlib.axes._subplots.AxesSubplot at 0x7f0fb023a7d0>"
            ]
          },
          "metadata": {
            "tags": []
          },
          "execution_count": 14
        },
        {
          "output_type": "display_data",
          "data": {
            "image/png": "[encoded data removed]",
            "text/plain": [
              "<Figure size 432x288 with 1 Axes>"
            ]
          },
          "metadata": {
            "tags": [],
            "needs_background": "light"
          }
        }
      ]
    },
    {
      "cell_type": "code",
      "metadata": {
        "colab": {
          "base_uri": "https://localhost:8080/",
          "height": 282
        },
        "id": "Ad0KNywMES41",
        "outputId": "2ded9066-7dbe-4f78-bded-29a014ef575d"
      },
      "source": [
        "data.tweet_created_at_month.hist()"
      ],
      "execution_count": null,
      "outputs": [
        {
          "output_type": "execute_result",
          "data": {
            "text/plain": [
              "<matplotlib.axes._subplots.AxesSubplot at 0x7f0fb01c4cd0>"
            ]
          },
          "metadata": {
            "tags": []
          },
          "execution_count": 15
        },
        {
          "output_type": "display_data",
          "data": {
            "image/png": "[encoded data removed]",
            "text/plain": [
              "<Figure size 432x288 with 1 Axes>"
            ]
          },
          "metadata": {
            "tags": [],
            "needs_background": "light"
          }
        }
      ]
    },
    {
      "cell_type": "code",
      "metadata": {
        "colab": {
          "base_uri": "https://localhost:8080/",
          "height": 282
        },
        "id": "p_sMQTVuEalN",
        "outputId": "2235d0a8-1273-49df-c02f-5d7443c04e7c"
      },
      "source": [
        "data.tweet_created_at_day.hist()"
      ],
      "execution_count": null,
      "outputs": [
        {
          "output_type": "execute_result",
          "data": {
            "text/plain": [
              "<matplotlib.axes._subplots.AxesSubplot at 0x7f0fb0151f10>"
            ]
          },
          "metadata": {
            "tags": []
          },
          "execution_count": 16
        },
        {
          "output_type": "display_data",
          "data": {
            "image/png": "[encoded data removed]",
            "text/plain": [
              "<Figure size 432x288 with 1 Axes>"
            ]
          },
          "metadata": {
            "tags": [],
            "needs_background": "light"
          }
        }
      ]
    },
    {
      "cell_type": "code",
      "metadata": {
        "id": "ciF3tX4XEjFN"
      },
      "source": [
        ""
      ],
      "execution_count": null,
      "outputs": []
    },
    {
      "cell_type": "code",
      "metadata": {
        "id": "w8mdzggHJ39H"
      },
      "source": [
        ""
      ],
      "execution_count": null,
      "outputs": []
    },
    {
      "cell_type": "code",
      "metadata": {
        "id": "nRQGHNw-J35x"
      },
      "source": [
        ""
      ],
      "execution_count": null,
      "outputs": []
    },
    {
      "cell_type": "code",
      "metadata": {
        "id": "1q325_L6J32q"
      },
      "source": [
        ""
      ],
      "execution_count": null,
      "outputs": []
    },
    {
      "cell_type": "code",
      "metadata": {
        "id": "f393EF9aJ3zq"
      },
      "source": [
        "users = pd. read_csv('/content/drive/MyDrive/Viral Tweets Prediction Challenge Dataset/Dataset/Users/users.csv')"
      ],
      "execution_count": null,
      "outputs": []
    },
    {
      "cell_type": "code",
      "metadata": {
        "colab": {
          "base_uri": "https://localhost:8080/",
          "height": 215
        },
        "id": "k28DOoiJKEEv",
        "outputId": "cd39d64e-5a25-455a-af70-b62c9422742d"
      },
      "source": [
        "users.head()"
      ],
      "execution_count": null,
      "outputs": [
        {
          "output_type": "execute_result",
          "data": {
            "text/html": [
              "<div>\n",
              "<style scoped>\n",
              "    .dataframe tbody tr th:only-of-type {\n",
              "        vertical-align: middle;\n",
              "    }\n",
              "\n",
              "    .dataframe tbody tr th {\n",
              "        vertical-align: top;\n",
              "    }\n",
              "\n",
              "    .dataframe thead th {\n",
              "        text-align: right;\n",
              "    }\n",
              "</style>\n",
              "<table border=\"1\" class=\"dataframe\">\n",
              "  <thead>\n",
              "    <tr style=\"text-align: right;\">\n",
              "      <th></th>\n",
              "      <th>user_id</th>\n",
              "      <th>user_like_count</th>\n",
              "      <th>user_followers_count</th>\n",
              "      <th>user_following_count</th>\n",
              "      <th>user_listed_on_count</th>\n",
              "      <th>user_has_location</th>\n",
              "      <th>user_tweet_count</th>\n",
              "      <th>user_has_url</th>\n",
              "      <th>user_verified</th>\n",
              "      <th>user_created_at_year</th>\n",
              "      <th>user_created_at_month</th>\n",
              "    </tr>\n",
              "  </thead>\n",
              "  <tbody>\n",
              "    <tr>\n",
              "      <th>0</th>\n",
              "      <td>0</td>\n",
              "      <td>1164</td>\n",
              "      <td>48720</td>\n",
              "      <td>70469</td>\n",
              "      <td>5956</td>\n",
              "      <td>True</td>\n",
              "      <td>14122</td>\n",
              "      <td>True</td>\n",
              "      <td>0</td>\n",
              "      <td>2010</td>\n",
              "      <td>8</td>\n",
              "    </tr>\n",
              "    <tr>\n",
              "      <th>1</th>\n",
              "      <td>1</td>\n",
              "      <td>3914</td>\n",
              "      <td>85361</td>\n",
              "      <td>2171</td>\n",
              "      <td>5943</td>\n",
              "      <td>False</td>\n",
              "      <td>6957</td>\n",
              "      <td>False</td>\n",
              "      <td>0</td>\n",
              "      <td>2011</td>\n",
              "      <td>9</td>\n",
              "    </tr>\n",
              "    <tr>\n",
              "      <th>2</th>\n",
              "      <td>2</td>\n",
              "      <td>8292</td>\n",
              "      <td>200944</td>\n",
              "      <td>1416</td>\n",
              "      <td>8379</td>\n",
              "      <td>True</td>\n",
              "      <td>83485</td>\n",
              "      <td>True</td>\n",
              "      <td>0</td>\n",
              "      <td>2011</td>\n",
              "      <td>6</td>\n",
              "    </tr>\n",
              "    <tr>\n",
              "      <th>3</th>\n",
              "      <td>3</td>\n",
              "      <td>1770</td>\n",
              "      <td>15385</td>\n",
              "      <td>4572</td>\n",
              "      <td>1866</td>\n",
              "      <td>True</td>\n",
              "      <td>12265</td>\n",
              "      <td>True</td>\n",
              "      <td>0</td>\n",
              "      <td>2011</td>\n",
              "      <td>8</td>\n",
              "    </tr>\n",
              "    <tr>\n",
              "      <th>4</th>\n",
              "      <td>4</td>\n",
              "      <td>15311</td>\n",
              "      <td>459083</td>\n",
              "      <td>1021</td>\n",
              "      <td>7368</td>\n",
              "      <td>False</td>\n",
              "      <td>121193</td>\n",
              "      <td>False</td>\n",
              "      <td>0</td>\n",
              "      <td>2011</td>\n",
              "      <td>6</td>\n",
              "    </tr>\n",
              "  </tbody>\n",
              "</table>\n",
              "</div>"
            ],
            "text/plain": [
              "   user_id  user_like_count  ...  user_created_at_year  user_created_at_month\n",
              "0        0             1164  ...                  2010                      8\n",
              "1        1             3914  ...                  2011                      9\n",
              "2        2             8292  ...                  2011                      6\n",
              "3        3             1770  ...                  2011                      8\n",
              "4        4            15311  ...                  2011                      6\n",
              "\n",
              "[5 rows x 11 columns]"
            ]
          },
          "metadata": {
            "tags": []
          },
          "execution_count": 18
        }
      ]
    },
    {
      "cell_type": "code",
      "metadata": {
        "colab": {
          "base_uri": "https://localhost:8080/"
        },
        "id": "CsvVk0nkKE6f",
        "outputId": "90f3f685-1721-4412-e90d-3ac0ff188f79"
      },
      "source": [
        "users.shape"
      ],
      "execution_count": null,
      "outputs": [
        {
          "output_type": "execute_result",
          "data": {
            "text/plain": [
              "(52, 11)"
            ]
          },
          "metadata": {
            "tags": []
          },
          "execution_count": 19
        }
      ]
    },
    {
      "cell_type": "code",
      "metadata": {
        "colab": {
          "base_uri": "https://localhost:8080/",
          "height": 298
        },
        "id": "tLoBvQyqKllB",
        "outputId": "904b28d8-ce39-4074-c790-c8749a4595af"
      },
      "source": [
        "users.user_following_count.hist()"
      ],
      "execution_count": null,
      "outputs": [
        {
          "output_type": "execute_result",
          "data": {
            "text/plain": [
              "<matplotlib.axes._subplots.AxesSubplot at 0x7f0fb007aed0>"
            ]
          },
          "metadata": {
            "tags": []
          },
          "execution_count": 20
        },
        {
          "output_type": "display_data",
          "data": {
            "image/png": "[encoded data removed]",
            "text/plain": [
              "<Figure size 432x288 with 1 Axes>"
            ]
          },
          "metadata": {
            "tags": [],
            "needs_background": "light"
          }
        }
      ]
    },
    {
      "cell_type": "code",
      "metadata": {
        "colab": {
          "base_uri": "https://localhost:8080/"
        },
        "id": "8fTlcqx5KqiN",
        "outputId": "fdee7d87-137f-4e9e-bf39-9f36ac65c879"
      },
      "source": [
        "users.user_following_count.value_counts()"
      ],
      "execution_count": null,
      "outputs": [
        {
          "output_type": "execute_result",
          "data": {
            "text/plain": [
              "1021       1\n",
              "42363      1\n",
              "1345       1\n",
              "5694       1\n",
              "825        1\n",
              "181304     1\n",
              "4572       1\n",
              "7472       1\n",
              "6191       1\n",
              "174        1\n",
              "1322       1\n",
              "529        1\n",
              "2083       1\n",
              "5791       1\n",
              "211356     1\n",
              "11290      1\n",
              "60124      1\n",
              "1118149    1\n",
              "11157      1\n",
              "136081     1\n",
              "13         1\n",
              "1416       1\n",
              "8838       1\n",
              "2          1\n",
              "2817       1\n",
              "324        1\n",
              "70469      1\n",
              "88915      1\n",
              "11994      1\n",
              "41015      1\n",
              "370        1\n",
              "43888      1\n",
              "1557       1\n",
              "2534       1\n",
              "39642      1\n",
              "558        1\n",
              "2398       1\n",
              "3226       1\n",
              "5340       1\n",
              "11865      1\n",
              "1991       1\n",
              "2352       1\n",
              "726        1\n",
              "758        1\n",
              "1235       1\n",
              "2171       1\n",
              "584        1\n",
              "1488       1\n",
              "331        1\n",
              "31178      1\n",
              "2888       1\n",
              "0          1\n",
              "Name: user_following_count, dtype: int64"
            ]
          },
          "metadata": {
            "tags": []
          },
          "execution_count": 21
        }
      ]
    },
    {
      "cell_type": "code",
      "metadata": {
        "colab": {
          "base_uri": "https://localhost:8080/"
        },
        "id": "RIvbjvExKHWU",
        "outputId": "e447ac6d-e6b0-43c6-8acf-835dc5046ed7"
      },
      "source": [
        "(users.user_followers_count[users.user_following_count != 0] / users.user_following_count[users.user_following_count != 0])"
      ],
      "execution_count": null,
      "outputs": [
        {
          "output_type": "execute_result",
          "data": {
            "text/plain": [
              "0          0.691368\n",
              "1         39.318747\n",
              "2        141.909605\n",
              "3          3.365048\n",
              "4        449.640548\n",
              "5          2.537840\n",
              "6         17.194796\n",
              "7        195.187146\n",
              "8         14.895217\n",
              "9          2.929072\n",
              "10        15.389561\n",
              "11         6.200349\n",
              "12        28.301818\n",
              "13         1.073746\n",
              "14       363.347645\n",
              "15        60.712963\n",
              "16        53.962810\n",
              "17         3.708378\n",
              "18        29.878136\n",
              "19         0.819306\n",
              "20        32.195951\n",
              "21         4.048217\n",
              "22        16.521848\n",
              "23        35.212647\n",
              "25        10.301500\n",
              "26         2.639403\n",
              "27        14.592052\n",
              "28     71769.230769\n",
              "29         2.418213\n",
              "30    793891.500000\n",
              "31        39.469141\n",
              "32        13.593414\n",
              "33      1265.059459\n",
              "34         2.942336\n",
              "35      3023.800604\n",
              "36         4.773446\n",
              "37        26.168138\n",
              "38        22.847349\n",
              "39       364.829815\n",
              "40         4.020037\n",
              "41         0.462894\n",
              "42         2.429738\n",
              "43         4.080324\n",
              "44         0.947177\n",
              "45         0.920912\n",
              "46         1.080941\n",
              "47      6018.833333\n",
              "48         9.855491\n",
              "49        31.657792\n",
              "50       765.599315\n",
              "51         2.081613\n",
              "dtype: float64"
            ]
          },
          "metadata": {
            "tags": []
          },
          "execution_count": 22
        }
      ]
    },
    {
      "cell_type": "markdown",
      "metadata": {
        "id": "K-372Yat_bS3"
      },
      "source": [
        "Creating BaseLine Model"
      ]
    },
    {
      "cell_type": "code",
      "metadata": {
        "id": "YvrbknFZ_W3m"
      },
      "source": [
        "train  = pd.read_csv('/content/drive/MyDrive/Viral Tweets Prediction Challenge Dataset/Dataset/Tweets/train_tweets.csv')\n",
        "test = pd.read_csv('/content/drive/MyDrive/Viral Tweets Prediction Challenge Dataset/Dataset/Tweets/test_tweets.csv')\n",
        "y = train.pop('virality')"
      ],
      "execution_count": null,
      "outputs": []
    },
    {
      "cell_type": "code",
      "metadata": {
        "id": "fO-gWdpN_gHS"
      },
      "source": [
        "test.tweet_topic_ids = test.fillna('[]').tweet_topic_ids.apply(eval)\n",
        "train.tweet_topic_ids = train.fillna('[]').tweet_topic_ids.apply(eval)\n",
        "topics = set(to_1D(test.tweet_topic_ids).unique().tolist()+to_1D(train.tweet_topic_ids).unique().tolist())\n",
        "train_topics_bool = boolean_df(train['tweet_topic_ids'], topics)\n",
        "test_topics_bool = boolean_df(test['tweet_topic_ids'], topics)\n",
        "test = pd.concat([test, test_topics_bool],axis=1)\n",
        "train = pd.concat([train, train_topics_bool], axis=1)\n",
        "\n",
        "test['tweet_topic_count'] = test.tweet_topic_ids.apply(len)\n",
        "train['tweet_topic_count'] = train.tweet_topic_ids.apply(len)\n",
        "\n",
        "train.drop(columns='tweet_topic_ids', inplace=True)\n",
        "test.drop(columns='tweet_topic_ids',inplace=True)\n",
        "\n",
        "test.tweet_attachment_class = test.tweet_attachment_class.map({'A':1,'B':2,'C':3})\n",
        "train.tweet_attachment_class = train.tweet_attachment_class.map({'A':1,'B':2,'C':3})"
      ],
      "execution_count": null,
      "outputs": []
    },
    {
      "cell_type": "code",
      "metadata": {
        "id": "EJt2dcdkCXoS"
      },
      "source": [
        "train['tweet_created_at_date'] = pd.to_datetime(train.tweet_created_at_year*10000+train.tweet_created_at_month*100+train.tweet_created_at_day,format='%Y%m%d').dt.dayofweek\n",
        "test['tweet_created_at_date'] = pd.to_datetime(test.tweet_created_at_year*10000+test.tweet_created_at_month*100+test.tweet_created_at_day,format='%Y%m%d').dt.dayofweek"
      ],
      "execution_count": null,
      "outputs": []
    },
    {
      "cell_type": "code",
      "metadata": {
        "id": "vdTmp90lZFVc"
      },
      "source": [
        "users = pd.read_csv('/content/drive/MyDrive/Viral Tweets Prediction Challenge Dataset/Dataset/Users/users.csv')"
      ],
      "execution_count": null,
      "outputs": []
    },
    {
      "cell_type": "code",
      "metadata": {
        "id": "H5R0tAspZIjj"
      },
      "source": [
        "train = pd.concat([train,pd.DataFrame(columns=users.columns)])\n",
        "test = pd.concat([test,pd.DataFrame(columns=users.columns)])\n",
        "for i in range(train.shape[0]):\n",
        "  train.loc[i,'user_id':'user_created_at_month'] = users[users.user_id==train.tweet_user_id[i]].iloc[0]\n",
        "for i in range(test.shape[0]):\n",
        "  test.loc[i,'user_id':'user_created_at_month'] = users[users.user_id==test.tweet_user_id[i]].iloc[0]"
      ],
      "execution_count": null,
      "outputs": []
    },
    {
      "cell_type": "code",
      "metadata": {
        "colab": {
          "base_uri": "https://localhost:8080/"
        },
        "id": "BFt1u9kr_q-H",
        "outputId": "5c9137d9-1394-4977-ebe9-b961095d1217"
      },
      "source": [
        "X_train, X_test, y_train, y_test = train_test_split(train, y, test_size=0.3, random_state=1904)\n",
        "print(X_train.shape)\n",
        "print(X_test.shape)\n",
        "print(y_train.shape)\n",
        "print(y_test.shape)"
      ],
      "execution_count": null,
      "outputs": [
        {
          "output_type": "stream",
          "text": [
            "(20737, 84)\n",
            "(8888, 84)\n",
            "(20737,)\n",
            "(8888,)\n"
          ],
          "name": "stdout"
        }
      ]
    },
    {
      "cell_type": "code",
      "metadata": {
        "colab": {
          "base_uri": "https://localhost:8080/"
        },
        "id": "ocPonZYa_wjR",
        "outputId": "c84276d0-b838-4b01-e550-7eca2d2c26f3"
      },
      "source": [
        "clf = RandomForestClassifier()\n",
        "clf.fit(X_train,y_train)\n",
        "print(clf.score(X_train, y_train))\n",
        "print(clf.score(X_test, y_test))"
      ],
      "execution_count": null,
      "outputs": [
        {
          "output_type": "stream",
          "text": [
            "1.0\n",
            "0.677992799279928\n"
          ],
          "name": "stdout"
        }
      ]
    },
    {
      "cell_type": "code",
      "metadata": {
        "colab": {
          "base_uri": "https://localhost:8080/"
        },
        "id": "KkUpf4X7mV0K",
        "outputId": "3295d2ed-4bcd-496e-f987-55813f51fcfd"
      },
      "source": [
        "clf2 = RandomForestClassifier(n_estimators=1200,max_depth=25, min_samples_leaf=1, min_samples_split=10)\n",
        "clf2.fit(X_train,y_train)\n",
        "print(clf2.score(X_train,y_train))\n",
        "print(clf2.score(X_test,y_test))"
      ],
      "execution_count": null,
      "outputs": [
        {
          "output_type": "stream",
          "text": [
            "0.8380672228384047\n",
            "0.68001800180018\n"
          ],
          "name": "stdout"
        }
      ]
    },
    {
      "cell_type": "code",
      "metadata": {
        "colab": {
          "base_uri": "https://localhost:8080/"
        },
        "id": "di_LXVh_maX0",
        "outputId": "63f60555-5b0f-4472-bb5d-5f0a1ff3e9b5"
      },
      "source": [
        "clf2.fit(train,y)\n",
        "print(clf2.score(train,y))"
      ],
      "execution_count": null,
      "outputs": [
        {
          "output_type": "stream",
          "text": [
            "0.8430042194092827\n"
          ],
          "name": "stdout"
        }
      ]
    },
    {
      "cell_type": "code",
      "metadata": {
        "id": "EGICBrokmfXb"
      },
      "source": [
        "sol = test.tweet_id.to_frame()\n",
        "sol['virality'] = clf2.predict(test)\n",
        "sol.astype(int).to_csv('sol12.csv',index=False)"
      ],
      "execution_count": null,
      "outputs": []
    },
    {
      "cell_type": "code",
      "metadata": {
        "colab": {
          "base_uri": "https://localhost:8080/"
        },
        "id": "t74Ge_Q9Fc4R",
        "outputId": "e83744cc-8cf9-4e64-cfc0-573c1361b249"
      },
      "source": [
        "clf = RandomForestClassifier()\n",
        "clf.fit(X_train,y_train)\n",
        "print(cross_val_score(clf,X_train, y_train).mean())\n",
        "print(cross_val_score(clf,X_test, y_test).mean())"
      ],
      "execution_count": null,
      "outputs": [
        {
          "output_type": "stream",
          "text": [
            "0.6703000554129475\n",
            "0.6516654185812593\n"
          ],
          "name": "stdout"
        }
      ]
    },
    {
      "cell_type": "code",
      "metadata": {
        "id": "S7NXl14zAMBz"
      },
      "source": [
        "imp = pd.Series(clf.feature_importances_, index=X_train.columns)"
      ],
      "execution_count": null,
      "outputs": []
    },
    {
      "cell_type": "code",
      "metadata": {
        "id": "MrED3bH0AqtJ"
      },
      "source": [
        "imp=imp*100"
      ],
      "execution_count": null,
      "outputs": []
    },
    {
      "cell_type": "code",
      "metadata": {
        "colab": {
          "base_uri": "https://localhost:8080/"
        },
        "id": "PifaBHq9Ao3v",
        "outputId": "c48ae6af-e218-4410-c940-ee21ee814cc2"
      },
      "source": [
        "imp.shape"
      ],
      "execution_count": null,
      "outputs": [
        {
          "output_type": "execute_result",
          "data": {
            "text/plain": [
              "(73,)"
            ]
          },
          "metadata": {
            "tags": []
          },
          "execution_count": 119
        }
      ]
    },
    {
      "cell_type": "code",
      "metadata": {
        "colab": {
          "base_uri": "https://localhost:8080/"
        },
        "id": "adWZF1dmbkrJ",
        "outputId": "a39b2dd3-70b6-4769-bc71-db7e47b3e836"
      },
      "source": [
        "imp.nlargest(30)"
      ],
      "execution_count": null,
      "outputs": [
        {
          "output_type": "execute_result",
          "data": {
            "text/plain": [
              "tweet_id                  13.755277\n",
              "tweet_created_at_day       8.767853\n",
              "tweet_created_at_hour      8.146320\n",
              "tweet_created_at_month     6.716489\n",
              "tweet_created_at_date      5.934966\n",
              "user_followers_count       4.762168\n",
              "tweet_topic_count          4.542588\n",
              "user_listed_on_count       3.881777\n",
              "tweet_hashtag_count        3.860338\n",
              "tweet_url_count            3.479575\n",
              "tweet_mention_count        3.454708\n",
              "tweet_created_at_year      2.804380\n",
              "user_following_count       2.751994\n",
              "user_like_count            2.570399\n",
              "user_tweet_count           2.260617\n",
              "tweet_user_id              2.223653\n",
              "user_created_at_month      1.966037\n",
              "user_id                    1.964573\n",
              "user_created_at_year       1.805702\n",
              "user_has_location          1.612323\n",
              "tweet_attachment_class     1.272351\n",
              "tweet_has_attachment       1.142645\n",
              "100                        0.779314\n",
              "78                         0.686317\n",
              "99                         0.670178\n",
              "98                         0.655289\n",
              "43                         0.643771\n",
              "tweet_language_id          0.585417\n",
              "36                         0.570817\n",
              "156                        0.437911\n",
              "dtype: float64"
            ]
          },
          "metadata": {
            "tags": []
          },
          "execution_count": 129
        }
      ]
    },
    {
      "cell_type": "code",
      "metadata": {
        "colab": {
          "base_uri": "https://localhost:8080/"
        },
        "id": "dTnaHihzYYvC",
        "outputId": "7df60c56-cd9a-4fb7-cf90-b0703a5f85e7"
      },
      "source": [
        "imp.nlargest(20)"
      ],
      "execution_count": null,
      "outputs": [
        {
          "output_type": "execute_result",
          "data": {
            "text/plain": [
              "tweet_id                  17.979817\n",
              "tweet_user_id             11.196958\n",
              "tweet_created_at_day       9.617950\n",
              "tweet_created_at_hour      9.233093\n",
              "tweet_created_at_month     7.513311\n",
              "tweet_created_at_date      6.424770\n",
              "tweet_topic_count          5.772986\n",
              "tweet_created_at_year      4.786115\n",
              "tweet_hashtag_count        4.369920\n",
              "tweet_url_count            3.984152\n",
              "tweet_mention_count        3.579643\n",
              "78                         1.208318\n",
              "tweet_attachment_class     1.172987\n",
              "100                        1.158713\n",
              "98                         1.065710\n",
              "99                         1.052140\n",
              "tweet_has_attachment       0.991043\n",
              "43                         0.767900\n",
              "tweet_language_id          0.665332\n",
              "81                         0.664609\n",
              "dtype: float64"
            ]
          },
          "metadata": {
            "tags": []
          },
          "execution_count": 120
        }
      ]
    },
    {
      "cell_type": "code",
      "metadata": {
        "colab": {
          "base_uri": "https://localhost:8080/"
        },
        "id": "9bq-qsdEAzjp",
        "outputId": "2038aa1d-1555-421e-ff8a-005d396c8a59"
      },
      "source": [
        "imp.nlargest(15)"
      ],
      "execution_count": null,
      "outputs": [
        {
          "output_type": "execute_result",
          "data": {
            "text/plain": [
              "tweet_id                  19.907649\n",
              "tweet_user_id             11.670139\n",
              "tweet_created_at_day      10.993629\n",
              "tweet_created_at_hour     10.183597\n",
              "tweet_created_at_month     8.245243\n",
              "tweet_topic_count          5.874427\n",
              "tweet_created_at_year      4.932830\n",
              "tweet_hashtag_count        4.580083\n",
              "tweet_url_count            4.288950\n",
              "tweet_mention_count        3.737644\n",
              "100                        1.216269\n",
              "tweet_attachment_class     1.147051\n",
              "78                         1.109952\n",
              "98                         1.086943\n",
              "99                         1.041776\n",
              "dtype: float64"
            ]
          },
          "metadata": {
            "tags": []
          },
          "execution_count": 116
        }
      ]
    },
    {
      "cell_type": "code",
      "metadata": {
        "colab": {
          "base_uri": "https://localhost:8080/"
        },
        "id": "Dw-h4tIbA9Rm",
        "outputId": "947ad72b-483e-4e79-e863-29c6df3f10f4"
      },
      "source": [
        "imp.nsmallest(20)"
      ],
      "execution_count": null,
      "outputs": [
        {
          "output_type": "execute_result",
          "data": {
            "text/plain": [
              "38     0.000000\n",
              "123    0.000000\n",
              "117    0.000000\n",
              "165    0.001128\n",
              "101    0.001924\n",
              "155    0.002007\n",
              "71     0.005104\n",
              "52     0.005389\n",
              "172    0.006027\n",
              "126    0.007397\n",
              "170    0.011589\n",
              "72     0.012338\n",
              "122    0.013143\n",
              "125    0.015165\n",
              "127    0.016213\n",
              "171    0.016662\n",
              "149    0.020036\n",
              "82     0.020750\n",
              "169    0.023810\n",
              "150    0.025686\n",
              "dtype: float64"
            ]
          },
          "metadata": {
            "tags": []
          },
          "execution_count": 46
        }
      ]
    },
    {
      "cell_type": "code",
      "metadata": {
        "colab": {
          "base_uri": "https://localhost:8080/"
        },
        "id": "RJx3TCEfBasI",
        "outputId": "e26e004b-2aad-4c27-ec77-3b6f9eb1ff86"
      },
      "source": [
        "imp.sum()"
      ],
      "execution_count": null,
      "outputs": [
        {
          "output_type": "execute_result",
          "data": {
            "text/plain": [
              "100.0"
            ]
          },
          "metadata": {
            "tags": []
          },
          "execution_count": 47
        }
      ]
    },
    {
      "cell_type": "code",
      "metadata": {
        "colab": {
          "base_uri": "https://localhost:8080/",
          "height": 422
        },
        "id": "3MlUpdA5BfmM",
        "outputId": "20a92d1d-fd79-4729-fd4d-fc17fd3b4c7f"
      },
      "source": [
        "train"
      ],
      "execution_count": null,
      "outputs": [
        {
          "output_type": "execute_result",
          "data": {
            "text/html": [
              "<div>\n",
              "<style scoped>\n",
              "    .dataframe tbody tr th:only-of-type {\n",
              "        vertical-align: middle;\n",
              "    }\n",
              "\n",
              "    .dataframe tbody tr th {\n",
              "        vertical-align: top;\n",
              "    }\n",
              "\n",
              "    .dataframe thead th {\n",
              "        text-align: right;\n",
              "    }\n",
              "</style>\n",
              "<table border=\"1\" class=\"dataframe\">\n",
              "  <thead>\n",
              "    <tr style=\"text-align: right;\">\n",
              "      <th></th>\n",
              "      <th>tweet_id</th>\n",
              "      <th>tweet_user_id</th>\n",
              "      <th>tweet_created_at_year</th>\n",
              "      <th>tweet_created_at_month</th>\n",
              "      <th>tweet_created_at_day</th>\n",
              "      <th>tweet_created_at_hour</th>\n",
              "      <th>tweet_hashtag_count</th>\n",
              "      <th>tweet_url_count</th>\n",
              "      <th>tweet_mention_count</th>\n",
              "      <th>tweet_has_attachment</th>\n",
              "      <th>tweet_attachment_class</th>\n",
              "      <th>tweet_language_id</th>\n",
              "      <th>127</th>\n",
              "      <th>36</th>\n",
              "      <th>78</th>\n",
              "      <th>149</th>\n",
              "      <th>52</th>\n",
              "      <th>73</th>\n",
              "      <th>88</th>\n",
              "      <th>165</th>\n",
              "      <th>38</th>\n",
              "      <th>101</th>\n",
              "      <th>61</th>\n",
              "      <th>39</th>\n",
              "      <th>99</th>\n",
              "      <th>169</th>\n",
              "      <th>112</th>\n",
              "      <th>126</th>\n",
              "      <th>71</th>\n",
              "      <th>72</th>\n",
              "      <th>153</th>\n",
              "      <th>121</th>\n",
              "      <th>151</th>\n",
              "      <th>171</th>\n",
              "      <th>80</th>\n",
              "      <th>111</th>\n",
              "      <th>148</th>\n",
              "      <th>152</th>\n",
              "      <th>89</th>\n",
              "      <th>163</th>\n",
              "      <th>45</th>\n",
              "      <th>125</th>\n",
              "      <th>120</th>\n",
              "      <th>79</th>\n",
              "      <th>59</th>\n",
              "      <th>81</th>\n",
              "      <th>44</th>\n",
              "      <th>63</th>\n",
              "      <th>150</th>\n",
              "      <th>170</th>\n",
              "      <th>147</th>\n",
              "      <th>82</th>\n",
              "      <th>93</th>\n",
              "      <th>155</th>\n",
              "      <th>91</th>\n",
              "      <th>58</th>\n",
              "      <th>87</th>\n",
              "      <th>37</th>\n",
              "      <th>119</th>\n",
              "      <th>122</th>\n",
              "      <th>43</th>\n",
              "      <th>104</th>\n",
              "      <th>100</th>\n",
              "      <th>123</th>\n",
              "      <th>60</th>\n",
              "      <th>118</th>\n",
              "      <th>117</th>\n",
              "      <th>98</th>\n",
              "      <th>68</th>\n",
              "      <th>156</th>\n",
              "      <th>172</th>\n",
              "      <th>tweet_topic_count</th>\n",
              "    </tr>\n",
              "  </thead>\n",
              "  <tbody>\n",
              "    <tr>\n",
              "      <th>0</th>\n",
              "      <td>34698</td>\n",
              "      <td>10</td>\n",
              "      <td>2015</td>\n",
              "      <td>12</td>\n",
              "      <td>5</td>\n",
              "      <td>3</td>\n",
              "      <td>2.0</td>\n",
              "      <td>1.0</td>\n",
              "      <td>0.0</td>\n",
              "      <td>False</td>\n",
              "      <td>3</td>\n",
              "      <td>0</td>\n",
              "      <td>False</td>\n",
              "      <td>True</td>\n",
              "      <td>False</td>\n",
              "      <td>False</td>\n",
              "      <td>False</td>\n",
              "      <td>False</td>\n",
              "      <td>False</td>\n",
              "      <td>False</td>\n",
              "      <td>False</td>\n",
              "      <td>False</td>\n",
              "      <td>False</td>\n",
              "      <td>False</td>\n",
              "      <td>False</td>\n",
              "      <td>False</td>\n",
              "      <td>False</td>\n",
              "      <td>False</td>\n",
              "      <td>False</td>\n",
              "      <td>False</td>\n",
              "      <td>False</td>\n",
              "      <td>False</td>\n",
              "      <td>False</td>\n",
              "      <td>False</td>\n",
              "      <td>False</td>\n",
              "      <td>False</td>\n",
              "      <td>False</td>\n",
              "      <td>False</td>\n",
              "      <td>False</td>\n",
              "      <td>False</td>\n",
              "      <td>False</td>\n",
              "      <td>False</td>\n",
              "      <td>False</td>\n",
              "      <td>False</td>\n",
              "      <td>False</td>\n",
              "      <td>False</td>\n",
              "      <td>False</td>\n",
              "      <td>False</td>\n",
              "      <td>False</td>\n",
              "      <td>False</td>\n",
              "      <td>False</td>\n",
              "      <td>False</td>\n",
              "      <td>False</td>\n",
              "      <td>False</td>\n",
              "      <td>False</td>\n",
              "      <td>False</td>\n",
              "      <td>False</td>\n",
              "      <td>True</td>\n",
              "      <td>False</td>\n",
              "      <td>False</td>\n",
              "      <td>False</td>\n",
              "      <td>False</td>\n",
              "      <td>False</td>\n",
              "      <td>False</td>\n",
              "      <td>False</td>\n",
              "      <td>False</td>\n",
              "      <td>False</td>\n",
              "      <td>False</td>\n",
              "      <td>False</td>\n",
              "      <td>False</td>\n",
              "      <td>False</td>\n",
              "      <td>12</td>\n",
              "    </tr>\n",
              "    <tr>\n",
              "      <th>1</th>\n",
              "      <td>24644</td>\n",
              "      <td>4</td>\n",
              "      <td>2020</td>\n",
              "      <td>6</td>\n",
              "      <td>19</td>\n",
              "      <td>0</td>\n",
              "      <td>0.0</td>\n",
              "      <td>1.0</td>\n",
              "      <td>0.0</td>\n",
              "      <td>False</td>\n",
              "      <td>3</td>\n",
              "      <td>0</td>\n",
              "      <td>False</td>\n",
              "      <td>False</td>\n",
              "      <td>True</td>\n",
              "      <td>False</td>\n",
              "      <td>False</td>\n",
              "      <td>False</td>\n",
              "      <td>False</td>\n",
              "      <td>False</td>\n",
              "      <td>False</td>\n",
              "      <td>False</td>\n",
              "      <td>False</td>\n",
              "      <td>False</td>\n",
              "      <td>True</td>\n",
              "      <td>False</td>\n",
              "      <td>False</td>\n",
              "      <td>False</td>\n",
              "      <td>False</td>\n",
              "      <td>False</td>\n",
              "      <td>False</td>\n",
              "      <td>False</td>\n",
              "      <td>False</td>\n",
              "      <td>False</td>\n",
              "      <td>True</td>\n",
              "      <td>False</td>\n",
              "      <td>False</td>\n",
              "      <td>False</td>\n",
              "      <td>True</td>\n",
              "      <td>False</td>\n",
              "      <td>False</td>\n",
              "      <td>False</td>\n",
              "      <td>False</td>\n",
              "      <td>True</td>\n",
              "      <td>False</td>\n",
              "      <td>False</td>\n",
              "      <td>False</td>\n",
              "      <td>False</td>\n",
              "      <td>False</td>\n",
              "      <td>False</td>\n",
              "      <td>False</td>\n",
              "      <td>False</td>\n",
              "      <td>False</td>\n",
              "      <td>False</td>\n",
              "      <td>False</td>\n",
              "      <td>False</td>\n",
              "      <td>False</td>\n",
              "      <td>False</td>\n",
              "      <td>False</td>\n",
              "      <td>False</td>\n",
              "      <td>True</td>\n",
              "      <td>False</td>\n",
              "      <td>True</td>\n",
              "      <td>False</td>\n",
              "      <td>False</td>\n",
              "      <td>False</td>\n",
              "      <td>False</td>\n",
              "      <td>True</td>\n",
              "      <td>False</td>\n",
              "      <td>False</td>\n",
              "      <td>False</td>\n",
              "      <td>9</td>\n",
              "    </tr>\n",
              "    <tr>\n",
              "      <th>2</th>\n",
              "      <td>36321</td>\n",
              "      <td>54</td>\n",
              "      <td>2019</td>\n",
              "      <td>6</td>\n",
              "      <td>2</td>\n",
              "      <td>15</td>\n",
              "      <td>2.0</td>\n",
              "      <td>3.0</td>\n",
              "      <td>0.0</td>\n",
              "      <td>True</td>\n",
              "      <td>1</td>\n",
              "      <td>0</td>\n",
              "      <td>False</td>\n",
              "      <td>False</td>\n",
              "      <td>False</td>\n",
              "      <td>False</td>\n",
              "      <td>False</td>\n",
              "      <td>False</td>\n",
              "      <td>False</td>\n",
              "      <td>False</td>\n",
              "      <td>False</td>\n",
              "      <td>False</td>\n",
              "      <td>False</td>\n",
              "      <td>False</td>\n",
              "      <td>True</td>\n",
              "      <td>False</td>\n",
              "      <td>False</td>\n",
              "      <td>False</td>\n",
              "      <td>False</td>\n",
              "      <td>False</td>\n",
              "      <td>False</td>\n",
              "      <td>False</td>\n",
              "      <td>False</td>\n",
              "      <td>False</td>\n",
              "      <td>True</td>\n",
              "      <td>False</td>\n",
              "      <td>False</td>\n",
              "      <td>False</td>\n",
              "      <td>False</td>\n",
              "      <td>False</td>\n",
              "      <td>False</td>\n",
              "      <td>False</td>\n",
              "      <td>False</td>\n",
              "      <td>True</td>\n",
              "      <td>False</td>\n",
              "      <td>False</td>\n",
              "      <td>False</td>\n",
              "      <td>False</td>\n",
              "      <td>False</td>\n",
              "      <td>False</td>\n",
              "      <td>False</td>\n",
              "      <td>False</td>\n",
              "      <td>False</td>\n",
              "      <td>False</td>\n",
              "      <td>False</td>\n",
              "      <td>False</td>\n",
              "      <td>False</td>\n",
              "      <td>False</td>\n",
              "      <td>False</td>\n",
              "      <td>False</td>\n",
              "      <td>False</td>\n",
              "      <td>False</td>\n",
              "      <td>True</td>\n",
              "      <td>False</td>\n",
              "      <td>False</td>\n",
              "      <td>False</td>\n",
              "      <td>False</td>\n",
              "      <td>True</td>\n",
              "      <td>False</td>\n",
              "      <td>False</td>\n",
              "      <td>False</td>\n",
              "      <td>11</td>\n",
              "    </tr>\n",
              "    <tr>\n",
              "      <th>3</th>\n",
              "      <td>2629</td>\n",
              "      <td>42</td>\n",
              "      <td>2020</td>\n",
              "      <td>9</td>\n",
              "      <td>6</td>\n",
              "      <td>17</td>\n",
              "      <td>0.0</td>\n",
              "      <td>1.0</td>\n",
              "      <td>1.0</td>\n",
              "      <td>True</td>\n",
              "      <td>1</td>\n",
              "      <td>0</td>\n",
              "      <td>False</td>\n",
              "      <td>False</td>\n",
              "      <td>False</td>\n",
              "      <td>False</td>\n",
              "      <td>False</td>\n",
              "      <td>False</td>\n",
              "      <td>False</td>\n",
              "      <td>False</td>\n",
              "      <td>False</td>\n",
              "      <td>False</td>\n",
              "      <td>False</td>\n",
              "      <td>False</td>\n",
              "      <td>True</td>\n",
              "      <td>False</td>\n",
              "      <td>False</td>\n",
              "      <td>False</td>\n",
              "      <td>False</td>\n",
              "      <td>False</td>\n",
              "      <td>False</td>\n",
              "      <td>False</td>\n",
              "      <td>False</td>\n",
              "      <td>False</td>\n",
              "      <td>True</td>\n",
              "      <td>False</td>\n",
              "      <td>False</td>\n",
              "      <td>False</td>\n",
              "      <td>False</td>\n",
              "      <td>False</td>\n",
              "      <td>False</td>\n",
              "      <td>False</td>\n",
              "      <td>False</td>\n",
              "      <td>True</td>\n",
              "      <td>False</td>\n",
              "      <td>False</td>\n",
              "      <td>False</td>\n",
              "      <td>False</td>\n",
              "      <td>False</td>\n",
              "      <td>False</td>\n",
              "      <td>False</td>\n",
              "      <td>False</td>\n",
              "      <td>False</td>\n",
              "      <td>False</td>\n",
              "      <td>False</td>\n",
              "      <td>False</td>\n",
              "      <td>False</td>\n",
              "      <td>False</td>\n",
              "      <td>False</td>\n",
              "      <td>False</td>\n",
              "      <td>True</td>\n",
              "      <td>False</td>\n",
              "      <td>False</td>\n",
              "      <td>False</td>\n",
              "      <td>False</td>\n",
              "      <td>False</td>\n",
              "      <td>False</td>\n",
              "      <td>True</td>\n",
              "      <td>False</td>\n",
              "      <td>False</td>\n",
              "      <td>False</td>\n",
              "      <td>8</td>\n",
              "    </tr>\n",
              "    <tr>\n",
              "      <th>4</th>\n",
              "      <td>28169</td>\n",
              "      <td>32</td>\n",
              "      <td>2020</td>\n",
              "      <td>11</td>\n",
              "      <td>4</td>\n",
              "      <td>17</td>\n",
              "      <td>2.0</td>\n",
              "      <td>1.0</td>\n",
              "      <td>0.0</td>\n",
              "      <td>True</td>\n",
              "      <td>1</td>\n",
              "      <td>0</td>\n",
              "      <td>False</td>\n",
              "      <td>False</td>\n",
              "      <td>False</td>\n",
              "      <td>False</td>\n",
              "      <td>False</td>\n",
              "      <td>False</td>\n",
              "      <td>False</td>\n",
              "      <td>False</td>\n",
              "      <td>False</td>\n",
              "      <td>False</td>\n",
              "      <td>False</td>\n",
              "      <td>False</td>\n",
              "      <td>True</td>\n",
              "      <td>False</td>\n",
              "      <td>False</td>\n",
              "      <td>False</td>\n",
              "      <td>False</td>\n",
              "      <td>False</td>\n",
              "      <td>False</td>\n",
              "      <td>False</td>\n",
              "      <td>False</td>\n",
              "      <td>False</td>\n",
              "      <td>True</td>\n",
              "      <td>False</td>\n",
              "      <td>False</td>\n",
              "      <td>False</td>\n",
              "      <td>True</td>\n",
              "      <td>False</td>\n",
              "      <td>False</td>\n",
              "      <td>False</td>\n",
              "      <td>False</td>\n",
              "      <td>True</td>\n",
              "      <td>False</td>\n",
              "      <td>False</td>\n",
              "      <td>False</td>\n",
              "      <td>False</td>\n",
              "      <td>False</td>\n",
              "      <td>False</td>\n",
              "      <td>False</td>\n",
              "      <td>False</td>\n",
              "      <td>False</td>\n",
              "      <td>False</td>\n",
              "      <td>False</td>\n",
              "      <td>False</td>\n",
              "      <td>False</td>\n",
              "      <td>False</td>\n",
              "      <td>False</td>\n",
              "      <td>False</td>\n",
              "      <td>True</td>\n",
              "      <td>False</td>\n",
              "      <td>False</td>\n",
              "      <td>False</td>\n",
              "      <td>False</td>\n",
              "      <td>False</td>\n",
              "      <td>False</td>\n",
              "      <td>True</td>\n",
              "      <td>False</td>\n",
              "      <td>False</td>\n",
              "      <td>False</td>\n",
              "      <td>6</td>\n",
              "    </tr>\n",
              "    <tr>\n",
              "      <th>...</th>\n",
              "      <td>...</td>\n",
              "      <td>...</td>\n",
              "      <td>...</td>\n",
              "      <td>...</td>\n",
              "      <td>...</td>\n",
              "      <td>...</td>\n",
              "      <td>...</td>\n",
              "      <td>...</td>\n",
              "      <td>...</td>\n",
              "      <td>...</td>\n",
              "      <td>...</td>\n",
              "      <td>...</td>\n",
              "      <td>...</td>\n",
              "      <td>...</td>\n",
              "      <td>...</td>\n",
              "      <td>...</td>\n",
              "      <td>...</td>\n",
              "      <td>...</td>\n",
              "      <td>...</td>\n",
              "      <td>...</td>\n",
              "      <td>...</td>\n",
              "      <td>...</td>\n",
              "      <td>...</td>\n",
              "      <td>...</td>\n",
              "      <td>...</td>\n",
              "      <td>...</td>\n",
              "      <td>...</td>\n",
              "      <td>...</td>\n",
              "      <td>...</td>\n",
              "      <td>...</td>\n",
              "      <td>...</td>\n",
              "      <td>...</td>\n",
              "      <td>...</td>\n",
              "      <td>...</td>\n",
              "      <td>...</td>\n",
              "      <td>...</td>\n",
              "      <td>...</td>\n",
              "      <td>...</td>\n",
              "      <td>...</td>\n",
              "      <td>...</td>\n",
              "      <td>...</td>\n",
              "      <td>...</td>\n",
              "      <td>...</td>\n",
              "      <td>...</td>\n",
              "      <td>...</td>\n",
              "      <td>...</td>\n",
              "      <td>...</td>\n",
              "      <td>...</td>\n",
              "      <td>...</td>\n",
              "      <td>...</td>\n",
              "      <td>...</td>\n",
              "      <td>...</td>\n",
              "      <td>...</td>\n",
              "      <td>...</td>\n",
              "      <td>...</td>\n",
              "      <td>...</td>\n",
              "      <td>...</td>\n",
              "      <td>...</td>\n",
              "      <td>...</td>\n",
              "      <td>...</td>\n",
              "      <td>...</td>\n",
              "      <td>...</td>\n",
              "      <td>...</td>\n",
              "      <td>...</td>\n",
              "      <td>...</td>\n",
              "      <td>...</td>\n",
              "      <td>...</td>\n",
              "      <td>...</td>\n",
              "      <td>...</td>\n",
              "      <td>...</td>\n",
              "      <td>...</td>\n",
              "      <td>...</td>\n",
              "    </tr>\n",
              "    <tr>\n",
              "      <th>29620</th>\n",
              "      <td>24846</td>\n",
              "      <td>4</td>\n",
              "      <td>2019</td>\n",
              "      <td>8</td>\n",
              "      <td>30</td>\n",
              "      <td>17</td>\n",
              "      <td>0.0</td>\n",
              "      <td>1.0</td>\n",
              "      <td>0.0</td>\n",
              "      <td>True</td>\n",
              "      <td>1</td>\n",
              "      <td>0</td>\n",
              "      <td>False</td>\n",
              "      <td>False</td>\n",
              "      <td>True</td>\n",
              "      <td>False</td>\n",
              "      <td>False</td>\n",
              "      <td>False</td>\n",
              "      <td>False</td>\n",
              "      <td>False</td>\n",
              "      <td>False</td>\n",
              "      <td>False</td>\n",
              "      <td>False</td>\n",
              "      <td>False</td>\n",
              "      <td>True</td>\n",
              "      <td>False</td>\n",
              "      <td>False</td>\n",
              "      <td>False</td>\n",
              "      <td>False</td>\n",
              "      <td>False</td>\n",
              "      <td>False</td>\n",
              "      <td>False</td>\n",
              "      <td>False</td>\n",
              "      <td>False</td>\n",
              "      <td>True</td>\n",
              "      <td>False</td>\n",
              "      <td>False</td>\n",
              "      <td>False</td>\n",
              "      <td>False</td>\n",
              "      <td>False</td>\n",
              "      <td>False</td>\n",
              "      <td>False</td>\n",
              "      <td>False</td>\n",
              "      <td>True</td>\n",
              "      <td>False</td>\n",
              "      <td>False</td>\n",
              "      <td>False</td>\n",
              "      <td>False</td>\n",
              "      <td>False</td>\n",
              "      <td>False</td>\n",
              "      <td>False</td>\n",
              "      <td>False</td>\n",
              "      <td>False</td>\n",
              "      <td>False</td>\n",
              "      <td>False</td>\n",
              "      <td>False</td>\n",
              "      <td>False</td>\n",
              "      <td>False</td>\n",
              "      <td>False</td>\n",
              "      <td>False</td>\n",
              "      <td>False</td>\n",
              "      <td>False</td>\n",
              "      <td>True</td>\n",
              "      <td>False</td>\n",
              "      <td>False</td>\n",
              "      <td>False</td>\n",
              "      <td>False</td>\n",
              "      <td>True</td>\n",
              "      <td>False</td>\n",
              "      <td>False</td>\n",
              "      <td>False</td>\n",
              "      <td>9</td>\n",
              "    </tr>\n",
              "    <tr>\n",
              "      <th>29621</th>\n",
              "      <td>7320</td>\n",
              "      <td>21</td>\n",
              "      <td>2018</td>\n",
              "      <td>12</td>\n",
              "      <td>21</td>\n",
              "      <td>13</td>\n",
              "      <td>2.0</td>\n",
              "      <td>1.0</td>\n",
              "      <td>0.0</td>\n",
              "      <td>True</td>\n",
              "      <td>1</td>\n",
              "      <td>0</td>\n",
              "      <td>False</td>\n",
              "      <td>False</td>\n",
              "      <td>False</td>\n",
              "      <td>False</td>\n",
              "      <td>False</td>\n",
              "      <td>False</td>\n",
              "      <td>False</td>\n",
              "      <td>False</td>\n",
              "      <td>False</td>\n",
              "      <td>False</td>\n",
              "      <td>False</td>\n",
              "      <td>False</td>\n",
              "      <td>True</td>\n",
              "      <td>False</td>\n",
              "      <td>False</td>\n",
              "      <td>False</td>\n",
              "      <td>False</td>\n",
              "      <td>False</td>\n",
              "      <td>False</td>\n",
              "      <td>False</td>\n",
              "      <td>False</td>\n",
              "      <td>False</td>\n",
              "      <td>False</td>\n",
              "      <td>False</td>\n",
              "      <td>False</td>\n",
              "      <td>False</td>\n",
              "      <td>False</td>\n",
              "      <td>False</td>\n",
              "      <td>False</td>\n",
              "      <td>False</td>\n",
              "      <td>False</td>\n",
              "      <td>False</td>\n",
              "      <td>False</td>\n",
              "      <td>False</td>\n",
              "      <td>False</td>\n",
              "      <td>False</td>\n",
              "      <td>False</td>\n",
              "      <td>False</td>\n",
              "      <td>False</td>\n",
              "      <td>False</td>\n",
              "      <td>False</td>\n",
              "      <td>False</td>\n",
              "      <td>False</td>\n",
              "      <td>False</td>\n",
              "      <td>False</td>\n",
              "      <td>False</td>\n",
              "      <td>False</td>\n",
              "      <td>False</td>\n",
              "      <td>False</td>\n",
              "      <td>False</td>\n",
              "      <td>True</td>\n",
              "      <td>False</td>\n",
              "      <td>False</td>\n",
              "      <td>False</td>\n",
              "      <td>False</td>\n",
              "      <td>True</td>\n",
              "      <td>False</td>\n",
              "      <td>False</td>\n",
              "      <td>False</td>\n",
              "      <td>3</td>\n",
              "    </tr>\n",
              "    <tr>\n",
              "      <th>29622</th>\n",
              "      <td>7447</td>\n",
              "      <td>21</td>\n",
              "      <td>2018</td>\n",
              "      <td>9</td>\n",
              "      <td>29</td>\n",
              "      <td>18</td>\n",
              "      <td>0.0</td>\n",
              "      <td>1.0</td>\n",
              "      <td>0.0</td>\n",
              "      <td>True</td>\n",
              "      <td>1</td>\n",
              "      <td>0</td>\n",
              "      <td>False</td>\n",
              "      <td>False</td>\n",
              "      <td>False</td>\n",
              "      <td>False</td>\n",
              "      <td>False</td>\n",
              "      <td>False</td>\n",
              "      <td>False</td>\n",
              "      <td>False</td>\n",
              "      <td>False</td>\n",
              "      <td>False</td>\n",
              "      <td>False</td>\n",
              "      <td>False</td>\n",
              "      <td>True</td>\n",
              "      <td>False</td>\n",
              "      <td>False</td>\n",
              "      <td>False</td>\n",
              "      <td>False</td>\n",
              "      <td>False</td>\n",
              "      <td>False</td>\n",
              "      <td>False</td>\n",
              "      <td>False</td>\n",
              "      <td>False</td>\n",
              "      <td>False</td>\n",
              "      <td>False</td>\n",
              "      <td>False</td>\n",
              "      <td>False</td>\n",
              "      <td>False</td>\n",
              "      <td>False</td>\n",
              "      <td>False</td>\n",
              "      <td>False</td>\n",
              "      <td>False</td>\n",
              "      <td>False</td>\n",
              "      <td>False</td>\n",
              "      <td>False</td>\n",
              "      <td>False</td>\n",
              "      <td>False</td>\n",
              "      <td>False</td>\n",
              "      <td>False</td>\n",
              "      <td>False</td>\n",
              "      <td>False</td>\n",
              "      <td>False</td>\n",
              "      <td>False</td>\n",
              "      <td>False</td>\n",
              "      <td>False</td>\n",
              "      <td>False</td>\n",
              "      <td>False</td>\n",
              "      <td>False</td>\n",
              "      <td>False</td>\n",
              "      <td>False</td>\n",
              "      <td>False</td>\n",
              "      <td>True</td>\n",
              "      <td>False</td>\n",
              "      <td>False</td>\n",
              "      <td>False</td>\n",
              "      <td>False</td>\n",
              "      <td>True</td>\n",
              "      <td>False</td>\n",
              "      <td>False</td>\n",
              "      <td>False</td>\n",
              "      <td>3</td>\n",
              "    </tr>\n",
              "    <tr>\n",
              "      <th>29623</th>\n",
              "      <td>26737</td>\n",
              "      <td>41</td>\n",
              "      <td>2017</td>\n",
              "      <td>2</td>\n",
              "      <td>5</td>\n",
              "      <td>16</td>\n",
              "      <td>0.0</td>\n",
              "      <td>2.0</td>\n",
              "      <td>0.0</td>\n",
              "      <td>True</td>\n",
              "      <td>1</td>\n",
              "      <td>0</td>\n",
              "      <td>False</td>\n",
              "      <td>False</td>\n",
              "      <td>False</td>\n",
              "      <td>False</td>\n",
              "      <td>False</td>\n",
              "      <td>False</td>\n",
              "      <td>False</td>\n",
              "      <td>False</td>\n",
              "      <td>False</td>\n",
              "      <td>False</td>\n",
              "      <td>False</td>\n",
              "      <td>False</td>\n",
              "      <td>False</td>\n",
              "      <td>False</td>\n",
              "      <td>False</td>\n",
              "      <td>False</td>\n",
              "      <td>False</td>\n",
              "      <td>False</td>\n",
              "      <td>False</td>\n",
              "      <td>False</td>\n",
              "      <td>False</td>\n",
              "      <td>False</td>\n",
              "      <td>False</td>\n",
              "      <td>False</td>\n",
              "      <td>False</td>\n",
              "      <td>False</td>\n",
              "      <td>False</td>\n",
              "      <td>False</td>\n",
              "      <td>False</td>\n",
              "      <td>False</td>\n",
              "      <td>False</td>\n",
              "      <td>False</td>\n",
              "      <td>False</td>\n",
              "      <td>False</td>\n",
              "      <td>False</td>\n",
              "      <td>False</td>\n",
              "      <td>False</td>\n",
              "      <td>False</td>\n",
              "      <td>False</td>\n",
              "      <td>False</td>\n",
              "      <td>False</td>\n",
              "      <td>False</td>\n",
              "      <td>False</td>\n",
              "      <td>False</td>\n",
              "      <td>False</td>\n",
              "      <td>False</td>\n",
              "      <td>False</td>\n",
              "      <td>False</td>\n",
              "      <td>False</td>\n",
              "      <td>False</td>\n",
              "      <td>False</td>\n",
              "      <td>False</td>\n",
              "      <td>False</td>\n",
              "      <td>False</td>\n",
              "      <td>False</td>\n",
              "      <td>False</td>\n",
              "      <td>False</td>\n",
              "      <td>False</td>\n",
              "      <td>False</td>\n",
              "      <td>0</td>\n",
              "    </tr>\n",
              "    <tr>\n",
              "      <th>29624</th>\n",
              "      <td>5151</td>\n",
              "      <td>1</td>\n",
              "      <td>2020</td>\n",
              "      <td>3</td>\n",
              "      <td>15</td>\n",
              "      <td>17</td>\n",
              "      <td>2.0</td>\n",
              "      <td>1.0</td>\n",
              "      <td>1.0</td>\n",
              "      <td>False</td>\n",
              "      <td>3</td>\n",
              "      <td>0</td>\n",
              "      <td>False</td>\n",
              "      <td>False</td>\n",
              "      <td>False</td>\n",
              "      <td>False</td>\n",
              "      <td>False</td>\n",
              "      <td>False</td>\n",
              "      <td>False</td>\n",
              "      <td>False</td>\n",
              "      <td>False</td>\n",
              "      <td>False</td>\n",
              "      <td>False</td>\n",
              "      <td>False</td>\n",
              "      <td>True</td>\n",
              "      <td>False</td>\n",
              "      <td>False</td>\n",
              "      <td>False</td>\n",
              "      <td>False</td>\n",
              "      <td>False</td>\n",
              "      <td>False</td>\n",
              "      <td>False</td>\n",
              "      <td>False</td>\n",
              "      <td>False</td>\n",
              "      <td>True</td>\n",
              "      <td>False</td>\n",
              "      <td>False</td>\n",
              "      <td>False</td>\n",
              "      <td>False</td>\n",
              "      <td>False</td>\n",
              "      <td>False</td>\n",
              "      <td>False</td>\n",
              "      <td>False</td>\n",
              "      <td>True</td>\n",
              "      <td>False</td>\n",
              "      <td>True</td>\n",
              "      <td>False</td>\n",
              "      <td>False</td>\n",
              "      <td>False</td>\n",
              "      <td>False</td>\n",
              "      <td>False</td>\n",
              "      <td>False</td>\n",
              "      <td>False</td>\n",
              "      <td>False</td>\n",
              "      <td>False</td>\n",
              "      <td>False</td>\n",
              "      <td>False</td>\n",
              "      <td>False</td>\n",
              "      <td>False</td>\n",
              "      <td>False</td>\n",
              "      <td>False</td>\n",
              "      <td>False</td>\n",
              "      <td>False</td>\n",
              "      <td>False</td>\n",
              "      <td>False</td>\n",
              "      <td>False</td>\n",
              "      <td>False</td>\n",
              "      <td>True</td>\n",
              "      <td>False</td>\n",
              "      <td>True</td>\n",
              "      <td>False</td>\n",
              "      <td>8</td>\n",
              "    </tr>\n",
              "  </tbody>\n",
              "</table>\n",
              "<p>29625 rows × 72 columns</p>\n",
              "</div>"
            ],
            "text/plain": [
              "       tweet_id  tweet_user_id  ...    172  tweet_topic_count\n",
              "0         34698             10  ...  False                 12\n",
              "1         24644              4  ...  False                  9\n",
              "2         36321             54  ...  False                 11\n",
              "3          2629             42  ...  False                  8\n",
              "4         28169             32  ...  False                  6\n",
              "...         ...            ...  ...    ...                ...\n",
              "29620     24846              4  ...  False                  9\n",
              "29621      7320             21  ...  False                  3\n",
              "29622      7447             21  ...  False                  3\n",
              "29623     26737             41  ...  False                  0\n",
              "29624      5151              1  ...  False                  8\n",
              "\n",
              "[29625 rows x 72 columns]"
            ]
          },
          "metadata": {
            "tags": []
          },
          "execution_count": 88
        }
      ]
    },
    {
      "cell_type": "code",
      "metadata": {
        "id": "H2Dtnr9-WTRJ"
      },
      "source": [
        ""
      ],
      "execution_count": null,
      "outputs": []
    },
    {
      "cell_type": "code",
      "metadata": {
        "id": "Yno4DagiX2sb"
      },
      "source": [
        ""
      ],
      "execution_count": null,
      "outputs": []
    }
  ]
}