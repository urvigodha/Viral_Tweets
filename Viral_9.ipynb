{
  "nbformat": 4,
  "nbformat_minor": 0,
  "metadata": {
    "colab": {
      "name": "Viral_9.ipynb",
      "provenance": [],
      "collapsed_sections": [],
      "toc_visible": true,
      "mount_file_id": "1bJUHNDgrfcaaktUYfpjdJcOgHtZ3HOkf",
      "authorship_tag": "ABX9TyMkGJBcDKcEtjNZ5bLFVE8C",
      "include_colab_link": true
    },
    "kernelspec": {
      "name": "python3",
      "display_name": "Python 3"
    },
    "language_info": {
      "name": "python"
    }
  },
  "cells": [
    {
      "cell_type": "markdown",
      "metadata": {
        "id": "view-in-github",
        "colab_type": "text"
      },
      "source": [
        "<a href=\"https://colab.research.google.com/github/urvigodha/Viral_Tweets/blob/main/Viral_9.ipynb\" target=\"_parent\"><img src=\"https://colab.research.google.com/assets/colab-badge.svg\" alt=\"Open In Colab\"/></a>"
      ]
    },
    {
      "cell_type": "code",
      "metadata": {
        "id": "LnlJt90vJjC4"
      },
      "source": [
        "!pip install catboost"
      ],
      "execution_count": null,
      "outputs": []
    },
    {
      "cell_type": "code",
      "metadata": {
        "id": "fAltT1bg1SSZ"
      },
      "source": [
        "import pandas as pd\n",
        "import numpy as np\n",
        "from sklearn.model_selection import train_test_split\n",
        "from sklearn.ensemble import RandomForestClassifier,AdaBoostClassifier\n",
        "from xgboost import XGBClassifier\n",
        "from sklearn.svm import SVC\n",
        "from sklearn.linear_model import SGDClassifier,LogisticRegression\n",
        "from sklearn.neighbors import KNeighborsClassifier\n",
        "from sklearn.naive_bayes import GaussianNB\n",
        "from sklearn.decomposition import PCA\n",
        "from sklearn.preprocessing import LabelEncoder, MinMaxScaler\n",
        "from sklearn.metrics import confusion_matrix, precision_score, recall_score, f1_score,accuracy_score\n",
        "from sklearn.model_selection import GridSearchCV\n",
        "import seaborn as sns\n",
        "import matplotlib.pyplot as plt\n",
        "# from catboost import CatBoostClassifier"
      ],
      "execution_count": 2,
      "outputs": []
    },
    {
      "cell_type": "code",
      "metadata": {
        "colab": {
          "base_uri": "https://localhost:8080/"
        },
        "id": "TVZ8_IfU1i5Q",
        "outputId": "2be7b9ce-a0fe-4929-8b3e-d72c166a120c"
      },
      "source": [
        "train = pd.read_csv('/content/drive/MyDrive/Viral Tweets Prediction Challenge Dataset/train.csv',index_col=0)\n",
        "test = pd.read_csv('/content/drive/MyDrive/Viral Tweets Prediction Challenge Dataset/test.csv',index_col=0)\n",
        "Y = pd.read_csv('/content/drive/MyDrive/Viral Tweets Prediction Challenge Dataset/Dataset/Tweets/train_tweets.csv').virality\n",
        "print(train.shape)\n",
        "print(Y.shape)\n",
        "print(test.shape)"
      ],
      "execution_count": 3,
      "outputs": [
        {
          "output_type": "stream",
          "text": [
            "(29625, 24)\n",
            "(29625,)\n",
            "(12697, 24)\n"
          ],
          "name": "stdout"
        }
      ]
    },
    {
      "cell_type": "code",
      "metadata": {
        "id": "OLligLN8GccN"
      },
      "source": [
        "train_tweets = pd.read_csv('/content/drive/MyDrive/Viral Tweets Prediction Challenge Dataset/Dataset/Tweets/train_tweets.csv')"
      ],
      "execution_count": 4,
      "outputs": []
    },
    {
      "cell_type": "code",
      "metadata": {
        "id": "OZuuNnI2C5Z7"
      },
      "source": [
        "test.tweet_attachment_class = test.tweet_attachment_class.map({'A':1,'B':2,'C':3})\n",
        "train.tweet_attachment_class = train.tweet_attachment_class.map({'A':1,'B':2,'C':3})\n",
        "train.drop(columns='tweet_topic_ids', inplace=True)\n",
        "test.drop(columns='tweet_topic_ids',inplace=True)"
      ],
      "execution_count": 5,
      "outputs": []
    },
    {
      "cell_type": "code",
      "metadata": {
        "colab": {
          "base_uri": "https://localhost:8080/",
          "height": 223
        },
        "id": "UjOtKmUaWFSa",
        "outputId": "900bf366-4644-4ef1-c987-5ac326e931b0"
      },
      "source": [
        "train.head()"
      ],
      "execution_count": 6,
      "outputs": [
        {
          "output_type": "execute_result",
          "data": {
            "text/html": [
              "<div>\n",
              "<style scoped>\n",
              "    .dataframe tbody tr th:only-of-type {\n",
              "        vertical-align: middle;\n",
              "    }\n",
              "\n",
              "    .dataframe tbody tr th {\n",
              "        vertical-align: top;\n",
              "    }\n",
              "\n",
              "    .dataframe thead th {\n",
              "        text-align: right;\n",
              "    }\n",
              "</style>\n",
              "<table border=\"1\" class=\"dataframe\">\n",
              "  <thead>\n",
              "    <tr style=\"text-align: right;\">\n",
              "      <th></th>\n",
              "      <th>tweet_id</th>\n",
              "      <th>tweet_user_id</th>\n",
              "      <th>tweet_created_at_year</th>\n",
              "      <th>tweet_created_at_month</th>\n",
              "      <th>tweet_created_at_day</th>\n",
              "      <th>tweet_created_at_hour</th>\n",
              "      <th>tweet_hashtag_count</th>\n",
              "      <th>tweet_url_count</th>\n",
              "      <th>tweet_mention_count</th>\n",
              "      <th>tweet_has_attachment</th>\n",
              "      <th>tweet_attachment_class</th>\n",
              "      <th>tweet_language_id</th>\n",
              "      <th>user_id</th>\n",
              "      <th>user_like_count</th>\n",
              "      <th>user_followers_count</th>\n",
              "      <th>user_following_count</th>\n",
              "      <th>user_listed_on_count</th>\n",
              "      <th>user_has_location</th>\n",
              "      <th>user_tweet_count</th>\n",
              "      <th>user_has_url</th>\n",
              "      <th>user_verified</th>\n",
              "      <th>user_created_at_year</th>\n",
              "      <th>user_created_at_month</th>\n",
              "    </tr>\n",
              "  </thead>\n",
              "  <tbody>\n",
              "    <tr>\n",
              "      <th>0</th>\n",
              "      <td>34698.0</td>\n",
              "      <td>10.0</td>\n",
              "      <td>2015.0</td>\n",
              "      <td>12.0</td>\n",
              "      <td>5.0</td>\n",
              "      <td>3.0</td>\n",
              "      <td>2.0</td>\n",
              "      <td>1.0</td>\n",
              "      <td>0.0</td>\n",
              "      <td>False</td>\n",
              "      <td>3</td>\n",
              "      <td>0.0</td>\n",
              "      <td>10</td>\n",
              "      <td>9365</td>\n",
              "      <td>398591</td>\n",
              "      <td>136081</td>\n",
              "      <td>18462</td>\n",
              "      <td>True</td>\n",
              "      <td>169980</td>\n",
              "      <td>True</td>\n",
              "      <td>0</td>\n",
              "      <td>2011</td>\n",
              "      <td>10</td>\n",
              "    </tr>\n",
              "    <tr>\n",
              "      <th>1</th>\n",
              "      <td>24644.0</td>\n",
              "      <td>4.0</td>\n",
              "      <td>2020.0</td>\n",
              "      <td>6.0</td>\n",
              "      <td>19.0</td>\n",
              "      <td>0.0</td>\n",
              "      <td>0.0</td>\n",
              "      <td>1.0</td>\n",
              "      <td>0.0</td>\n",
              "      <td>False</td>\n",
              "      <td>3</td>\n",
              "      <td>0.0</td>\n",
              "      <td>4</td>\n",
              "      <td>15311</td>\n",
              "      <td>459083</td>\n",
              "      <td>1021</td>\n",
              "      <td>7368</td>\n",
              "      <td>False</td>\n",
              "      <td>121193</td>\n",
              "      <td>False</td>\n",
              "      <td>0</td>\n",
              "      <td>2011</td>\n",
              "      <td>6</td>\n",
              "    </tr>\n",
              "    <tr>\n",
              "      <th>2</th>\n",
              "      <td>36321.0</td>\n",
              "      <td>54.0</td>\n",
              "      <td>2019.0</td>\n",
              "      <td>6.0</td>\n",
              "      <td>2.0</td>\n",
              "      <td>15.0</td>\n",
              "      <td>2.0</td>\n",
              "      <td>3.0</td>\n",
              "      <td>0.0</td>\n",
              "      <td>True</td>\n",
              "      <td>1</td>\n",
              "      <td>0.0</td>\n",
              "      <td>54</td>\n",
              "      <td>336</td>\n",
              "      <td>447110</td>\n",
              "      <td>584</td>\n",
              "      <td>10519</td>\n",
              "      <td>True</td>\n",
              "      <td>3786</td>\n",
              "      <td>True</td>\n",
              "      <td>0</td>\n",
              "      <td>2011</td>\n",
              "      <td>12</td>\n",
              "    </tr>\n",
              "    <tr>\n",
              "      <th>3</th>\n",
              "      <td>2629.0</td>\n",
              "      <td>42.0</td>\n",
              "      <td>2020.0</td>\n",
              "      <td>9.0</td>\n",
              "      <td>6.0</td>\n",
              "      <td>17.0</td>\n",
              "      <td>0.0</td>\n",
              "      <td>1.0</td>\n",
              "      <td>1.0</td>\n",
              "      <td>True</td>\n",
              "      <td>1</td>\n",
              "      <td>0.0</td>\n",
              "      <td>42</td>\n",
              "      <td>1124</td>\n",
              "      <td>276541</td>\n",
              "      <td>758</td>\n",
              "      <td>6163</td>\n",
              "      <td>True</td>\n",
              "      <td>3264</td>\n",
              "      <td>True</td>\n",
              "      <td>0</td>\n",
              "      <td>2011</td>\n",
              "      <td>9</td>\n",
              "    </tr>\n",
              "    <tr>\n",
              "      <th>4</th>\n",
              "      <td>28169.0</td>\n",
              "      <td>32.0</td>\n",
              "      <td>2020.0</td>\n",
              "      <td>11.0</td>\n",
              "      <td>4.0</td>\n",
              "      <td>17.0</td>\n",
              "      <td>2.0</td>\n",
              "      <td>1.0</td>\n",
              "      <td>0.0</td>\n",
              "      <td>True</td>\n",
              "      <td>1</td>\n",
              "      <td>0.0</td>\n",
              "      <td>32</td>\n",
              "      <td>0</td>\n",
              "      <td>1587783</td>\n",
              "      <td>2</td>\n",
              "      <td>16414</td>\n",
              "      <td>False</td>\n",
              "      <td>2022</td>\n",
              "      <td>True</td>\n",
              "      <td>0</td>\n",
              "      <td>2013</td>\n",
              "      <td>7</td>\n",
              "    </tr>\n",
              "  </tbody>\n",
              "</table>\n",
              "</div>"
            ],
            "text/plain": [
              "   tweet_id  tweet_user_id  ...  user_created_at_year  user_created_at_month\n",
              "0   34698.0           10.0  ...                  2011                     10\n",
              "1   24644.0            4.0  ...                  2011                      6\n",
              "2   36321.0           54.0  ...                  2011                     12\n",
              "3    2629.0           42.0  ...                  2011                      9\n",
              "4   28169.0           32.0  ...                  2013                      7\n",
              "\n",
              "[5 rows x 23 columns]"
            ]
          },
          "metadata": {
            "tags": []
          },
          "execution_count": 6
        }
      ]
    },
    {
      "cell_type": "code",
      "metadata": {
        "id": "DV8eZACaWk1g"
      },
      "source": [
        "train['user_years'] = train.tweet_created_at_year - train.user_created_at_year   #useful"
      ],
      "execution_count": 7,
      "outputs": []
    },
    {
      "cell_type": "code",
      "metadata": {
        "id": "40f31V3VZ4tZ"
      },
      "source": [
        "train['user_ratio']=train.user_followers_count / train.user_following_count.replace(0,1)"
      ],
      "execution_count": 8,
      "outputs": []
    },
    {
      "cell_type": "code",
      "metadata": {
        "id": "_uJ12G2UZKfJ"
      },
      "source": [
        "train['eng'] = (train['tweet_language_id']==0)  # not very useful (for rf atleast)"
      ],
      "execution_count": 11,
      "outputs": []
    },
    {
      "cell_type": "code",
      "metadata": {
        "id": "p_tTgr-91i13"
      },
      "source": [
        "train['virality'] = Y"
      ],
      "execution_count": 12,
      "outputs": []
    },
    {
      "cell_type": "code",
      "metadata": {
        "id": "iC468ed-Ds3-"
      },
      "source": [
        "train = train.set_index('tweet_id')\n",
        "test = test.set_index('tweet_id')"
      ],
      "execution_count": 13,
      "outputs": []
    },
    {
      "cell_type": "code",
      "metadata": {
        "id": "U_KoRQLh1xJS"
      },
      "source": [
        "mean_virality = train.groupby(['user_id']).mean().virality\n",
        "for i in train.index:\n",
        "  train.loc[i,'mean_virality'] = mean_virality[train.user_id[i]]\n",
        "for i in test.index:\n",
        "  test.loc[i,'mean_virality'] = mean_virality[test.user_id[i]]"
      ],
      "execution_count": 14,
      "outputs": []
    },
    {
      "cell_type": "code",
      "metadata": {
        "id": "X2YNvVuT9BzT"
      },
      "source": [
        "train.drop('virality',axis=1,inplace=True)"
      ],
      "execution_count": 15,
      "outputs": []
    },
    {
      "cell_type": "code",
      "metadata": {
        "colab": {
          "base_uri": "https://localhost:8080/",
          "height": 296
        },
        "id": "ztq6R7OB9XC-",
        "outputId": "8681379b-9300-46c0-81da-504772ef0dfe"
      },
      "source": [
        "rf = RandomForestClassifier()\n",
        "rf.fit(train,Y)\n",
        "sorted_idx = rf.feature_importances_.argsort()\n",
        "plt.barh(train.columns[sorted_idx], rf.feature_importances_[sorted_idx])\n",
        "plt.xlabel(\"Random Forest Feature Importance\")"
      ],
      "execution_count": 39,
      "outputs": [
        {
          "output_type": "execute_result",
          "data": {
            "text/plain": [
              "Text(0.5, 0, 'Random Forest Feature Importance')"
            ]
          },
          "metadata": {
            "tags": []
          },
          "execution_count": 39
        },
        {
          "output_type": "display_data",
          "data": {
            "image/png": "[encoded data removed]",
            "text/plain": [
              "<Figure size 432x288 with 1 Axes>"
            ]
          },
          "metadata": {
            "tags": [],
            "needs_background": "light"
          }
        }
      ]
    },
    {
      "cell_type": "code",
      "metadata": {
        "colab": {
          "base_uri": "https://localhost:8080/"
        },
        "id": "4TqUDzcuVTlC",
        "outputId": "7b12d5ec-cd97-469b-cd90-8e833a1ea192"
      },
      "source": [
        "rf.feature_importances_[-11:].sum()"
      ],
      "execution_count": 103,
      "outputs": [
        {
          "output_type": "execute_result",
          "data": {
            "text/plain": [
              "0.2671153512471562"
            ]
          },
          "metadata": {
            "tags": []
          },
          "execution_count": 103
        }
      ]
    },
    {
      "cell_type": "code",
      "metadata": {
        "colab": {
          "base_uri": "https://localhost:8080/"
        },
        "id": "uR9n-HYlVZWE",
        "outputId": "a93465d9-d877-44bf-a559-6fc0dadfc282"
      },
      "source": [
        "train.columns[-11:]"
      ],
      "execution_count": 100,
      "outputs": [
        {
          "output_type": "execute_result",
          "data": {
            "text/plain": [
              "Index(['user_like_count', 'user_followers_count', 'user_following_count',\n",
              "       'user_listed_on_count', 'user_has_location', 'user_tweet_count',\n",
              "       'user_has_url', 'user_verified', 'user_created_at_year',\n",
              "       'user_created_at_month', 'mean_virality'],\n",
              "      dtype='object')"
            ]
          },
          "metadata": {
            "tags": []
          },
          "execution_count": 100
        }
      ]
    },
    {
      "cell_type": "code",
      "metadata": {
        "colab": {
          "base_uri": "https://localhost:8080/",
          "height": 296
        },
        "id": "mf0RUsxC90p7",
        "outputId": "7d48f7ad-eb5d-4ca5-b77d-693b0a004e29"
      },
      "source": [
        "rf2 = RandomForestClassifier()\n",
        "rf2.fit(train,Y)\n",
        "sorted_idx = rf2.feature_importances_.argsort()\n",
        "plt.barh(train.columns[sorted_idx], rf2.feature_importances_[sorted_idx])\n",
        "plt.xlabel(\"Random Forest Feature Importance\")"
      ],
      "execution_count": 83,
      "outputs": [
        {
          "output_type": "execute_result",
          "data": {
            "text/plain": [
              "Text(0.5, 0, 'Random Forest Feature Importance')"
            ]
          },
          "metadata": {
            "tags": []
          },
          "execution_count": 83
        },
        {
          "output_type": "display_data",
          "data": {
            "image/png": "[encoded data removed]",
            "text/plain": [
              "<Figure size 432x288 with 1 Axes>"
            ]
          },
          "metadata": {
            "tags": [],
            "needs_background": "light"
          }
        }
      ]
    },
    {
      "cell_type": "code",
      "metadata": {
        "colab": {
          "base_uri": "https://localhost:8080/"
        },
        "id": "pGAB8jTXNqi4",
        "outputId": "5ea1bbe1-aba5-4d26-a0a1-a750ec27f1d6"
      },
      "source": [
        "rf2.feature_importances_[-12:].sum()"
      ],
      "execution_count": 104,
      "outputs": [
        {
          "output_type": "execute_result",
          "data": {
            "text/plain": [
              "0.2800798602542903"
            ]
          },
          "metadata": {
            "tags": []
          },
          "execution_count": 104
        }
      ]
    },
    {
      "cell_type": "code",
      "metadata": {
        "colab": {
          "base_uri": "https://localhost:8080/",
          "height": 296
        },
        "id": "rq7v52iyXDud",
        "outputId": "7a938b66-d57d-4564-b235-83e445393adf"
      },
      "source": [
        "rf3 = RandomForestClassifier()\n",
        "rf3.fit(train,Y)\n",
        "sorted_idx = rf3.feature_importances_.argsort()\n",
        "plt.barh(train.columns[sorted_idx], rf3.feature_importances_[sorted_idx])\n",
        "plt.xlabel(\"Random Forest Feature Importance\")"
      ],
      "execution_count": 111,
      "outputs": [
        {
          "output_type": "execute_result",
          "data": {
            "text/plain": [
              "Text(0.5, 0, 'Random Forest Feature Importance')"
            ]
          },
          "metadata": {
            "tags": []
          },
          "execution_count": 111
        },
        {
          "output_type": "display_data",
          "data": {
            "image/png": "[encoded data removed]",
            "text/plain": [
              "<Figure size 432x288 with 1 Axes>"
            ]
          },
          "metadata": {
            "tags": [],
            "needs_background": "light"
          }
        }
      ]
    },
    {
      "cell_type": "code",
      "metadata": {
        "colab": {
          "base_uri": "https://localhost:8080/"
        },
        "id": "vmN1vBnVNu-0",
        "outputId": "5b746d60-ec5d-4e75-ec79-94a9738e7312"
      },
      "source": [
        "rf3.feature_importances_[-13:].sum()"
      ],
      "execution_count": 112,
      "outputs": [
        {
          "output_type": "execute_result",
          "data": {
            "text/plain": [
              "0.30602971649162647"
            ]
          },
          "metadata": {
            "tags": []
          },
          "execution_count": 112
        }
      ]
    },
    {
      "cell_type": "code",
      "metadata": {
        "id": "DYmBk62OCa2l",
        "colab": {
          "base_uri": "https://localhost:8080/",
          "height": 296
        },
        "outputId": "774ee24e-18bc-46a4-c945-8ad7c450243f"
      },
      "source": [
        "rf4 = RandomForestClassifier()\n",
        "rf4.fit(train,Y)\n",
        "sorted_idx = rf4.feature_importances_.argsort()\n",
        "plt.barh(train.columns[sorted_idx], rf4.feature_importances_[sorted_idx])\n",
        "plt.xlabel(\"Random Forest Feature Importance\")"
      ],
      "execution_count": 122,
      "outputs": [
        {
          "output_type": "execute_result",
          "data": {
            "text/plain": [
              "Text(0.5, 0, 'Random Forest Feature Importance')"
            ]
          },
          "metadata": {
            "tags": []
          },
          "execution_count": 122
        },
        {
          "output_type": "display_data",
          "data": {
            "image/png": "[encoded data removed]",
            "text/plain": [
              "<Figure size 432x288 with 1 Axes>"
            ]
          },
          "metadata": {
            "tags": [],
            "needs_background": "light"
          }
        }
      ]
    },
    {
      "cell_type": "code",
      "metadata": {
        "colab": {
          "base_uri": "https://localhost:8080/",
          "height": 296
        },
        "id": "AEs1pvKoZjIu",
        "outputId": "d5d16c1d-8df8-467e-e0f4-b39ccd310f59"
      },
      "source": [
        "rf5 = RandomForestClassifier()\n",
        "rf5.fit(train,Y)\n",
        "sorted_idx = rf5.feature_importances_.argsort()\n",
        "plt.barh(train.columns[sorted_idx], rf5.feature_importances_[sorted_idx])\n",
        "plt.xlabel(\"Random Forest Feature Importance\")"
      ],
      "execution_count": 16,
      "outputs": [
        {
          "output_type": "execute_result",
          "data": {
            "text/plain": [
              "Text(0.5, 0, 'Random Forest Feature Importance')"
            ]
          },
          "metadata": {
            "tags": []
          },
          "execution_count": 16
        },
        {
          "output_type": "display_data",
          "data": {
            "image/png": "[encoded data removed]",
            "text/plain": [
              "<Figure size 432x288 with 1 Axes>"
            ]
          },
          "metadata": {
            "tags": [],
            "needs_background": "light"
          }
        }
      ]
    },
    {
      "cell_type": "code",
      "metadata": {
        "colab": {
          "base_uri": "https://localhost:8080/"
        },
        "id": "LKbZlYm0dVQz",
        "outputId": "a8f520b9-2108-4603-c1d8-bebd22318513"
      },
      "source": [
        "rf5.feature_importances_[-15:].sum()"
      ],
      "execution_count": 19,
      "outputs": [
        {
          "output_type": "execute_result",
          "data": {
            "text/plain": [
              "0.3130410497258061"
            ]
          },
          "metadata": {
            "tags": []
          },
          "execution_count": 19
        }
      ]
    },
    {
      "cell_type": "code",
      "metadata": {
        "id": "MLFBmOrsdtgy"
      },
      "source": [
        "def boolean_df(item_lists, unique_items):\n",
        "# Create empty dict\n",
        "    bool_dict = {}\n",
        "    \n",
        "    # Loop through all the tags\n",
        "    for i, item in enumerate(unique_items):\n",
        "        \n",
        "        # Apply boolean mask\n",
        "        bool_dict[item] = item_lists.apply(lambda x: item in x)\n",
        "            \n",
        "            \n",
        "    # Return the results as a dataframe\n",
        "    return pd.DataFrame(bool_dict)\n",
        "\n",
        "def to_1D(series):\n",
        " return pd.Series([x for _list in series for x in _list])"
      ],
      "execution_count": 20,
      "outputs": []
    },
    {
      "cell_type": "code",
      "metadata": {
        "colab": {
          "base_uri": "https://localhost:8080/"
        },
        "id": "sxPCDakQ2Nqi",
        "outputId": "e2e63c7d-8576-4912-c4e8-fbc9ee1dce82"
      },
      "source": [
        "X_train, X_test, y_train, y_test = train_test_split(train, Y, test_size=0.3)\n",
        "print(X_train.shape)\n",
        "print(X_test.shape)\n",
        "print(y_train.shape)\n",
        "print(y_test.shape)"
      ],
      "execution_count": 114,
      "outputs": [
        {
          "output_type": "stream",
          "text": [
            "(20737, 24)\n",
            "(8888, 24)\n",
            "(20737,)\n",
            "(8888,)\n"
          ],
          "name": "stdout"
        }
      ]
    },
    {
      "cell_type": "code",
      "metadata": {
        "colab": {
          "base_uri": "https://localhost:8080/"
        },
        "id": "HD8d8T5zL8t6",
        "outputId": "a0b1619f-04b9-482a-ec46-d4ae3e337da5"
      },
      "source": [
        "clf = LogisticRegression(C=1, penalty='l1', solver='liblinear')\n",
        "clf.fit(X_train,y_train)\n",
        "print('Train: ',clf.score(X_train,y_train))\n",
        "print('Test: ',clf.score(X_test,y_test))"
      ],
      "execution_count": 87,
      "outputs": [
        {
          "output_type": "stream",
          "text": [
            "Train:  0.6329266528427449\n",
            "Test:  0.634000900090009\n"
          ],
          "name": "stdout"
        }
      ]
    },
    {
      "cell_type": "code",
      "metadata": {
        "colab": {
          "base_uri": "https://localhost:8080/"
        },
        "id": "ezlIMJQeCju1",
        "outputId": "873a0265-5538-4c49-ee4b-6a466f641dca"
      },
      "source": [
        "clf = KNeighborsClassifier()\n",
        "clf.fit(X_train,y_train)\n",
        "print('Train: ',clf.score(X_train,y_train))\n",
        "print('Test: ',clf.score(X_test,y_test))"
      ],
      "execution_count": 88,
      "outputs": [
        {
          "output_type": "stream",
          "text": [
            "Train:  0.725177219462796\n",
            "Test:  0.6361386138613861\n"
          ],
          "name": "stdout"
        }
      ]
    },
    {
      "cell_type": "code",
      "metadata": {
        "colab": {
          "base_uri": "https://localhost:8080/"
        },
        "id": "8vPYN3eYC60Y",
        "outputId": "2d72459a-ce92-47ec-c6a1-e86729fc5afb"
      },
      "source": [
        "clf = KNeighborsClassifier(10)\n",
        "clf.fit(X_train,y_train)\n",
        "print('Train: ',clf.score(X_train,y_train))\n",
        "print('Test: ',clf.score(X_test,y_test))"
      ],
      "execution_count": null,
      "outputs": [
        {
          "output_type": "stream",
          "text": [
            "Train:  0.700438829145971\n",
            "Test:  0.6479522952295229\n"
          ],
          "name": "stdout"
        }
      ]
    },
    {
      "cell_type": "code",
      "metadata": {
        "colab": {
          "base_uri": "https://localhost:8080/"
        },
        "id": "Wmjxnjc0C-dj",
        "outputId": "d98a368a-c213-4fdb-d424-2e697d4b2505"
      },
      "source": [
        "clf = KNeighborsClassifier(50)\n",
        "clf.fit(X_train,y_train)\n",
        "print('Train: ',clf.score(X_train,y_train))\n",
        "print('Test: ',clf.score(X_test,y_test))"
      ],
      "execution_count": null,
      "outputs": [
        {
          "output_type": "stream",
          "text": [
            "Train:  0.6619086656700583\n",
            "Test:  0.6488523852385238\n"
          ],
          "name": "stdout"
        }
      ]
    },
    {
      "cell_type": "code",
      "metadata": {
        "id": "2FV11dmyDriA"
      },
      "source": [
        "k = range(10,50)\n",
        "knn_train = []\n",
        "knn_test = []\n",
        "for i in k:\n",
        "  clf = KNeighborsClassifier(i)\n",
        "  clf.fit(X_train,y_train)\n",
        "  knn_train.append(clf.score(X_train,y_train))\n",
        "  knn_test.append(clf.score(X_test,y_test))"
      ],
      "execution_count": null,
      "outputs": []
    },
    {
      "cell_type": "code",
      "metadata": {
        "colab": {
          "base_uri": "https://localhost:8080/",
          "height": 282
        },
        "id": "N-XpH2d2E4DJ",
        "outputId": "9f7ecd77-76fa-46eb-9778-4a01b82bfd9f"
      },
      "source": [
        "plt.plot(k,knn_train)\n",
        "plt.plot(k,knn_test)"
      ],
      "execution_count": null,
      "outputs": [
        {
          "output_type": "execute_result",
          "data": {
            "text/plain": [
              "[<matplotlib.lines.Line2D at 0x7ff174e9bb50>]"
            ]
          },
          "metadata": {
            "tags": []
          },
          "execution_count": 75
        },
        {
          "output_type": "display_data",
          "data": {
            "image/png": "[encoded data removed]",
            "text/plain": [
              "<Figure size 432x288 with 1 Axes>"
            ]
          },
          "metadata": {
            "tags": [],
            "needs_background": "light"
          }
        }
      ]
    },
    {
      "cell_type": "code",
      "metadata": {
        "colab": {
          "base_uri": "https://localhost:8080/"
        },
        "id": "zGvc3jYzMIyd",
        "outputId": "fc7ede4c-03ff-443e-fbea-03c9219b2f78"
      },
      "source": [
        "max(knn_test)"
      ],
      "execution_count": null,
      "outputs": [
        {
          "output_type": "execute_result",
          "data": {
            "text/plain": [
              "0.6534653465346535"
            ]
          },
          "metadata": {
            "tags": []
          },
          "execution_count": 78
        }
      ]
    },
    {
      "cell_type": "code",
      "metadata": {
        "colab": {
          "base_uri": "https://localhost:8080/"
        },
        "id": "3vWU4zs8GMVc",
        "outputId": "b36ed6ea-0a94-4862-8172-8d5b9161cb6f"
      },
      "source": [
        "knn_test.index(max(knn_test))"
      ],
      "execution_count": null,
      "outputs": [
        {
          "output_type": "execute_result",
          "data": {
            "text/plain": [
              "14"
            ]
          },
          "metadata": {
            "tags": []
          },
          "execution_count": 80
        }
      ]
    },
    {
      "cell_type": "code",
      "metadata": {
        "colab": {
          "base_uri": "https://localhost:8080/"
        },
        "id": "Wn6N21MLFWa0",
        "outputId": "ef32bef9-a1f4-4c05-e380-e69944c43c45"
      },
      "source": [
        "clf = SVC()\n",
        "clf.fit(X_train,y_train)\n",
        "print('Train: ',clf.score(X_train,y_train))\n",
        "print('Test: ',clf.score(X_test,y_test))"
      ],
      "execution_count": null,
      "outputs": [
        {
          "output_type": "stream",
          "text": [
            "Train:  0.5385542749674495\n",
            "Test:  0.5414041404140414\n"
          ],
          "name": "stdout"
        }
      ]
    },
    {
      "cell_type": "code",
      "metadata": {
        "colab": {
          "base_uri": "https://localhost:8080/"
        },
        "id": "zMFVq2NDFsjn",
        "outputId": "1e23bdea-191c-40ed-ec3c-b6b8f7f1a532"
      },
      "source": [
        "clf = SGDClassifier()\n",
        "clf.fit(X_train,y_train)\n",
        "print('Train: ',clf.score(X_train,y_train))\n",
        "print('Test: ',clf.score(X_test,y_test))"
      ],
      "execution_count": null,
      "outputs": [
        {
          "output_type": "stream",
          "text": [
            "Train:  0.46429088103390076\n",
            "Test:  0.47164716471647167\n"
          ],
          "name": "stdout"
        }
      ]
    },
    {
      "cell_type": "code",
      "metadata": {
        "colab": {
          "base_uri": "https://localhost:8080/"
        },
        "id": "Qki7SSEXF0NF",
        "outputId": "7c22a544-adcc-4942-98cb-45783eba975c"
      },
      "source": [
        "clf = XGBClassifier()\n",
        "clf.fit(X_train,y_train)\n",
        "print('Train: ',clf.score(X_train,y_train))\n",
        "print('Test: ',clf.score(X_test,y_test))"
      ],
      "execution_count": null,
      "outputs": [
        {
          "output_type": "stream",
          "text": [
            "Train:  0.6593528475671505\n",
            "Test:  0.6529027902790279\n"
          ],
          "name": "stdout"
        }
      ]
    },
    {
      "cell_type": "code",
      "metadata": {
        "colab": {
          "base_uri": "https://localhost:8080/"
        },
        "id": "6p_nTQ2hGmll",
        "outputId": "c4992b81-dca5-43a4-a2c8-637f44553400"
      },
      "source": [
        "clf = RandomForestClassifier()\n",
        "clf.fit(X_train,y_train)\n",
        "print('Train: ',clf.score(X_train,y_train))\n",
        "print('Test: ',clf.score(X_test,y_test))"
      ],
      "execution_count": null,
      "outputs": [
        {
          "output_type": "stream",
          "text": [
            "Train:  1.0\n",
            "Test:  0.6612286228622862\n"
          ],
          "name": "stdout"
        }
      ]
    },
    {
      "cell_type": "code",
      "metadata": {
        "colab": {
          "base_uri": "https://localhost:8080/"
        },
        "id": "ZGHL8MkBCb_v",
        "outputId": "4cdaf216-2b50-4551-caf6-bb4525f652da"
      },
      "source": [
        "clf = RandomForestClassifier(1200,max_depth= 25,min_samples_leaf= 1,min_samples_split= 10)\n",
        "clf.fit(X_train,y_train)\n",
        "print('Train: ',clf.score(X_train,y_train))\n",
        "print('Test: ',clf.score(X_test,y_test))"
      ],
      "execution_count": 117,
      "outputs": [
        {
          "output_type": "stream",
          "text": [
            "Train:  0.8206105029657135\n",
            "Test:  0.6723672367236724\n"
          ],
          "name": "stdout"
        }
      ]
    },
    {
      "cell_type": "code",
      "metadata": {
        "colab": {
          "base_uri": "https://localhost:8080/"
        },
        "id": "HtHEYo97Id6W",
        "outputId": "70c979da-c991-494e-bb85-ee8002276c75"
      },
      "source": [
        "clf = GaussianNB()\n",
        "clf.fit(X_train,y_train)\n",
        "print('Train: ',clf.score(X_train,y_train))\n",
        "print('Test: ',clf.score(X_test,y_test))"
      ],
      "execution_count": null,
      "outputs": [
        {
          "output_type": "stream",
          "text": [
            "Train:  0.5398562955104402\n",
            "Test:  0.5434293429342935\n"
          ],
          "name": "stdout"
        }
      ]
    },
    {
      "cell_type": "code",
      "metadata": {
        "colab": {
          "base_uri": "https://localhost:8080/"
        },
        "id": "PcyQ068rIqkN",
        "outputId": "cf18696c-ce66-4a84-9077-f81a4490930b"
      },
      "source": [
        "clf = AdaBoostClassifier()\n",
        "clf.fit(X_train,y_train)\n",
        "print('Train: ',clf.score(X_train,y_train))\n",
        "print('Test: ',clf.score(X_test,y_test))"
      ],
      "execution_count": null,
      "outputs": [
        {
          "output_type": "stream",
          "text": [
            "Train:  0.6315764093166804\n",
            "Test:  0.6284878487848785\n"
          ],
          "name": "stdout"
        }
      ]
    },
    {
      "cell_type": "code",
      "metadata": {
        "id": "convDsK3I0zi"
      },
      "source": [
        "clf = CatBoostClassifier()\n",
        "clf.fit(X_train,y_train)\n",
        "print('Train: ',clf.score(X_train,y_train))\n",
        "print('Test: ',clf.score(X_test,y_test))"
      ],
      "execution_count": null,
      "outputs": []
    },
    {
      "cell_type": "code",
      "metadata": {
        "colab": {
          "base_uri": "https://localhost:8080/"
        },
        "id": "2UzgJXiAJ_67",
        "outputId": "53a0350a-0294-4c48-a5b9-6052cdbab1db"
      },
      "source": [
        "print('Train: ',clf.score(X_train,y_train))\n",
        "print('Test: ',clf.score(X_test,y_test))"
      ],
      "execution_count": null,
      "outputs": [
        {
          "output_type": "stream",
          "text": [
            "Train:  0.7809712108791049\n",
            "Test:  0.6667416741674167\n"
          ],
          "name": "stdout"
        }
      ]
    },
    {
      "cell_type": "code",
      "metadata": {
        "id": "A36j-1uLJtvS"
      },
      "source": [
        "clf.fit(train,Y)"
      ],
      "execution_count": null,
      "outputs": []
    },
    {
      "cell_type": "code",
      "metadata": {
        "id": "iN2fFOyBKHbN"
      },
      "source": [
        "sol = test.tweet_id.to_frame()\n",
        "sol['virality'] = clf.predict(test)\n",
        "sol.astype(int).to_csv('sol.csv',index=False)"
      ],
      "execution_count": null,
      "outputs": []
    },
    {
      "cell_type": "code",
      "metadata": {
        "id": "vQCL5LTQPVEq"
      },
      "source": [
        ""
      ],
      "execution_count": null,
      "outputs": []
    },
    {
      "cell_type": "code",
      "metadata": {
        "id": "OVBWzRF4LlLn"
      },
      "source": [
        "clf1 = KNeighborsClassifier(14)\n",
        "clf2 = XGBClassifier()\n",
        "clf3 = RandomForestClassifier(1200,max_depth= 25,min_samples_leaf= 1,min_samples_split= 10)\n",
        "clf4 = CatBoostClassifier(verbose=0)\n",
        "pred_train = np.zeros((X_train.shape[0],5))\n",
        "pred_test = np.zeros((X_test.shape[0],5))\n",
        "for clf in [clf1,clf2,clf3,clf4]:\n",
        "  clf.fit(X_train,y_train)\n",
        "  pred_train += clf.predict_proba(X_train)\n",
        "  pred_test += clf.predict_proba(X_test)\n",
        "pred_train = np.argmax(pred_train,axis=1)+1\n",
        "pred_test = np.argmax(pred_test,axis=1)+1\n",
        "print('Train Accuracy: ',accuracy_score(y_train,pred_train))\n",
        "print('Test Accuracy: ',accuracy_score(y_test,pred_test))"
      ],
      "execution_count": null,
      "outputs": []
    },
    {
      "cell_type": "code",
      "metadata": {
        "colab": {
          "base_uri": "https://localhost:8080/"
        },
        "id": "Cu-lQvGmO3oU",
        "outputId": "f9190a28-58d6-46eb-f839-815413945b63"
      },
      "source": [
        "pred_train = np.zeros((train.shape[0],5))\n",
        "pred_test = np.zeros((test.shape[0],5))\n",
        "for clf in [clf1,clf2,clf3,clf4]:\n",
        "  clf.fit(train,Y)\n",
        "  pred_train += clf.predict_proba(train)\n",
        "  pred_test += clf.predict_proba(test)\n",
        "pred_train = np.argmax(pred_train,axis=1)+1\n",
        "pred_test = np.argmax(pred_test,axis=1)+1\n",
        "print('Train Accuracy: ',accuracy_score(Y,pred_train))\n",
        "# print('Test Accuracy: ',accuracy_score(y_test,pred_test))"
      ],
      "execution_count": null,
      "outputs": [
        {
          "output_type": "stream",
          "text": [
            "Train Accuracy:  0.7502447257383966\n"
          ],
          "name": "stdout"
        }
      ]
    },
    {
      "cell_type": "code",
      "metadata": {
        "id": "zscCqms8PvjP"
      },
      "source": [
        "sol = test.tweet_id.to_frame()\n",
        "sol['virality'] = pred_test\n",
        "sol.astype(int).to_csv('sol2.csv',index=False)"
      ],
      "execution_count": null,
      "outputs": []
    },
    {
      "cell_type": "code",
      "metadata": {
        "colab": {
          "base_uri": "https://localhost:8080/",
          "height": 162
        },
        "id": "uMx4SMF4QLxm",
        "outputId": "a88a82b4-8b57-4916-803a-171c9f07c77c"
      },
      "source": [
        "X_train.describe()"
      ],
      "execution_count": null,
      "outputs": [
        {
          "output_type": "error",
          "ename": "AttributeError",
          "evalue": "ignored",
          "traceback": [
            "\u001b[0;31m---------------------------------------------------------------------------\u001b[0m",
            "\u001b[0;31mAttributeError\u001b[0m                            Traceback (most recent call last)",
            "\u001b[0;32m<ipython-input-90-9d771e2afdf3>\u001b[0m in \u001b[0;36m<module>\u001b[0;34m()\u001b[0m\n\u001b[0;32m----> 1\u001b[0;31m \u001b[0mX_train\u001b[0m\u001b[0;34m.\u001b[0m\u001b[0mdescribe\u001b[0m\u001b[0;34m(\u001b[0m\u001b[0;34m)\u001b[0m\u001b[0;34m\u001b[0m\u001b[0;34m\u001b[0m\u001b[0m\n\u001b[0m",
            "\u001b[0;31mAttributeError\u001b[0m: 'numpy.ndarray' object has no attribute 'describe'"
          ]
        }
      ]
    },
    {
      "cell_type": "code",
      "metadata": {
        "id": "AHxZyR1OYpwB"
      },
      "source": [
        "from sklearn.preprocessing import RobustScaler\n",
        "scaler = RobustScaler()\n",
        "scaler.fit(X_train)\n",
        "X_train = scaler.transform(X_train)\n",
        "X_test = scaler.transform(X_test)"
      ],
      "execution_count": null,
      "outputs": []
    },
    {
      "cell_type": "code",
      "metadata": {
        "id": "WG4JDRhQZAX6"
      },
      "source": [
        ""
      ],
      "execution_count": null,
      "outputs": []
    }
  ]
}