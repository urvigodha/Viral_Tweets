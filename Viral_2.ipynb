{
  "nbformat": 4,
  "nbformat_minor": 0,
  "metadata": {
    "colab": {
      "name": "Viral_2.ipynb",
      "provenance": [],
      "mount_file_id": "1rM7CKeOl4ONsVthh2aflUpDFDrxsphey",
      "authorship_tag": "ABX9TyNBLE+jg9HG/y4/Cb6A9hf/"
    },
    "kernelspec": {
      "name": "python3",
      "display_name": "Python 3"
    },
    "language_info": {
      "name": "python"
    }
  },
  "cells": [
    {
      "cell_type": "code",
      "metadata": {
        "id": "vmsySQFj2XBw"
      },
      "source": [
        "import pandas as pd\n",
        "import numpy as np\n",
        "from sklearn.model_selection import train_test_split\n",
        "from sklearn.ensemble import RandomForestClassifier\n",
        "from xgboost import XGBClassifier\n",
        "from sklearn.svm import SVC\n",
        "from sklearn.linear_model import SGDClassifier\n",
        "from sklearn.neighbors import KNeighborsClassifier\n",
        "from sklearn.naive_bayes import GaussianNB\n",
        "from sklearn.decomposition import PCA\n",
        "from sklearn.preprocessing import LabelEncoder, MinMaxScaler\n",
        "from sklearn.metrics import confusion_matrix, precision_score, recall_score, f1_score\n",
        "from sklearn.model_selection import GridSearchCV\n",
        "import seaborn as sns\n",
        "from keras.layers import LSTM,Dense\n",
        "from keras.models import Sequential\n",
        "from keras.utils import plot_model"
      ],
      "execution_count": null,
      "outputs": []
    },
    {
      "cell_type": "code",
      "metadata": {
        "id": "VTORY91s2eGN"
      },
      "source": [
        "train  = pd.read_csv('/content/drive/MyDrive/Viral Tweets Prediction Challenge Dataset/Dataset/Tweets/train_tweets.csv')\n",
        "test = pd.read_csv('/content/drive/MyDrive/Viral Tweets Prediction Challenge Dataset/Dataset/Tweets/test_tweets.csv')"
      ],
      "execution_count": null,
      "outputs": []
    },
    {
      "cell_type": "code",
      "metadata": {
        "colab": {
          "base_uri": "https://localhost:8080/",
          "height": 350
        },
        "id": "cCw_lNzpcPLh",
        "outputId": "a33b9136-2fdd-4db6-eb2f-9037cfa783c0"
      },
      "source": [
        "train.head()"
      ],
      "execution_count": null,
      "outputs": [
        {
          "output_type": "execute_result",
          "data": {
            "text/html": [
              "<div>\n",
              "<style scoped>\n",
              "    .dataframe tbody tr th:only-of-type {\n",
              "        vertical-align: middle;\n",
              "    }\n",
              "\n",
              "    .dataframe tbody tr th {\n",
              "        vertical-align: top;\n",
              "    }\n",
              "\n",
              "    .dataframe thead th {\n",
              "        text-align: right;\n",
              "    }\n",
              "</style>\n",
              "<table border=\"1\" class=\"dataframe\">\n",
              "  <thead>\n",
              "    <tr style=\"text-align: right;\">\n",
              "      <th></th>\n",
              "      <th>tweet_id</th>\n",
              "      <th>tweet_user_id</th>\n",
              "      <th>tweet_created_at_year</th>\n",
              "      <th>tweet_created_at_month</th>\n",
              "      <th>tweet_created_at_day</th>\n",
              "      <th>tweet_created_at_hour</th>\n",
              "      <th>tweet_hashtag_count</th>\n",
              "      <th>tweet_url_count</th>\n",
              "      <th>tweet_mention_count</th>\n",
              "      <th>tweet_has_attachment</th>\n",
              "      <th>tweet_attachment_class</th>\n",
              "      <th>tweet_language_id</th>\n",
              "      <th>tweet_topic_ids</th>\n",
              "      <th>virality</th>\n",
              "    </tr>\n",
              "  </thead>\n",
              "  <tbody>\n",
              "    <tr>\n",
              "      <th>0</th>\n",
              "      <td>34698</td>\n",
              "      <td>10</td>\n",
              "      <td>2015</td>\n",
              "      <td>12</td>\n",
              "      <td>5</td>\n",
              "      <td>3</td>\n",
              "      <td>2.0</td>\n",
              "      <td>1.0</td>\n",
              "      <td>0.0</td>\n",
              "      <td>False</td>\n",
              "      <td>C</td>\n",
              "      <td>0</td>\n",
              "      <td>['36', '36', '36', '36', '36', '36', '37', '37...</td>\n",
              "      <td>3</td>\n",
              "    </tr>\n",
              "    <tr>\n",
              "      <th>1</th>\n",
              "      <td>24644</td>\n",
              "      <td>4</td>\n",
              "      <td>2020</td>\n",
              "      <td>6</td>\n",
              "      <td>19</td>\n",
              "      <td>0</td>\n",
              "      <td>0.0</td>\n",
              "      <td>1.0</td>\n",
              "      <td>0.0</td>\n",
              "      <td>False</td>\n",
              "      <td>C</td>\n",
              "      <td>0</td>\n",
              "      <td>['43', '78', '79', '80', '80', '89', '98', '99...</td>\n",
              "      <td>3</td>\n",
              "    </tr>\n",
              "    <tr>\n",
              "      <th>2</th>\n",
              "      <td>36321</td>\n",
              "      <td>54</td>\n",
              "      <td>2019</td>\n",
              "      <td>6</td>\n",
              "      <td>2</td>\n",
              "      <td>15</td>\n",
              "      <td>2.0</td>\n",
              "      <td>3.0</td>\n",
              "      <td>0.0</td>\n",
              "      <td>True</td>\n",
              "      <td>A</td>\n",
              "      <td>0</td>\n",
              "      <td>['79', '80', '98', '98', '98', '99', '99', '10...</td>\n",
              "      <td>1</td>\n",
              "    </tr>\n",
              "    <tr>\n",
              "      <th>3</th>\n",
              "      <td>2629</td>\n",
              "      <td>42</td>\n",
              "      <td>2020</td>\n",
              "      <td>9</td>\n",
              "      <td>6</td>\n",
              "      <td>17</td>\n",
              "      <td>0.0</td>\n",
              "      <td>1.0</td>\n",
              "      <td>1.0</td>\n",
              "      <td>True</td>\n",
              "      <td>A</td>\n",
              "      <td>0</td>\n",
              "      <td>['43', '79', '80', '98', '99', '99', '79', '80']</td>\n",
              "      <td>2</td>\n",
              "    </tr>\n",
              "    <tr>\n",
              "      <th>4</th>\n",
              "      <td>28169</td>\n",
              "      <td>32</td>\n",
              "      <td>2020</td>\n",
              "      <td>11</td>\n",
              "      <td>4</td>\n",
              "      <td>17</td>\n",
              "      <td>2.0</td>\n",
              "      <td>1.0</td>\n",
              "      <td>0.0</td>\n",
              "      <td>True</td>\n",
              "      <td>A</td>\n",
              "      <td>0</td>\n",
              "      <td>['79', '80', '98', '99', '43', '89']</td>\n",
              "      <td>2</td>\n",
              "    </tr>\n",
              "  </tbody>\n",
              "</table>\n",
              "</div>"
            ],
            "text/plain": [
              "   tweet_id  ...  virality\n",
              "0     34698  ...         3\n",
              "1     24644  ...         3\n",
              "2     36321  ...         1\n",
              "3      2629  ...         2\n",
              "4     28169  ...         2\n",
              "\n",
              "[5 rows x 14 columns]"
            ]
          },
          "metadata": {
            "tags": []
          },
          "execution_count": 15
        }
      ]
    },
    {
      "cell_type": "code",
      "metadata": {
        "colab": {
          "base_uri": "https://localhost:8080/"
        },
        "id": "cltcxfOWcUf5",
        "outputId": "10ed6526-b907-4fd6-a24a-730ef050dec2"
      },
      "source": [
        "train.tweet_attachment_class.value_counts()"
      ],
      "execution_count": null,
      "outputs": [
        {
          "output_type": "execute_result",
          "data": {
            "text/plain": [
              "A    17511\n",
              "C    11825\n",
              "B      289\n",
              "Name: tweet_attachment_class, dtype: int64"
            ]
          },
          "metadata": {
            "tags": []
          },
          "execution_count": 16
        }
      ]
    },
    {
      "cell_type": "code",
      "metadata": {
        "id": "00MOSvvGcn7d",
        "colab": {
          "base_uri": "https://localhost:8080/"
        },
        "outputId": "591fb80a-f6a5-4794-c181-03c4b5d3a9bf"
      },
      "source": [
        "test.tweet_attachment_class.value_counts()"
      ],
      "execution_count": null,
      "outputs": [
        {
          "output_type": "execute_result",
          "data": {
            "text/plain": [
              "A    7505\n",
              "C    5076\n",
              "B     116\n",
              "Name: tweet_attachment_class, dtype: int64"
            ]
          },
          "metadata": {
            "tags": []
          },
          "execution_count": 17
        }
      ]
    },
    {
      "cell_type": "code",
      "metadata": {
        "colab": {
          "base_uri": "https://localhost:8080/"
        },
        "id": "ci8C3D8JSlWG",
        "outputId": "84b38258-7581-4466-c03a-450522c48a33"
      },
      "source": [
        "test.tweet_attachment_class.map({'A':1,'B':2,'C':3})"
      ],
      "execution_count": null,
      "outputs": [
        {
          "output_type": "execute_result",
          "data": {
            "text/plain": [
              "0        1\n",
              "1        3\n",
              "2        3\n",
              "3        3\n",
              "4        1\n",
              "        ..\n",
              "12692    3\n",
              "12693    3\n",
              "12694    3\n",
              "12695    1\n",
              "12696    1\n",
              "Name: tweet_attachment_class, Length: 12697, dtype: int64"
            ]
          },
          "metadata": {
            "tags": []
          },
          "execution_count": 18
        }
      ]
    },
    {
      "cell_type": "code",
      "metadata": {
        "id": "ynaFe3OS2et_",
        "colab": {
          "base_uri": "https://localhost:8080/"
        },
        "outputId": "7f39b157-51bb-4c2f-a044-40e67c8e30dd"
      },
      "source": [
        "train.pop('tweet_topic_ids')\n",
        "train.pop('tweet_attachment_class')\n",
        "y = train.pop('virality')\n",
        "\n",
        "test.pop('tweet_topic_ids')\n",
        "test.pop('tweet_attachment_class')"
      ],
      "execution_count": null,
      "outputs": [
        {
          "output_type": "execute_result",
          "data": {
            "text/plain": [
              "0        A\n",
              "1        C\n",
              "2        C\n",
              "3        C\n",
              "4        A\n",
              "        ..\n",
              "12692    C\n",
              "12693    C\n",
              "12694    C\n",
              "12695    A\n",
              "12696    A\n",
              "Name: tweet_attachment_class, Length: 12697, dtype: object"
            ]
          },
          "metadata": {
            "tags": []
          },
          "execution_count": 6
        }
      ]
    },
    {
      "cell_type": "code",
      "metadata": {
        "colab": {
          "base_uri": "https://localhost:8080/"
        },
        "id": "zJN0DMxb2qgq",
        "outputId": "3d89f3ed-551a-4503-dfe3-9b217a2647e7"
      },
      "source": [
        "X_train, X_test, y_train, y_test = train_test_split(train, y, test_size=0.3)\n",
        "print(X_train.shape)\n",
        "print(X_test.shape)\n",
        "print(y_train.shape)\n",
        "print(y_test.shape)"
      ],
      "execution_count": null,
      "outputs": [
        {
          "output_type": "stream",
          "text": [
            "(20737, 11)\n",
            "(8888, 11)\n",
            "(20737,)\n",
            "(8888,)\n"
          ],
          "name": "stdout"
        }
      ]
    },
    {
      "cell_type": "code",
      "metadata": {
        "colab": {
          "base_uri": "https://localhost:8080/"
        },
        "id": "QBhKqpkfGK6R",
        "outputId": "18e3d73c-dcf2-4f3f-b349-fd457d867f37"
      },
      "source": [
        "clf = RandomForestClassifier()\n",
        "clf.fit(X_train['tweet_user_id'].to_numpy().reshape(-1,1),y_train)"
      ],
      "execution_count": null,
      "outputs": [
        {
          "output_type": "execute_result",
          "data": {
            "text/plain": [
              "RandomForestClassifier(bootstrap=True, ccp_alpha=0.0, class_weight=None,\n",
              "                       criterion='gini', max_depth=None, max_features='auto',\n",
              "                       max_leaf_nodes=None, max_samples=None,\n",
              "                       min_impurity_decrease=0.0, min_impurity_split=None,\n",
              "                       min_samples_leaf=1, min_samples_split=2,\n",
              "                       min_weight_fraction_leaf=0.0, n_estimators=100,\n",
              "                       n_jobs=None, oob_score=False, random_state=None,\n",
              "                       verbose=0, warm_start=False)"
            ]
          },
          "metadata": {
            "tags": []
          },
          "execution_count": 12
        }
      ]
    },
    {
      "cell_type": "code",
      "metadata": {
        "colab": {
          "base_uri": "https://localhost:8080/"
        },
        "id": "ABvw39grGcJc",
        "outputId": "e53bc795-3093-4c65-d50e-ba2dc6123dcf"
      },
      "source": [
        "print(clf.score(X_train['tweet_user_id'].to_numpy().reshape(-1,1),y_train))\n",
        "print(clf.score(X_test['tweet_user_id'].to_numpy().reshape(-1,1),y_test))"
      ],
      "execution_count": null,
      "outputs": [
        {
          "output_type": "stream",
          "text": [
            "0.6431981482374499\n",
            "0.6364761476147615\n"
          ],
          "name": "stdout"
        }
      ]
    },
    {
      "cell_type": "code",
      "metadata": {
        "id": "jp-NnFufG1dG"
      },
      "source": [
        ""
      ],
      "execution_count": null,
      "outputs": []
    },
    {
      "cell_type": "code",
      "metadata": {
        "id": "yZseABmUG1Zu"
      },
      "source": [
        ""
      ],
      "execution_count": null,
      "outputs": []
    },
    {
      "cell_type": "markdown",
      "metadata": {
        "id": "IQ_kwkxAWU4D"
      },
      "source": [
        "#Users Data"
      ]
    },
    {
      "cell_type": "code",
      "metadata": {
        "id": "X0DYLDIB2vpH"
      },
      "source": [
        "users = pd.read_csv('/content/drive/MyDrive/Viral Tweets Prediction Challenge Dataset/Dataset/Users/users.csv')"
      ],
      "execution_count": null,
      "outputs": []
    },
    {
      "cell_type": "code",
      "metadata": {
        "colab": {
          "base_uri": "https://localhost:8080/",
          "height": 215
        },
        "id": "wUtMOqfc23ah",
        "outputId": "4f14338d-627b-4865-dfc3-effb2c86981b"
      },
      "source": [
        "users.head()"
      ],
      "execution_count": null,
      "outputs": [
        {
          "output_type": "execute_result",
          "data": {
            "text/html": [
              "<div>\n",
              "<style scoped>\n",
              "    .dataframe tbody tr th:only-of-type {\n",
              "        vertical-align: middle;\n",
              "    }\n",
              "\n",
              "    .dataframe tbody tr th {\n",
              "        vertical-align: top;\n",
              "    }\n",
              "\n",
              "    .dataframe thead th {\n",
              "        text-align: right;\n",
              "    }\n",
              "</style>\n",
              "<table border=\"1\" class=\"dataframe\">\n",
              "  <thead>\n",
              "    <tr style=\"text-align: right;\">\n",
              "      <th></th>\n",
              "      <th>user_id</th>\n",
              "      <th>user_like_count</th>\n",
              "      <th>user_followers_count</th>\n",
              "      <th>user_following_count</th>\n",
              "      <th>user_listed_on_count</th>\n",
              "      <th>user_has_location</th>\n",
              "      <th>user_tweet_count</th>\n",
              "      <th>user_has_url</th>\n",
              "      <th>user_verified</th>\n",
              "      <th>user_created_at_year</th>\n",
              "      <th>user_created_at_month</th>\n",
              "    </tr>\n",
              "  </thead>\n",
              "  <tbody>\n",
              "    <tr>\n",
              "      <th>0</th>\n",
              "      <td>0</td>\n",
              "      <td>1164</td>\n",
              "      <td>48720</td>\n",
              "      <td>70469</td>\n",
              "      <td>5956</td>\n",
              "      <td>True</td>\n",
              "      <td>14122</td>\n",
              "      <td>True</td>\n",
              "      <td>0</td>\n",
              "      <td>2010</td>\n",
              "      <td>8</td>\n",
              "    </tr>\n",
              "    <tr>\n",
              "      <th>1</th>\n",
              "      <td>1</td>\n",
              "      <td>3914</td>\n",
              "      <td>85361</td>\n",
              "      <td>2171</td>\n",
              "      <td>5943</td>\n",
              "      <td>False</td>\n",
              "      <td>6957</td>\n",
              "      <td>False</td>\n",
              "      <td>0</td>\n",
              "      <td>2011</td>\n",
              "      <td>9</td>\n",
              "    </tr>\n",
              "    <tr>\n",
              "      <th>2</th>\n",
              "      <td>2</td>\n",
              "      <td>8292</td>\n",
              "      <td>200944</td>\n",
              "      <td>1416</td>\n",
              "      <td>8379</td>\n",
              "      <td>True</td>\n",
              "      <td>83485</td>\n",
              "      <td>True</td>\n",
              "      <td>0</td>\n",
              "      <td>2011</td>\n",
              "      <td>6</td>\n",
              "    </tr>\n",
              "    <tr>\n",
              "      <th>3</th>\n",
              "      <td>3</td>\n",
              "      <td>1770</td>\n",
              "      <td>15385</td>\n",
              "      <td>4572</td>\n",
              "      <td>1866</td>\n",
              "      <td>True</td>\n",
              "      <td>12265</td>\n",
              "      <td>True</td>\n",
              "      <td>0</td>\n",
              "      <td>2011</td>\n",
              "      <td>8</td>\n",
              "    </tr>\n",
              "    <tr>\n",
              "      <th>4</th>\n",
              "      <td>4</td>\n",
              "      <td>15311</td>\n",
              "      <td>459083</td>\n",
              "      <td>1021</td>\n",
              "      <td>7368</td>\n",
              "      <td>False</td>\n",
              "      <td>121193</td>\n",
              "      <td>False</td>\n",
              "      <td>0</td>\n",
              "      <td>2011</td>\n",
              "      <td>6</td>\n",
              "    </tr>\n",
              "  </tbody>\n",
              "</table>\n",
              "</div>"
            ],
            "text/plain": [
              "   user_id  user_like_count  ...  user_created_at_year  user_created_at_month\n",
              "0        0             1164  ...                  2010                      8\n",
              "1        1             3914  ...                  2011                      9\n",
              "2        2             8292  ...                  2011                      6\n",
              "3        3             1770  ...                  2011                      8\n",
              "4        4            15311  ...                  2011                      6\n",
              "\n",
              "[5 rows x 11 columns]"
            ]
          },
          "metadata": {
            "tags": []
          },
          "execution_count": 21
        }
      ]
    },
    {
      "cell_type": "code",
      "metadata": {
        "colab": {
          "base_uri": "https://localhost:8080/"
        },
        "id": "mUiOTxS4243r",
        "outputId": "2d80025c-cd1a-47f1-bd66-15fa2780e3a9"
      },
      "source": [
        "users.shape"
      ],
      "execution_count": null,
      "outputs": [
        {
          "output_type": "execute_result",
          "data": {
            "text/plain": [
              "(52, 11)"
            ]
          },
          "metadata": {
            "tags": []
          },
          "execution_count": 22
        }
      ]
    },
    {
      "cell_type": "code",
      "metadata": {
        "colab": {
          "base_uri": "https://localhost:8080/",
          "height": 284
        },
        "id": "wG2IbXtp26KU",
        "outputId": "9c0c234a-9963-41c6-8b18-daefa902ee92"
      },
      "source": [
        "users.describe()"
      ],
      "execution_count": null,
      "outputs": [
        {
          "output_type": "execute_result",
          "data": {
            "text/html": [
              "<div>\n",
              "<style scoped>\n",
              "    .dataframe tbody tr th:only-of-type {\n",
              "        vertical-align: middle;\n",
              "    }\n",
              "\n",
              "    .dataframe tbody tr th {\n",
              "        vertical-align: top;\n",
              "    }\n",
              "\n",
              "    .dataframe thead th {\n",
              "        text-align: right;\n",
              "    }\n",
              "</style>\n",
              "<table border=\"1\" class=\"dataframe\">\n",
              "  <thead>\n",
              "    <tr style=\"text-align: right;\">\n",
              "      <th></th>\n",
              "      <th>user_id</th>\n",
              "      <th>user_like_count</th>\n",
              "      <th>user_followers_count</th>\n",
              "      <th>user_following_count</th>\n",
              "      <th>user_listed_on_count</th>\n",
              "      <th>user_tweet_count</th>\n",
              "      <th>user_verified</th>\n",
              "      <th>user_created_at_year</th>\n",
              "      <th>user_created_at_month</th>\n",
              "    </tr>\n",
              "  </thead>\n",
              "  <tbody>\n",
              "    <tr>\n",
              "      <th>count</th>\n",
              "      <td>52.000000</td>\n",
              "      <td>52.000000</td>\n",
              "      <td>5.200000e+01</td>\n",
              "      <td>5.200000e+01</td>\n",
              "      <td>52.000000</td>\n",
              "      <td>52.000000</td>\n",
              "      <td>52.000000</td>\n",
              "      <td>52.000000</td>\n",
              "      <td>52.000000</td>\n",
              "    </tr>\n",
              "    <tr>\n",
              "      <th>mean</th>\n",
              "      <td>27.211538</td>\n",
              "      <td>4673.865385</td>\n",
              "      <td>2.452791e+05</td>\n",
              "      <td>4.214858e+04</td>\n",
              "      <td>6903.365385</td>\n",
              "      <td>39396.326923</td>\n",
              "      <td>0.019231</td>\n",
              "      <td>2011.250000</td>\n",
              "      <td>7.307692</td>\n",
              "    </tr>\n",
              "    <tr>\n",
              "      <th>std</th>\n",
              "      <td>16.363921</td>\n",
              "      <td>5714.506714</td>\n",
              "      <td>3.697964e+05</td>\n",
              "      <td>1.583784e+05</td>\n",
              "      <td>7815.721366</td>\n",
              "      <td>77111.642876</td>\n",
              "      <td>0.138675</td>\n",
              "      <td>1.311712</td>\n",
              "      <td>3.316852</td>\n",
              "    </tr>\n",
              "    <tr>\n",
              "      <th>min</th>\n",
              "      <td>0.000000</td>\n",
              "      <td>0.000000</td>\n",
              "      <td>3.632000e+03</td>\n",
              "      <td>0.000000e+00</td>\n",
              "      <td>276.000000</td>\n",
              "      <td>96.000000</td>\n",
              "      <td>0.000000</td>\n",
              "      <td>2008.000000</td>\n",
              "      <td>1.000000</td>\n",
              "    </tr>\n",
              "    <tr>\n",
              "      <th>25%</th>\n",
              "      <td>13.750000</td>\n",
              "      <td>1236.000000</td>\n",
              "      <td>2.271200e+04</td>\n",
              "      <td>9.720000e+02</td>\n",
              "      <td>1860.750000</td>\n",
              "      <td>6833.250000</td>\n",
              "      <td>0.000000</td>\n",
              "      <td>2011.000000</td>\n",
              "      <td>5.750000</td>\n",
              "    </tr>\n",
              "    <tr>\n",
              "      <th>50%</th>\n",
              "      <td>26.500000</td>\n",
              "      <td>2669.000000</td>\n",
              "      <td>8.727050e+04</td>\n",
              "      <td>2.675500e+03</td>\n",
              "      <td>4329.000000</td>\n",
              "      <td>12149.000000</td>\n",
              "      <td>0.000000</td>\n",
              "      <td>2011.000000</td>\n",
              "      <td>8.000000</td>\n",
              "    </tr>\n",
              "    <tr>\n",
              "      <th>75%</th>\n",
              "      <td>41.250000</td>\n",
              "      <td>6363.750000</td>\n",
              "      <td>2.981062e+05</td>\n",
              "      <td>1.189725e+04</td>\n",
              "      <td>8935.500000</td>\n",
              "      <td>29342.500000</td>\n",
              "      <td>0.000000</td>\n",
              "      <td>2012.000000</td>\n",
              "      <td>10.000000</td>\n",
              "    </tr>\n",
              "    <tr>\n",
              "      <th>max</th>\n",
              "      <td>55.000000</td>\n",
              "      <td>33091.000000</td>\n",
              "      <td>1.587783e+06</td>\n",
              "      <td>1.118149e+06</td>\n",
              "      <td>38838.000000</td>\n",
              "      <td>432467.000000</td>\n",
              "      <td>1.000000</td>\n",
              "      <td>2014.000000</td>\n",
              "      <td>12.000000</td>\n",
              "    </tr>\n",
              "  </tbody>\n",
              "</table>\n",
              "</div>"
            ],
            "text/plain": [
              "         user_id  user_like_count  ...  user_created_at_year  user_created_at_month\n",
              "count  52.000000        52.000000  ...             52.000000              52.000000\n",
              "mean   27.211538      4673.865385  ...           2011.250000               7.307692\n",
              "std    16.363921      5714.506714  ...              1.311712               3.316852\n",
              "min     0.000000         0.000000  ...           2008.000000               1.000000\n",
              "25%    13.750000      1236.000000  ...           2011.000000               5.750000\n",
              "50%    26.500000      2669.000000  ...           2011.000000               8.000000\n",
              "75%    41.250000      6363.750000  ...           2012.000000              10.000000\n",
              "max    55.000000     33091.000000  ...           2014.000000              12.000000\n",
              "\n",
              "[8 rows x 9 columns]"
            ]
          },
          "metadata": {
            "tags": []
          },
          "execution_count": 23
        }
      ]
    },
    {
      "cell_type": "code",
      "metadata": {
        "colab": {
          "base_uri": "https://localhost:8080/"
        },
        "id": "7_-Yxb7R3AIO",
        "outputId": "6dbdfa89-dcd3-4aad-c46f-fc6aa47784f5"
      },
      "source": [
        "users.isnull().sum().sum()"
      ],
      "execution_count": null,
      "outputs": [
        {
          "output_type": "execute_result",
          "data": {
            "text/plain": [
              "0"
            ]
          },
          "metadata": {
            "tags": []
          },
          "execution_count": 24
        }
      ]
    },
    {
      "cell_type": "code",
      "metadata": {
        "colab": {
          "base_uri": "https://localhost:8080/"
        },
        "id": "TM8oqdDi8guB",
        "outputId": "378c31f0-73e0-436c-b9ea-26789b6f482b"
      },
      "source": [
        "users.dtypes"
      ],
      "execution_count": null,
      "outputs": [
        {
          "output_type": "execute_result",
          "data": {
            "text/plain": [
              "user_id                  int64\n",
              "user_like_count          int64\n",
              "user_followers_count     int64\n",
              "user_following_count     int64\n",
              "user_listed_on_count     int64\n",
              "user_has_location         bool\n",
              "user_tweet_count         int64\n",
              "user_has_url              bool\n",
              "user_verified            int64\n",
              "user_created_at_year     int64\n",
              "user_created_at_month    int64\n",
              "dtype: object"
            ]
          },
          "metadata": {
            "tags": []
          },
          "execution_count": 25
        }
      ]
    },
    {
      "cell_type": "code",
      "metadata": {
        "colab": {
          "base_uri": "https://localhost:8080/"
        },
        "id": "yFFLPf5P3C8u",
        "outputId": "a0d3c837-c1e7-4144-802d-f5d3f4b6ed39"
      },
      "source": [
        "train.loc[0]"
      ],
      "execution_count": null,
      "outputs": [
        {
          "output_type": "execute_result",
          "data": {
            "text/plain": [
              "tweet_id                                                              34698\n",
              "tweet_user_id                                                            10\n",
              "tweet_created_at_year                                                  2015\n",
              "tweet_created_at_month                                                   12\n",
              "tweet_created_at_day                                                      5\n",
              "tweet_created_at_hour                                                     3\n",
              "tweet_hashtag_count                                                       2\n",
              "tweet_url_count                                                           1\n",
              "tweet_mention_count                                                       0\n",
              "tweet_has_attachment                                                  False\n",
              "tweet_attachment_class                                                    C\n",
              "tweet_language_id                                                         0\n",
              "tweet_topic_ids           ['36', '36', '36', '36', '36', '36', '37', '37...\n",
              "virality                                                                  3\n",
              "Name: 0, dtype: object"
            ]
          },
          "metadata": {
            "tags": []
          },
          "execution_count": 26
        }
      ]
    },
    {
      "cell_type": "code",
      "metadata": {
        "id": "BXs8qwqY3sR6"
      },
      "source": [
        "train = pd.concat([train,pd.DataFrame(columns=users.columns)])"
      ],
      "execution_count": null,
      "outputs": []
    },
    {
      "cell_type": "code",
      "metadata": {
        "id": "vhBfc6CxDnVQ"
      },
      "source": [
        "test = pd.concat([test,pd.DataFrame(columns=users.columns)])"
      ],
      "execution_count": null,
      "outputs": []
    },
    {
      "cell_type": "code",
      "metadata": {
        "id": "EYbwrUT14iYQ"
      },
      "source": [
        "train.loc[0,'user_id':'user_created_at_month'] = users[users.user_id==train.tweet_user_id[0]].iloc[0]"
      ],
      "execution_count": null,
      "outputs": []
    },
    {
      "cell_type": "code",
      "metadata": {
        "id": "R6g596sw-FmJ"
      },
      "source": [
        "for i in range(train.shape[0]):\n",
        "  train.loc[i,'user_id':'user_created_at_month'] = users[users.user_id==train.tweet_user_id[i]].iloc[0]"
      ],
      "execution_count": null,
      "outputs": []
    },
    {
      "cell_type": "code",
      "metadata": {
        "id": "2DxoDZtKCpfQ"
      },
      "source": [
        "for i in range(test.shape[0]):\n",
        "  test.loc[i,'user_id':'user_created_at_month'] = users[users.user_id==test.tweet_user_id[i]].iloc[0]"
      ],
      "execution_count": null,
      "outputs": []
    },
    {
      "cell_type": "code",
      "metadata": {
        "colab": {
          "base_uri": "https://localhost:8080/"
        },
        "id": "waUWx2FV_xWt",
        "outputId": "1d2700e7-0213-4ecc-b708-9234026ab438"
      },
      "source": [
        "X_train, X_test, y_train, y_test = train_test_split(train, y, test_size=0.3)\n",
        "print(X_train.shape)\n",
        "print(X_test.shape)\n",
        "print(y_train.shape)\n",
        "print(y_test.shape)"
      ],
      "execution_count": null,
      "outputs": [
        {
          "output_type": "stream",
          "text": [
            "(20737, 22)\n",
            "(8888, 22)\n",
            "(20737,)\n",
            "(8888,)\n"
          ],
          "name": "stdout"
        }
      ]
    },
    {
      "cell_type": "code",
      "metadata": {
        "colab": {
          "base_uri": "https://localhost:8080/"
        },
        "id": "lOOGP06hAXdj",
        "outputId": "90c68425-6e52-4231-9083-443c924fd32c"
      },
      "source": [
        "clf = RandomForestClassifier()\n",
        "clf.fit(X_train,y_train)"
      ],
      "execution_count": null,
      "outputs": [
        {
          "output_type": "execute_result",
          "data": {
            "text/plain": [
              "RandomForestClassifier(bootstrap=True, ccp_alpha=0.0, class_weight=None,\n",
              "                       criterion='gini', max_depth=None, max_features='auto',\n",
              "                       max_leaf_nodes=None, max_samples=None,\n",
              "                       min_impurity_decrease=0.0, min_impurity_split=None,\n",
              "                       min_samples_leaf=1, min_samples_split=2,\n",
              "                       min_weight_fraction_leaf=0.0, n_estimators=100,\n",
              "                       n_jobs=None, oob_score=False, random_state=None,\n",
              "                       verbose=0, warm_start=False)"
            ]
          },
          "metadata": {
            "tags": []
          },
          "execution_count": 79
        }
      ]
    },
    {
      "cell_type": "code",
      "metadata": {
        "colab": {
          "base_uri": "https://localhost:8080/"
        },
        "id": "2z8tn8nH_9Ua",
        "outputId": "a94be718-408d-40ab-a2a7-656da11089b8"
      },
      "source": [
        "print(clf.score(X_train,y_train))\n",
        "print(clf.score(X_test,y_test))"
      ],
      "execution_count": null,
      "outputs": [
        {
          "output_type": "stream",
          "text": [
            "1.0\n",
            "0.6657290729072908\n"
          ],
          "name": "stdout"
        }
      ]
    },
    {
      "cell_type": "code",
      "metadata": {
        "colab": {
          "base_uri": "https://localhost:8080/"
        },
        "id": "Y5pDE5XO5Eem",
        "outputId": "b0de3825-4113-4b3f-80e3-bd50ad42974c"
      },
      "source": [
        "clf2 = RandomForestClassifier(n_estimators=1200,max_depth=25, min_samples_leaf=1, min_samples_split=10)\n",
        "clf2.fit(X_train,y_train)\n",
        "print(clf2.score(X_train,y_train))\n",
        "print(clf2.score(X_test,y_test))"
      ],
      "execution_count": null,
      "outputs": [
        {
          "output_type": "stream",
          "text": [
            "0.8325698027679992\n",
            "0.6750675067506751\n"
          ],
          "name": "stdout"
        }
      ]
    },
    {
      "cell_type": "code",
      "metadata": {
        "colab": {
          "base_uri": "https://localhost:8080/"
        },
        "id": "FJ5L51q3DLLb",
        "outputId": "6db6ac1c-fcb9-47ba-8d2d-64326f74cf47"
      },
      "source": [
        "clf3 = RandomForestClassifier(n_estimators=1200,max_depth=25, min_samples_leaf=1, min_samples_split=10)\n",
        "clf3.fit(train,y)\n",
        "print(clf3.score(X_train,y_train))\n",
        "print(clf3.score(X_test,y_test))"
      ],
      "execution_count": null,
      "outputs": [
        {
          "output_type": "stream",
          "text": [
            "0.8364758643969716\n",
            "0.8383213321332134\n"
          ],
          "name": "stdout"
        }
      ]
    },
    {
      "cell_type": "code",
      "metadata": {
        "id": "NHOHrcBgEANM"
      },
      "source": [
        "sol4 = test.tweet_id.to_frame()\n",
        "sol4['virality'] = clf3.predict(test)\n",
        "sol4.astype(int).to_csv('sol8.csv',index=False)"
      ],
      "execution_count": null,
      "outputs": []
    },
    {
      "cell_type": "code",
      "metadata": {
        "id": "SvwXGYwtUs35"
      },
      "source": [
        "user_desc = pd.read_csv('/content/drive/MyDrive/Viral Tweets Prediction Challenge Dataset/Dataset/Users/user_vectorized_descriptions.csv')"
      ],
      "execution_count": null,
      "outputs": []
    },
    {
      "cell_type": "code",
      "metadata": {
        "colab": {
          "base_uri": "https://localhost:8080/",
          "height": 244
        },
        "id": "k1OCtt9XVCmg",
        "outputId": "33011d73-5422-4074-9883-6168f155a502"
      },
      "source": [
        "user_desc.head()"
      ],
      "execution_count": null,
      "outputs": [
        {
          "output_type": "execute_result",
          "data": {
            "text/html": [
              "<div>\n",
              "<style scoped>\n",
              "    .dataframe tbody tr th:only-of-type {\n",
              "        vertical-align: middle;\n",
              "    }\n",
              "\n",
              "    .dataframe tbody tr th {\n",
              "        vertical-align: top;\n",
              "    }\n",
              "\n",
              "    .dataframe thead th {\n",
              "        text-align: right;\n",
              "    }\n",
              "</style>\n",
              "<table border=\"1\" class=\"dataframe\">\n",
              "  <thead>\n",
              "    <tr style=\"text-align: right;\">\n",
              "      <th></th>\n",
              "      <th>user_id</th>\n",
              "      <th>feature_0</th>\n",
              "      <th>feature_1</th>\n",
              "      <th>feature_2</th>\n",
              "      <th>feature_3</th>\n",
              "      <th>feature_4</th>\n",
              "      <th>feature_5</th>\n",
              "      <th>feature_6</th>\n",
              "      <th>feature_7</th>\n",
              "      <th>feature_8</th>\n",
              "      <th>feature_9</th>\n",
              "      <th>feature_10</th>\n",
              "      <th>feature_11</th>\n",
              "      <th>feature_12</th>\n",
              "      <th>feature_13</th>\n",
              "      <th>feature_14</th>\n",
              "      <th>feature_15</th>\n",
              "      <th>feature_16</th>\n",
              "      <th>feature_17</th>\n",
              "      <th>feature_18</th>\n",
              "      <th>feature_19</th>\n",
              "      <th>feature_20</th>\n",
              "      <th>feature_21</th>\n",
              "      <th>feature_22</th>\n",
              "      <th>feature_23</th>\n",
              "      <th>feature_24</th>\n",
              "      <th>feature_25</th>\n",
              "      <th>feature_26</th>\n",
              "      <th>feature_27</th>\n",
              "      <th>feature_28</th>\n",
              "      <th>feature_29</th>\n",
              "      <th>feature_30</th>\n",
              "      <th>feature_31</th>\n",
              "      <th>feature_32</th>\n",
              "      <th>feature_33</th>\n",
              "      <th>feature_34</th>\n",
              "      <th>feature_35</th>\n",
              "      <th>feature_36</th>\n",
              "      <th>feature_37</th>\n",
              "      <th>feature_38</th>\n",
              "      <th>...</th>\n",
              "      <th>feature_728</th>\n",
              "      <th>feature_729</th>\n",
              "      <th>feature_730</th>\n",
              "      <th>feature_731</th>\n",
              "      <th>feature_732</th>\n",
              "      <th>feature_733</th>\n",
              "      <th>feature_734</th>\n",
              "      <th>feature_735</th>\n",
              "      <th>feature_736</th>\n",
              "      <th>feature_737</th>\n",
              "      <th>feature_738</th>\n",
              "      <th>feature_739</th>\n",
              "      <th>feature_740</th>\n",
              "      <th>feature_741</th>\n",
              "      <th>feature_742</th>\n",
              "      <th>feature_743</th>\n",
              "      <th>feature_744</th>\n",
              "      <th>feature_745</th>\n",
              "      <th>feature_746</th>\n",
              "      <th>feature_747</th>\n",
              "      <th>feature_748</th>\n",
              "      <th>feature_749</th>\n",
              "      <th>feature_750</th>\n",
              "      <th>feature_751</th>\n",
              "      <th>feature_752</th>\n",
              "      <th>feature_753</th>\n",
              "      <th>feature_754</th>\n",
              "      <th>feature_755</th>\n",
              "      <th>feature_756</th>\n",
              "      <th>feature_757</th>\n",
              "      <th>feature_758</th>\n",
              "      <th>feature_759</th>\n",
              "      <th>feature_760</th>\n",
              "      <th>feature_761</th>\n",
              "      <th>feature_762</th>\n",
              "      <th>feature_763</th>\n",
              "      <th>feature_764</th>\n",
              "      <th>feature_765</th>\n",
              "      <th>feature_766</th>\n",
              "      <th>feature_767</th>\n",
              "    </tr>\n",
              "  </thead>\n",
              "  <tbody>\n",
              "    <tr>\n",
              "      <th>0</th>\n",
              "      <td>0</td>\n",
              "      <td>0.132536</td>\n",
              "      <td>-0.137393</td>\n",
              "      <td>-0.064037</td>\n",
              "      <td>-0.118342</td>\n",
              "      <td>-0.130279</td>\n",
              "      <td>0.048067</td>\n",
              "      <td>-0.421301</td>\n",
              "      <td>-0.313038</td>\n",
              "      <td>0.047779</td>\n",
              "      <td>0.041972</td>\n",
              "      <td>-0.211500</td>\n",
              "      <td>0.157389</td>\n",
              "      <td>-0.119609</td>\n",
              "      <td>-0.167288</td>\n",
              "      <td>-0.183701</td>\n",
              "      <td>0.162600</td>\n",
              "      <td>-0.118144</td>\n",
              "      <td>-0.160549</td>\n",
              "      <td>0.206170</td>\n",
              "      <td>-0.349808</td>\n",
              "      <td>-0.180516</td>\n",
              "      <td>-0.075424</td>\n",
              "      <td>-0.228215</td>\n",
              "      <td>-0.227588</td>\n",
              "      <td>-0.206130</td>\n",
              "      <td>0.097065</td>\n",
              "      <td>-0.201940</td>\n",
              "      <td>0.113164</td>\n",
              "      <td>0.115008</td>\n",
              "      <td>-0.025116</td>\n",
              "      <td>0.063400</td>\n",
              "      <td>-0.129166</td>\n",
              "      <td>-0.154574</td>\n",
              "      <td>-0.219841</td>\n",
              "      <td>-0.185450</td>\n",
              "      <td>-0.099904</td>\n",
              "      <td>-0.084291</td>\n",
              "      <td>-0.044961</td>\n",
              "      <td>0.110390</td>\n",
              "      <td>...</td>\n",
              "      <td>0.083985</td>\n",
              "      <td>-0.157461</td>\n",
              "      <td>0.285158</td>\n",
              "      <td>-0.197924</td>\n",
              "      <td>-0.163785</td>\n",
              "      <td>0.535255</td>\n",
              "      <td>0.027747</td>\n",
              "      <td>-0.155363</td>\n",
              "      <td>0.146396</td>\n",
              "      <td>-0.090979</td>\n",
              "      <td>-0.170317</td>\n",
              "      <td>0.254166</td>\n",
              "      <td>0.260563</td>\n",
              "      <td>-0.071186</td>\n",
              "      <td>-0.140582</td>\n",
              "      <td>0.310176</td>\n",
              "      <td>0.083907</td>\n",
              "      <td>-0.034472</td>\n",
              "      <td>-0.172740</td>\n",
              "      <td>0.126395</td>\n",
              "      <td>-0.004203</td>\n",
              "      <td>-0.177539</td>\n",
              "      <td>0.038244</td>\n",
              "      <td>-0.188420</td>\n",
              "      <td>-0.080583</td>\n",
              "      <td>0.065391</td>\n",
              "      <td>0.265358</td>\n",
              "      <td>0.307018</td>\n",
              "      <td>-0.494297</td>\n",
              "      <td>-0.142920</td>\n",
              "      <td>0.238264</td>\n",
              "      <td>-0.315408</td>\n",
              "      <td>-0.159851</td>\n",
              "      <td>-0.003840</td>\n",
              "      <td>0.213492</td>\n",
              "      <td>0.002498</td>\n",
              "      <td>0.177574</td>\n",
              "      <td>-0.136515</td>\n",
              "      <td>-0.012882</td>\n",
              "      <td>0.017399</td>\n",
              "    </tr>\n",
              "    <tr>\n",
              "      <th>1</th>\n",
              "      <td>1</td>\n",
              "      <td>0.107849</td>\n",
              "      <td>-0.168418</td>\n",
              "      <td>0.027251</td>\n",
              "      <td>-0.075079</td>\n",
              "      <td>-0.084762</td>\n",
              "      <td>0.076149</td>\n",
              "      <td>-0.390708</td>\n",
              "      <td>-0.271934</td>\n",
              "      <td>0.007423</td>\n",
              "      <td>0.030401</td>\n",
              "      <td>-0.216736</td>\n",
              "      <td>0.183259</td>\n",
              "      <td>-0.069264</td>\n",
              "      <td>-0.236452</td>\n",
              "      <td>-0.209206</td>\n",
              "      <td>0.174043</td>\n",
              "      <td>-0.121529</td>\n",
              "      <td>-0.150529</td>\n",
              "      <td>0.228872</td>\n",
              "      <td>-0.336505</td>\n",
              "      <td>-0.204807</td>\n",
              "      <td>-0.152244</td>\n",
              "      <td>-0.307261</td>\n",
              "      <td>-0.216196</td>\n",
              "      <td>-0.265559</td>\n",
              "      <td>0.077822</td>\n",
              "      <td>-0.346440</td>\n",
              "      <td>0.154961</td>\n",
              "      <td>0.165459</td>\n",
              "      <td>-0.000246</td>\n",
              "      <td>0.065532</td>\n",
              "      <td>-0.173314</td>\n",
              "      <td>-0.191337</td>\n",
              "      <td>-0.143802</td>\n",
              "      <td>-0.223451</td>\n",
              "      <td>-0.067280</td>\n",
              "      <td>-0.124719</td>\n",
              "      <td>-0.160180</td>\n",
              "      <td>0.010054</td>\n",
              "      <td>...</td>\n",
              "      <td>0.036054</td>\n",
              "      <td>-0.140715</td>\n",
              "      <td>0.224058</td>\n",
              "      <td>-0.174127</td>\n",
              "      <td>-0.159510</td>\n",
              "      <td>0.531637</td>\n",
              "      <td>-0.003619</td>\n",
              "      <td>-0.117995</td>\n",
              "      <td>0.093102</td>\n",
              "      <td>-0.086952</td>\n",
              "      <td>-0.189147</td>\n",
              "      <td>0.209478</td>\n",
              "      <td>0.246669</td>\n",
              "      <td>-0.043450</td>\n",
              "      <td>-0.158822</td>\n",
              "      <td>0.295335</td>\n",
              "      <td>0.058998</td>\n",
              "      <td>-0.008168</td>\n",
              "      <td>-0.144616</td>\n",
              "      <td>0.219429</td>\n",
              "      <td>0.049639</td>\n",
              "      <td>-0.211484</td>\n",
              "      <td>0.026302</td>\n",
              "      <td>-0.199768</td>\n",
              "      <td>-0.131321</td>\n",
              "      <td>0.020595</td>\n",
              "      <td>0.304960</td>\n",
              "      <td>0.283139</td>\n",
              "      <td>-0.525245</td>\n",
              "      <td>-0.187449</td>\n",
              "      <td>0.232922</td>\n",
              "      <td>-0.314534</td>\n",
              "      <td>-0.177011</td>\n",
              "      <td>-0.041710</td>\n",
              "      <td>0.209785</td>\n",
              "      <td>-0.023427</td>\n",
              "      <td>0.158203</td>\n",
              "      <td>-0.143221</td>\n",
              "      <td>0.030484</td>\n",
              "      <td>0.081693</td>\n",
              "    </tr>\n",
              "    <tr>\n",
              "      <th>2</th>\n",
              "      <td>2</td>\n",
              "      <td>0.122312</td>\n",
              "      <td>-0.159376</td>\n",
              "      <td>-0.073417</td>\n",
              "      <td>-0.149442</td>\n",
              "      <td>-0.122684</td>\n",
              "      <td>-0.005277</td>\n",
              "      <td>-0.351233</td>\n",
              "      <td>-0.297342</td>\n",
              "      <td>-0.006010</td>\n",
              "      <td>0.083945</td>\n",
              "      <td>-0.243968</td>\n",
              "      <td>0.184267</td>\n",
              "      <td>-0.045257</td>\n",
              "      <td>-0.191175</td>\n",
              "      <td>-0.168322</td>\n",
              "      <td>0.190007</td>\n",
              "      <td>-0.150225</td>\n",
              "      <td>-0.191811</td>\n",
              "      <td>0.260278</td>\n",
              "      <td>-0.323330</td>\n",
              "      <td>-0.226146</td>\n",
              "      <td>-0.106863</td>\n",
              "      <td>-0.163877</td>\n",
              "      <td>-0.207189</td>\n",
              "      <td>-0.153667</td>\n",
              "      <td>0.090430</td>\n",
              "      <td>-0.265063</td>\n",
              "      <td>0.103507</td>\n",
              "      <td>0.147642</td>\n",
              "      <td>-0.003167</td>\n",
              "      <td>0.083048</td>\n",
              "      <td>-0.220785</td>\n",
              "      <td>-0.242494</td>\n",
              "      <td>-0.238759</td>\n",
              "      <td>-0.194130</td>\n",
              "      <td>-0.034603</td>\n",
              "      <td>0.002399</td>\n",
              "      <td>-0.173476</td>\n",
              "      <td>0.056946</td>\n",
              "      <td>...</td>\n",
              "      <td>0.003421</td>\n",
              "      <td>-0.165013</td>\n",
              "      <td>0.254066</td>\n",
              "      <td>-0.213777</td>\n",
              "      <td>-0.134803</td>\n",
              "      <td>0.554688</td>\n",
              "      <td>-0.024580</td>\n",
              "      <td>-0.159201</td>\n",
              "      <td>0.116502</td>\n",
              "      <td>-0.111342</td>\n",
              "      <td>-0.140976</td>\n",
              "      <td>0.216088</td>\n",
              "      <td>0.219368</td>\n",
              "      <td>-0.052936</td>\n",
              "      <td>-0.126136</td>\n",
              "      <td>0.385574</td>\n",
              "      <td>0.039820</td>\n",
              "      <td>-0.023451</td>\n",
              "      <td>-0.120135</td>\n",
              "      <td>0.191185</td>\n",
              "      <td>0.016503</td>\n",
              "      <td>-0.223201</td>\n",
              "      <td>0.051937</td>\n",
              "      <td>-0.162366</td>\n",
              "      <td>-0.111131</td>\n",
              "      <td>0.047493</td>\n",
              "      <td>0.281597</td>\n",
              "      <td>0.339442</td>\n",
              "      <td>-0.440569</td>\n",
              "      <td>-0.059945</td>\n",
              "      <td>0.173621</td>\n",
              "      <td>-0.292476</td>\n",
              "      <td>-0.185078</td>\n",
              "      <td>-0.026784</td>\n",
              "      <td>0.184902</td>\n",
              "      <td>0.009539</td>\n",
              "      <td>0.217004</td>\n",
              "      <td>-0.091951</td>\n",
              "      <td>0.025304</td>\n",
              "      <td>0.058501</td>\n",
              "    </tr>\n",
              "    <tr>\n",
              "      <th>3</th>\n",
              "      <td>3</td>\n",
              "      <td>0.160509</td>\n",
              "      <td>-0.137915</td>\n",
              "      <td>-0.002524</td>\n",
              "      <td>-0.034696</td>\n",
              "      <td>0.028126</td>\n",
              "      <td>0.056299</td>\n",
              "      <td>-0.365196</td>\n",
              "      <td>-0.259523</td>\n",
              "      <td>-0.037929</td>\n",
              "      <td>0.104135</td>\n",
              "      <td>-0.206807</td>\n",
              "      <td>0.194023</td>\n",
              "      <td>-0.105497</td>\n",
              "      <td>-0.277824</td>\n",
              "      <td>-0.154094</td>\n",
              "      <td>0.185838</td>\n",
              "      <td>-0.147508</td>\n",
              "      <td>-0.183590</td>\n",
              "      <td>0.282249</td>\n",
              "      <td>-0.251785</td>\n",
              "      <td>-0.132236</td>\n",
              "      <td>-0.152960</td>\n",
              "      <td>-0.293629</td>\n",
              "      <td>-0.165441</td>\n",
              "      <td>-0.207462</td>\n",
              "      <td>0.033447</td>\n",
              "      <td>-0.275356</td>\n",
              "      <td>0.135713</td>\n",
              "      <td>0.106392</td>\n",
              "      <td>-0.023706</td>\n",
              "      <td>0.049851</td>\n",
              "      <td>-0.122355</td>\n",
              "      <td>-0.158445</td>\n",
              "      <td>-0.189165</td>\n",
              "      <td>-0.210765</td>\n",
              "      <td>0.043706</td>\n",
              "      <td>-0.079914</td>\n",
              "      <td>-0.075443</td>\n",
              "      <td>-0.005512</td>\n",
              "      <td>...</td>\n",
              "      <td>0.034914</td>\n",
              "      <td>-0.239188</td>\n",
              "      <td>0.287563</td>\n",
              "      <td>-0.316668</td>\n",
              "      <td>-0.133856</td>\n",
              "      <td>0.503008</td>\n",
              "      <td>-0.039165</td>\n",
              "      <td>-0.090734</td>\n",
              "      <td>0.055525</td>\n",
              "      <td>-0.082432</td>\n",
              "      <td>-0.095903</td>\n",
              "      <td>0.214028</td>\n",
              "      <td>0.232646</td>\n",
              "      <td>-0.098938</td>\n",
              "      <td>-0.117663</td>\n",
              "      <td>0.290847</td>\n",
              "      <td>-0.023200</td>\n",
              "      <td>-0.031113</td>\n",
              "      <td>-0.156534</td>\n",
              "      <td>0.187953</td>\n",
              "      <td>0.039809</td>\n",
              "      <td>-0.193605</td>\n",
              "      <td>0.044424</td>\n",
              "      <td>-0.119147</td>\n",
              "      <td>0.001465</td>\n",
              "      <td>-0.090170</td>\n",
              "      <td>0.228475</td>\n",
              "      <td>0.299477</td>\n",
              "      <td>-0.412852</td>\n",
              "      <td>-0.191728</td>\n",
              "      <td>0.205752</td>\n",
              "      <td>-0.300688</td>\n",
              "      <td>-0.133753</td>\n",
              "      <td>0.002206</td>\n",
              "      <td>0.245214</td>\n",
              "      <td>-0.056659</td>\n",
              "      <td>0.152064</td>\n",
              "      <td>-0.180211</td>\n",
              "      <td>0.022327</td>\n",
              "      <td>0.014688</td>\n",
              "    </tr>\n",
              "    <tr>\n",
              "      <th>4</th>\n",
              "      <td>4</td>\n",
              "      <td>0.099192</td>\n",
              "      <td>-0.140809</td>\n",
              "      <td>-0.012423</td>\n",
              "      <td>-0.150097</td>\n",
              "      <td>-0.120169</td>\n",
              "      <td>0.054078</td>\n",
              "      <td>-0.384291</td>\n",
              "      <td>-0.269650</td>\n",
              "      <td>-0.046161</td>\n",
              "      <td>0.130959</td>\n",
              "      <td>-0.215248</td>\n",
              "      <td>0.158257</td>\n",
              "      <td>-0.134075</td>\n",
              "      <td>-0.146719</td>\n",
              "      <td>-0.225974</td>\n",
              "      <td>0.168122</td>\n",
              "      <td>-0.114289</td>\n",
              "      <td>-0.130104</td>\n",
              "      <td>0.162119</td>\n",
              "      <td>-0.241793</td>\n",
              "      <td>-0.211575</td>\n",
              "      <td>-0.148881</td>\n",
              "      <td>-0.279008</td>\n",
              "      <td>-0.237968</td>\n",
              "      <td>-0.134566</td>\n",
              "      <td>0.136716</td>\n",
              "      <td>-0.251553</td>\n",
              "      <td>0.089406</td>\n",
              "      <td>0.093279</td>\n",
              "      <td>0.038696</td>\n",
              "      <td>0.039987</td>\n",
              "      <td>-0.164180</td>\n",
              "      <td>-0.115864</td>\n",
              "      <td>-0.231034</td>\n",
              "      <td>-0.202994</td>\n",
              "      <td>-0.039647</td>\n",
              "      <td>-0.112555</td>\n",
              "      <td>-0.087960</td>\n",
              "      <td>0.043097</td>\n",
              "      <td>...</td>\n",
              "      <td>-0.025008</td>\n",
              "      <td>-0.133031</td>\n",
              "      <td>0.230745</td>\n",
              "      <td>-0.290248</td>\n",
              "      <td>-0.105768</td>\n",
              "      <td>0.516136</td>\n",
              "      <td>0.049697</td>\n",
              "      <td>-0.117967</td>\n",
              "      <td>0.110480</td>\n",
              "      <td>-0.155596</td>\n",
              "      <td>-0.143313</td>\n",
              "      <td>0.259111</td>\n",
              "      <td>0.123462</td>\n",
              "      <td>-0.100905</td>\n",
              "      <td>-0.082929</td>\n",
              "      <td>0.292229</td>\n",
              "      <td>0.064536</td>\n",
              "      <td>0.055363</td>\n",
              "      <td>-0.128010</td>\n",
              "      <td>0.258008</td>\n",
              "      <td>-0.008580</td>\n",
              "      <td>-0.203917</td>\n",
              "      <td>0.010632</td>\n",
              "      <td>-0.200032</td>\n",
              "      <td>-0.014674</td>\n",
              "      <td>0.069364</td>\n",
              "      <td>0.295395</td>\n",
              "      <td>0.389160</td>\n",
              "      <td>-0.432069</td>\n",
              "      <td>-0.119117</td>\n",
              "      <td>0.179307</td>\n",
              "      <td>-0.367725</td>\n",
              "      <td>-0.217667</td>\n",
              "      <td>-0.064391</td>\n",
              "      <td>0.163382</td>\n",
              "      <td>-0.020638</td>\n",
              "      <td>0.181554</td>\n",
              "      <td>-0.200262</td>\n",
              "      <td>-0.074513</td>\n",
              "      <td>0.037301</td>\n",
              "    </tr>\n",
              "  </tbody>\n",
              "</table>\n",
              "<p>5 rows × 769 columns</p>\n",
              "</div>"
            ],
            "text/plain": [
              "   user_id  feature_0  feature_1  ...  feature_765  feature_766  feature_767\n",
              "0        0   0.132536  -0.137393  ...    -0.136515    -0.012882     0.017399\n",
              "1        1   0.107849  -0.168418  ...    -0.143221     0.030484     0.081693\n",
              "2        2   0.122312  -0.159376  ...    -0.091951     0.025304     0.058501\n",
              "3        3   0.160509  -0.137915  ...    -0.180211     0.022327     0.014688\n",
              "4        4   0.099192  -0.140809  ...    -0.200262    -0.074513     0.037301\n",
              "\n",
              "[5 rows x 769 columns]"
            ]
          },
          "metadata": {
            "tags": []
          },
          "execution_count": 109
        }
      ]
    },
    {
      "cell_type": "code",
      "metadata": {
        "colab": {
          "base_uri": "https://localhost:8080/"
        },
        "id": "FTy070iJVHj2",
        "outputId": "019f6885-4c59-4d4b-8018-f01bbbb810cf"
      },
      "source": [
        "user_desc.shape"
      ],
      "execution_count": null,
      "outputs": [
        {
          "output_type": "execute_result",
          "data": {
            "text/plain": [
              "(52, 769)"
            ]
          },
          "metadata": {
            "tags": []
          },
          "execution_count": 110
        }
      ]
    },
    {
      "cell_type": "code",
      "metadata": {
        "id": "v3JcFRfJVI7m"
      },
      "source": [
        "user_img = pd.read_csv('/content/drive/MyDrive/Viral Tweets Prediction Challenge Dataset/Dataset/Users/user_vectorized_profile_images.csv')"
      ],
      "execution_count": null,
      "outputs": []
    },
    {
      "cell_type": "code",
      "metadata": {
        "colab": {
          "base_uri": "https://localhost:8080/",
          "height": 244
        },
        "id": "d0vSzinyVWvu",
        "outputId": "b77d665f-1c1a-413d-8b8e-43b772a80fd5"
      },
      "source": [
        "user_img.head()"
      ],
      "execution_count": null,
      "outputs": [
        {
          "output_type": "execute_result",
          "data": {
            "text/html": [
              "<div>\n",
              "<style scoped>\n",
              "    .dataframe tbody tr th:only-of-type {\n",
              "        vertical-align: middle;\n",
              "    }\n",
              "\n",
              "    .dataframe tbody tr th {\n",
              "        vertical-align: top;\n",
              "    }\n",
              "\n",
              "    .dataframe thead th {\n",
              "        text-align: right;\n",
              "    }\n",
              "</style>\n",
              "<table border=\"1\" class=\"dataframe\">\n",
              "  <thead>\n",
              "    <tr style=\"text-align: right;\">\n",
              "      <th></th>\n",
              "      <th>user_id</th>\n",
              "      <th>feature_0</th>\n",
              "      <th>feature_1</th>\n",
              "      <th>feature_2</th>\n",
              "      <th>feature_3</th>\n",
              "      <th>feature_4</th>\n",
              "      <th>feature_5</th>\n",
              "      <th>feature_6</th>\n",
              "      <th>feature_7</th>\n",
              "      <th>feature_8</th>\n",
              "      <th>feature_9</th>\n",
              "      <th>feature_10</th>\n",
              "      <th>feature_11</th>\n",
              "      <th>feature_12</th>\n",
              "      <th>feature_13</th>\n",
              "      <th>feature_14</th>\n",
              "      <th>feature_15</th>\n",
              "      <th>feature_16</th>\n",
              "      <th>feature_17</th>\n",
              "      <th>feature_18</th>\n",
              "      <th>feature_19</th>\n",
              "      <th>feature_20</th>\n",
              "      <th>feature_21</th>\n",
              "      <th>feature_22</th>\n",
              "      <th>feature_23</th>\n",
              "      <th>feature_24</th>\n",
              "      <th>feature_25</th>\n",
              "      <th>feature_26</th>\n",
              "      <th>feature_27</th>\n",
              "      <th>feature_28</th>\n",
              "      <th>feature_29</th>\n",
              "      <th>feature_30</th>\n",
              "      <th>feature_31</th>\n",
              "      <th>feature_32</th>\n",
              "      <th>feature_33</th>\n",
              "      <th>feature_34</th>\n",
              "      <th>feature_35</th>\n",
              "      <th>feature_36</th>\n",
              "      <th>feature_37</th>\n",
              "      <th>feature_38</th>\n",
              "      <th>...</th>\n",
              "      <th>feature_2008</th>\n",
              "      <th>feature_2009</th>\n",
              "      <th>feature_2010</th>\n",
              "      <th>feature_2011</th>\n",
              "      <th>feature_2012</th>\n",
              "      <th>feature_2013</th>\n",
              "      <th>feature_2014</th>\n",
              "      <th>feature_2015</th>\n",
              "      <th>feature_2016</th>\n",
              "      <th>feature_2017</th>\n",
              "      <th>feature_2018</th>\n",
              "      <th>feature_2019</th>\n",
              "      <th>feature_2020</th>\n",
              "      <th>feature_2021</th>\n",
              "      <th>feature_2022</th>\n",
              "      <th>feature_2023</th>\n",
              "      <th>feature_2024</th>\n",
              "      <th>feature_2025</th>\n",
              "      <th>feature_2026</th>\n",
              "      <th>feature_2027</th>\n",
              "      <th>feature_2028</th>\n",
              "      <th>feature_2029</th>\n",
              "      <th>feature_2030</th>\n",
              "      <th>feature_2031</th>\n",
              "      <th>feature_2032</th>\n",
              "      <th>feature_2033</th>\n",
              "      <th>feature_2034</th>\n",
              "      <th>feature_2035</th>\n",
              "      <th>feature_2036</th>\n",
              "      <th>feature_2037</th>\n",
              "      <th>feature_2038</th>\n",
              "      <th>feature_2039</th>\n",
              "      <th>feature_2040</th>\n",
              "      <th>feature_2041</th>\n",
              "      <th>feature_2042</th>\n",
              "      <th>feature_2043</th>\n",
              "      <th>feature_2044</th>\n",
              "      <th>feature_2045</th>\n",
              "      <th>feature_2046</th>\n",
              "      <th>feature_2047</th>\n",
              "    </tr>\n",
              "  </thead>\n",
              "  <tbody>\n",
              "    <tr>\n",
              "      <th>0</th>\n",
              "      <td>0</td>\n",
              "      <td>0.449126</td>\n",
              "      <td>0.000000</td>\n",
              "      <td>0.000000</td>\n",
              "      <td>0.0</td>\n",
              "      <td>0.006348</td>\n",
              "      <td>0.000000</td>\n",
              "      <td>0.059772</td>\n",
              "      <td>0.026143</td>\n",
              "      <td>0.013903</td>\n",
              "      <td>0.000348</td>\n",
              "      <td>0.025731</td>\n",
              "      <td>0.464529</td>\n",
              "      <td>0.016236</td>\n",
              "      <td>0.000000</td>\n",
              "      <td>0.066158</td>\n",
              "      <td>0.000000</td>\n",
              "      <td>0.000000</td>\n",
              "      <td>0.119278</td>\n",
              "      <td>0.010585</td>\n",
              "      <td>0.010925</td>\n",
              "      <td>0.175525</td>\n",
              "      <td>0.034174</td>\n",
              "      <td>0.00000</td>\n",
              "      <td>0.044575</td>\n",
              "      <td>0.010829</td>\n",
              "      <td>0.167918</td>\n",
              "      <td>0.075417</td>\n",
              "      <td>0.525636</td>\n",
              "      <td>0.020431</td>\n",
              "      <td>0.054191</td>\n",
              "      <td>0.045793</td>\n",
              "      <td>0.075506</td>\n",
              "      <td>0.196820</td>\n",
              "      <td>0.001700</td>\n",
              "      <td>0.661213</td>\n",
              "      <td>0.047318</td>\n",
              "      <td>0.028807</td>\n",
              "      <td>0.024076</td>\n",
              "      <td>0.000000</td>\n",
              "      <td>...</td>\n",
              "      <td>0.00045</td>\n",
              "      <td>0.000000</td>\n",
              "      <td>0.000000</td>\n",
              "      <td>0.536466</td>\n",
              "      <td>0.000000</td>\n",
              "      <td>0.000000</td>\n",
              "      <td>0.083716</td>\n",
              "      <td>0.083041</td>\n",
              "      <td>0.027311</td>\n",
              "      <td>0.069096</td>\n",
              "      <td>0.000000</td>\n",
              "      <td>0.000000</td>\n",
              "      <td>0.000000</td>\n",
              "      <td>0.000000</td>\n",
              "      <td>0.000525</td>\n",
              "      <td>0.001897</td>\n",
              "      <td>0.000000</td>\n",
              "      <td>0.0</td>\n",
              "      <td>0.000000</td>\n",
              "      <td>0.000000</td>\n",
              "      <td>0.009984</td>\n",
              "      <td>0.000848</td>\n",
              "      <td>1.074829</td>\n",
              "      <td>0.242375</td>\n",
              "      <td>0.027740</td>\n",
              "      <td>0.000000</td>\n",
              "      <td>0.286132</td>\n",
              "      <td>0.011297</td>\n",
              "      <td>0.032700</td>\n",
              "      <td>0.027545</td>\n",
              "      <td>0.202886</td>\n",
              "      <td>0.000000</td>\n",
              "      <td>0.414033</td>\n",
              "      <td>0.000000</td>\n",
              "      <td>0.001876</td>\n",
              "      <td>0.000000</td>\n",
              "      <td>0.00000</td>\n",
              "      <td>0.000000</td>\n",
              "      <td>0.192305</td>\n",
              "      <td>0.000009</td>\n",
              "    </tr>\n",
              "    <tr>\n",
              "      <th>1</th>\n",
              "      <td>1</td>\n",
              "      <td>0.017050</td>\n",
              "      <td>0.009737</td>\n",
              "      <td>0.002633</td>\n",
              "      <td>0.0</td>\n",
              "      <td>0.000000</td>\n",
              "      <td>0.000000</td>\n",
              "      <td>1.184751</td>\n",
              "      <td>0.000000</td>\n",
              "      <td>0.000000</td>\n",
              "      <td>0.042436</td>\n",
              "      <td>0.000000</td>\n",
              "      <td>0.297861</td>\n",
              "      <td>0.007126</td>\n",
              "      <td>0.000000</td>\n",
              "      <td>0.078338</td>\n",
              "      <td>0.000000</td>\n",
              "      <td>0.000685</td>\n",
              "      <td>0.000000</td>\n",
              "      <td>0.316630</td>\n",
              "      <td>0.000000</td>\n",
              "      <td>0.242320</td>\n",
              "      <td>0.000000</td>\n",
              "      <td>0.08313</td>\n",
              "      <td>0.000000</td>\n",
              "      <td>0.000000</td>\n",
              "      <td>0.004858</td>\n",
              "      <td>0.027106</td>\n",
              "      <td>0.117184</td>\n",
              "      <td>0.010450</td>\n",
              "      <td>0.004800</td>\n",
              "      <td>0.026172</td>\n",
              "      <td>0.044867</td>\n",
              "      <td>0.369582</td>\n",
              "      <td>0.047539</td>\n",
              "      <td>0.182544</td>\n",
              "      <td>0.000467</td>\n",
              "      <td>0.151356</td>\n",
              "      <td>0.076805</td>\n",
              "      <td>0.010786</td>\n",
              "      <td>...</td>\n",
              "      <td>0.00000</td>\n",
              "      <td>0.000000</td>\n",
              "      <td>0.000000</td>\n",
              "      <td>0.436107</td>\n",
              "      <td>0.303672</td>\n",
              "      <td>0.191465</td>\n",
              "      <td>0.455144</td>\n",
              "      <td>0.050813</td>\n",
              "      <td>0.000000</td>\n",
              "      <td>0.000243</td>\n",
              "      <td>0.046793</td>\n",
              "      <td>0.100177</td>\n",
              "      <td>0.000000</td>\n",
              "      <td>0.489770</td>\n",
              "      <td>0.000000</td>\n",
              "      <td>0.549729</td>\n",
              "      <td>0.004078</td>\n",
              "      <td>0.0</td>\n",
              "      <td>0.034326</td>\n",
              "      <td>0.000000</td>\n",
              "      <td>0.026195</td>\n",
              "      <td>0.000000</td>\n",
              "      <td>0.002054</td>\n",
              "      <td>0.145270</td>\n",
              "      <td>0.091601</td>\n",
              "      <td>0.000000</td>\n",
              "      <td>0.000000</td>\n",
              "      <td>0.000000</td>\n",
              "      <td>0.002272</td>\n",
              "      <td>0.000485</td>\n",
              "      <td>0.111723</td>\n",
              "      <td>0.086082</td>\n",
              "      <td>0.000000</td>\n",
              "      <td>0.000000</td>\n",
              "      <td>0.412172</td>\n",
              "      <td>0.000000</td>\n",
              "      <td>0.00000</td>\n",
              "      <td>0.254945</td>\n",
              "      <td>0.536927</td>\n",
              "      <td>0.460923</td>\n",
              "    </tr>\n",
              "    <tr>\n",
              "      <th>2</th>\n",
              "      <td>2</td>\n",
              "      <td>0.000000</td>\n",
              "      <td>0.068666</td>\n",
              "      <td>0.000000</td>\n",
              "      <td>0.0</td>\n",
              "      <td>0.000000</td>\n",
              "      <td>0.085349</td>\n",
              "      <td>0.349153</td>\n",
              "      <td>0.000000</td>\n",
              "      <td>0.000000</td>\n",
              "      <td>0.000000</td>\n",
              "      <td>0.000000</td>\n",
              "      <td>0.520052</td>\n",
              "      <td>0.043143</td>\n",
              "      <td>0.000000</td>\n",
              "      <td>0.000000</td>\n",
              "      <td>0.022519</td>\n",
              "      <td>0.000000</td>\n",
              "      <td>0.000446</td>\n",
              "      <td>0.000000</td>\n",
              "      <td>0.305101</td>\n",
              "      <td>0.000000</td>\n",
              "      <td>0.171112</td>\n",
              "      <td>0.00000</td>\n",
              "      <td>0.000000</td>\n",
              "      <td>0.000000</td>\n",
              "      <td>0.000000</td>\n",
              "      <td>0.134256</td>\n",
              "      <td>0.315113</td>\n",
              "      <td>0.000000</td>\n",
              "      <td>0.000000</td>\n",
              "      <td>0.112964</td>\n",
              "      <td>0.027715</td>\n",
              "      <td>0.154152</td>\n",
              "      <td>0.016018</td>\n",
              "      <td>0.972479</td>\n",
              "      <td>0.009501</td>\n",
              "      <td>0.048328</td>\n",
              "      <td>0.059502</td>\n",
              "      <td>0.000000</td>\n",
              "      <td>...</td>\n",
              "      <td>0.00000</td>\n",
              "      <td>0.021245</td>\n",
              "      <td>0.038089</td>\n",
              "      <td>0.769890</td>\n",
              "      <td>0.001667</td>\n",
              "      <td>0.647853</td>\n",
              "      <td>0.026776</td>\n",
              "      <td>0.000000</td>\n",
              "      <td>0.152245</td>\n",
              "      <td>0.005618</td>\n",
              "      <td>0.000000</td>\n",
              "      <td>0.000000</td>\n",
              "      <td>0.154669</td>\n",
              "      <td>0.419150</td>\n",
              "      <td>0.058605</td>\n",
              "      <td>0.171305</td>\n",
              "      <td>0.088889</td>\n",
              "      <td>0.0</td>\n",
              "      <td>0.000000</td>\n",
              "      <td>0.010271</td>\n",
              "      <td>0.000000</td>\n",
              "      <td>0.005644</td>\n",
              "      <td>0.023498</td>\n",
              "      <td>0.035467</td>\n",
              "      <td>0.169990</td>\n",
              "      <td>0.060312</td>\n",
              "      <td>0.000000</td>\n",
              "      <td>0.000000</td>\n",
              "      <td>0.000000</td>\n",
              "      <td>0.000000</td>\n",
              "      <td>0.000000</td>\n",
              "      <td>0.000000</td>\n",
              "      <td>0.000000</td>\n",
              "      <td>0.054352</td>\n",
              "      <td>0.000000</td>\n",
              "      <td>0.219981</td>\n",
              "      <td>0.00000</td>\n",
              "      <td>0.000000</td>\n",
              "      <td>0.150882</td>\n",
              "      <td>0.000000</td>\n",
              "    </tr>\n",
              "    <tr>\n",
              "      <th>3</th>\n",
              "      <td>3</td>\n",
              "      <td>0.000000</td>\n",
              "      <td>0.168951</td>\n",
              "      <td>0.118449</td>\n",
              "      <td>0.0</td>\n",
              "      <td>0.000000</td>\n",
              "      <td>0.000000</td>\n",
              "      <td>0.392767</td>\n",
              "      <td>0.000000</td>\n",
              "      <td>0.000000</td>\n",
              "      <td>0.000000</td>\n",
              "      <td>0.000000</td>\n",
              "      <td>0.377547</td>\n",
              "      <td>0.000000</td>\n",
              "      <td>0.000000</td>\n",
              "      <td>0.000000</td>\n",
              "      <td>0.000000</td>\n",
              "      <td>0.002089</td>\n",
              "      <td>0.166473</td>\n",
              "      <td>0.000000</td>\n",
              "      <td>0.000829</td>\n",
              "      <td>0.012438</td>\n",
              "      <td>0.025962</td>\n",
              "      <td>0.00000</td>\n",
              "      <td>0.193643</td>\n",
              "      <td>0.000000</td>\n",
              "      <td>0.000000</td>\n",
              "      <td>0.046941</td>\n",
              "      <td>0.024092</td>\n",
              "      <td>0.000000</td>\n",
              "      <td>0.249963</td>\n",
              "      <td>0.000000</td>\n",
              "      <td>0.097312</td>\n",
              "      <td>0.000000</td>\n",
              "      <td>0.000000</td>\n",
              "      <td>0.157172</td>\n",
              "      <td>0.180169</td>\n",
              "      <td>0.000000</td>\n",
              "      <td>0.001815</td>\n",
              "      <td>0.000000</td>\n",
              "      <td>...</td>\n",
              "      <td>0.00000</td>\n",
              "      <td>0.000000</td>\n",
              "      <td>0.000000</td>\n",
              "      <td>0.273602</td>\n",
              "      <td>0.000000</td>\n",
              "      <td>1.346873</td>\n",
              "      <td>0.082853</td>\n",
              "      <td>0.000000</td>\n",
              "      <td>0.000000</td>\n",
              "      <td>0.000000</td>\n",
              "      <td>0.000000</td>\n",
              "      <td>0.002634</td>\n",
              "      <td>0.000000</td>\n",
              "      <td>0.040582</td>\n",
              "      <td>0.000000</td>\n",
              "      <td>0.051374</td>\n",
              "      <td>0.000000</td>\n",
              "      <td>0.0</td>\n",
              "      <td>0.000000</td>\n",
              "      <td>0.008074</td>\n",
              "      <td>0.000000</td>\n",
              "      <td>0.000000</td>\n",
              "      <td>0.000000</td>\n",
              "      <td>0.000000</td>\n",
              "      <td>0.000000</td>\n",
              "      <td>0.000000</td>\n",
              "      <td>0.000000</td>\n",
              "      <td>0.000000</td>\n",
              "      <td>0.032581</td>\n",
              "      <td>0.016538</td>\n",
              "      <td>0.000000</td>\n",
              "      <td>0.168835</td>\n",
              "      <td>0.000000</td>\n",
              "      <td>0.000000</td>\n",
              "      <td>0.000000</td>\n",
              "      <td>0.000000</td>\n",
              "      <td>0.00000</td>\n",
              "      <td>0.000000</td>\n",
              "      <td>0.424234</td>\n",
              "      <td>0.000000</td>\n",
              "    </tr>\n",
              "    <tr>\n",
              "      <th>4</th>\n",
              "      <td>4</td>\n",
              "      <td>0.286990</td>\n",
              "      <td>0.299091</td>\n",
              "      <td>0.138534</td>\n",
              "      <td>0.0</td>\n",
              "      <td>0.000000</td>\n",
              "      <td>0.000000</td>\n",
              "      <td>0.360286</td>\n",
              "      <td>0.042764</td>\n",
              "      <td>0.014573</td>\n",
              "      <td>0.003912</td>\n",
              "      <td>0.000000</td>\n",
              "      <td>0.130987</td>\n",
              "      <td>0.145699</td>\n",
              "      <td>0.019894</td>\n",
              "      <td>0.324197</td>\n",
              "      <td>0.000486</td>\n",
              "      <td>0.000000</td>\n",
              "      <td>0.349089</td>\n",
              "      <td>0.010257</td>\n",
              "      <td>0.000000</td>\n",
              "      <td>0.000000</td>\n",
              "      <td>0.000000</td>\n",
              "      <td>0.00000</td>\n",
              "      <td>0.033734</td>\n",
              "      <td>0.123600</td>\n",
              "      <td>0.000000</td>\n",
              "      <td>0.000000</td>\n",
              "      <td>0.544103</td>\n",
              "      <td>0.163714</td>\n",
              "      <td>0.423021</td>\n",
              "      <td>0.022832</td>\n",
              "      <td>0.019733</td>\n",
              "      <td>0.106885</td>\n",
              "      <td>0.001421</td>\n",
              "      <td>0.014502</td>\n",
              "      <td>0.000000</td>\n",
              "      <td>0.015824</td>\n",
              "      <td>0.159043</td>\n",
              "      <td>0.000000</td>\n",
              "      <td>...</td>\n",
              "      <td>0.00000</td>\n",
              "      <td>0.145077</td>\n",
              "      <td>0.000000</td>\n",
              "      <td>0.130975</td>\n",
              "      <td>0.000000</td>\n",
              "      <td>0.000000</td>\n",
              "      <td>0.434044</td>\n",
              "      <td>0.115035</td>\n",
              "      <td>0.008311</td>\n",
              "      <td>0.236507</td>\n",
              "      <td>0.001722</td>\n",
              "      <td>0.000000</td>\n",
              "      <td>0.000000</td>\n",
              "      <td>0.043148</td>\n",
              "      <td>0.427985</td>\n",
              "      <td>0.076679</td>\n",
              "      <td>0.000000</td>\n",
              "      <td>0.0</td>\n",
              "      <td>0.000000</td>\n",
              "      <td>0.000000</td>\n",
              "      <td>0.033071</td>\n",
              "      <td>0.000756</td>\n",
              "      <td>0.008221</td>\n",
              "      <td>0.093688</td>\n",
              "      <td>0.001639</td>\n",
              "      <td>0.000000</td>\n",
              "      <td>0.090773</td>\n",
              "      <td>0.042130</td>\n",
              "      <td>0.035808</td>\n",
              "      <td>0.000000</td>\n",
              "      <td>0.163468</td>\n",
              "      <td>0.001998</td>\n",
              "      <td>0.224525</td>\n",
              "      <td>0.000000</td>\n",
              "      <td>0.235216</td>\n",
              "      <td>0.000000</td>\n",
              "      <td>0.01757</td>\n",
              "      <td>0.000000</td>\n",
              "      <td>0.059346</td>\n",
              "      <td>0.000000</td>\n",
              "    </tr>\n",
              "  </tbody>\n",
              "</table>\n",
              "<p>5 rows × 2049 columns</p>\n",
              "</div>"
            ],
            "text/plain": [
              "   user_id  feature_0  feature_1  ...  feature_2045  feature_2046  feature_2047\n",
              "0        0   0.449126   0.000000  ...      0.000000      0.192305      0.000009\n",
              "1        1   0.017050   0.009737  ...      0.254945      0.536927      0.460923\n",
              "2        2   0.000000   0.068666  ...      0.000000      0.150882      0.000000\n",
              "3        3   0.000000   0.168951  ...      0.000000      0.424234      0.000000\n",
              "4        4   0.286990   0.299091  ...      0.000000      0.059346      0.000000\n",
              "\n",
              "[5 rows x 2049 columns]"
            ]
          },
          "metadata": {
            "tags": []
          },
          "execution_count": 112
        }
      ]
    },
    {
      "cell_type": "code",
      "metadata": {
        "colab": {
          "base_uri": "https://localhost:8080/"
        },
        "id": "XMQDrZWEVcKK",
        "outputId": "134e7613-a14c-48b6-c0d9-7825895730f9"
      },
      "source": [
        "user_img.shape"
      ],
      "execution_count": null,
      "outputs": [
        {
          "output_type": "execute_result",
          "data": {
            "text/plain": [
              "(52, 2049)"
            ]
          },
          "metadata": {
            "tags": []
          },
          "execution_count": 113
        }
      ]
    },
    {
      "cell_type": "markdown",
      "metadata": {
        "id": "tVW3MELJmr49"
      },
      "source": [
        "#Tweet Text"
      ]
    },
    {
      "cell_type": "code",
      "metadata": {
        "id": "AA3lW4aEWQEl"
      },
      "source": [
        "train_text = pd.read_csv('/content/drive/MyDrive/Viral Tweets Prediction Challenge Dataset/Dataset/Tweets/train_tweets_vectorized_text.csv')"
      ],
      "execution_count": null,
      "outputs": []
    },
    {
      "cell_type": "code",
      "metadata": {
        "colab": {
          "base_uri": "https://localhost:8080/"
        },
        "id": "sEq8sdvNWaHa",
        "outputId": "b5ae3ba6-ab14-4d47-8c5d-5d5735e8a920"
      },
      "source": [
        "train_text.shape"
      ],
      "execution_count": null,
      "outputs": [
        {
          "output_type": "execute_result",
          "data": {
            "text/plain": [
              "(29625, 769)"
            ]
          },
          "metadata": {
            "tags": []
          },
          "execution_count": 4
        }
      ]
    },
    {
      "cell_type": "code",
      "metadata": {
        "colab": {
          "base_uri": "https://localhost:8080/",
          "height": 244
        },
        "id": "gg-rVT4mWc1f",
        "outputId": "bb4d3fda-4d17-4014-d6b9-e7117c8bbcbf"
      },
      "source": [
        "train_text.head()"
      ],
      "execution_count": null,
      "outputs": [
        {
          "output_type": "execute_result",
          "data": {
            "text/html": [
              "<div>\n",
              "<style scoped>\n",
              "    .dataframe tbody tr th:only-of-type {\n",
              "        vertical-align: middle;\n",
              "    }\n",
              "\n",
              "    .dataframe tbody tr th {\n",
              "        vertical-align: top;\n",
              "    }\n",
              "\n",
              "    .dataframe thead th {\n",
              "        text-align: right;\n",
              "    }\n",
              "</style>\n",
              "<table border=\"1\" class=\"dataframe\">\n",
              "  <thead>\n",
              "    <tr style=\"text-align: right;\">\n",
              "      <th></th>\n",
              "      <th>tweet_id</th>\n",
              "      <th>feature_0</th>\n",
              "      <th>feature_1</th>\n",
              "      <th>feature_2</th>\n",
              "      <th>feature_3</th>\n",
              "      <th>feature_4</th>\n",
              "      <th>feature_5</th>\n",
              "      <th>feature_6</th>\n",
              "      <th>feature_7</th>\n",
              "      <th>feature_8</th>\n",
              "      <th>feature_9</th>\n",
              "      <th>feature_10</th>\n",
              "      <th>feature_11</th>\n",
              "      <th>feature_12</th>\n",
              "      <th>feature_13</th>\n",
              "      <th>feature_14</th>\n",
              "      <th>feature_15</th>\n",
              "      <th>feature_16</th>\n",
              "      <th>feature_17</th>\n",
              "      <th>feature_18</th>\n",
              "      <th>feature_19</th>\n",
              "      <th>feature_20</th>\n",
              "      <th>feature_21</th>\n",
              "      <th>feature_22</th>\n",
              "      <th>feature_23</th>\n",
              "      <th>feature_24</th>\n",
              "      <th>feature_25</th>\n",
              "      <th>feature_26</th>\n",
              "      <th>feature_27</th>\n",
              "      <th>feature_28</th>\n",
              "      <th>feature_29</th>\n",
              "      <th>feature_30</th>\n",
              "      <th>feature_31</th>\n",
              "      <th>feature_32</th>\n",
              "      <th>feature_33</th>\n",
              "      <th>feature_34</th>\n",
              "      <th>feature_35</th>\n",
              "      <th>feature_36</th>\n",
              "      <th>feature_37</th>\n",
              "      <th>feature_38</th>\n",
              "      <th>...</th>\n",
              "      <th>feature_728</th>\n",
              "      <th>feature_729</th>\n",
              "      <th>feature_730</th>\n",
              "      <th>feature_731</th>\n",
              "      <th>feature_732</th>\n",
              "      <th>feature_733</th>\n",
              "      <th>feature_734</th>\n",
              "      <th>feature_735</th>\n",
              "      <th>feature_736</th>\n",
              "      <th>feature_737</th>\n",
              "      <th>feature_738</th>\n",
              "      <th>feature_739</th>\n",
              "      <th>feature_740</th>\n",
              "      <th>feature_741</th>\n",
              "      <th>feature_742</th>\n",
              "      <th>feature_743</th>\n",
              "      <th>feature_744</th>\n",
              "      <th>feature_745</th>\n",
              "      <th>feature_746</th>\n",
              "      <th>feature_747</th>\n",
              "      <th>feature_748</th>\n",
              "      <th>feature_749</th>\n",
              "      <th>feature_750</th>\n",
              "      <th>feature_751</th>\n",
              "      <th>feature_752</th>\n",
              "      <th>feature_753</th>\n",
              "      <th>feature_754</th>\n",
              "      <th>feature_755</th>\n",
              "      <th>feature_756</th>\n",
              "      <th>feature_757</th>\n",
              "      <th>feature_758</th>\n",
              "      <th>feature_759</th>\n",
              "      <th>feature_760</th>\n",
              "      <th>feature_761</th>\n",
              "      <th>feature_762</th>\n",
              "      <th>feature_763</th>\n",
              "      <th>feature_764</th>\n",
              "      <th>feature_765</th>\n",
              "      <th>feature_766</th>\n",
              "      <th>feature_767</th>\n",
              "    </tr>\n",
              "  </thead>\n",
              "  <tbody>\n",
              "    <tr>\n",
              "      <th>0</th>\n",
              "      <td>0</td>\n",
              "      <td>0.125605</td>\n",
              "      <td>-0.136067</td>\n",
              "      <td>-0.121691</td>\n",
              "      <td>-0.160296</td>\n",
              "      <td>-0.074407</td>\n",
              "      <td>0.119014</td>\n",
              "      <td>-0.343523</td>\n",
              "      <td>-0.289790</td>\n",
              "      <td>-0.037007</td>\n",
              "      <td>0.120231</td>\n",
              "      <td>-0.245443</td>\n",
              "      <td>0.199461</td>\n",
              "      <td>-0.154236</td>\n",
              "      <td>-0.200109</td>\n",
              "      <td>-0.206436</td>\n",
              "      <td>0.270252</td>\n",
              "      <td>-0.142692</td>\n",
              "      <td>-0.102078</td>\n",
              "      <td>0.157226</td>\n",
              "      <td>-0.334515</td>\n",
              "      <td>-0.264958</td>\n",
              "      <td>-0.112983</td>\n",
              "      <td>-0.293211</td>\n",
              "      <td>-0.253694</td>\n",
              "      <td>-0.104198</td>\n",
              "      <td>0.056506</td>\n",
              "      <td>-0.231244</td>\n",
              "      <td>0.152571</td>\n",
              "      <td>0.206752</td>\n",
              "      <td>-0.150545</td>\n",
              "      <td>0.112063</td>\n",
              "      <td>-0.129411</td>\n",
              "      <td>-0.224150</td>\n",
              "      <td>-0.175330</td>\n",
              "      <td>-0.165828</td>\n",
              "      <td>-0.066047</td>\n",
              "      <td>-0.159027</td>\n",
              "      <td>0.009872</td>\n",
              "      <td>0.019299</td>\n",
              "      <td>...</td>\n",
              "      <td>0.039782</td>\n",
              "      <td>-0.174679</td>\n",
              "      <td>0.148821</td>\n",
              "      <td>-0.192575</td>\n",
              "      <td>-0.114211</td>\n",
              "      <td>0.496451</td>\n",
              "      <td>0.040274</td>\n",
              "      <td>-0.142680</td>\n",
              "      <td>0.169754</td>\n",
              "      <td>-0.075535</td>\n",
              "      <td>-0.117306</td>\n",
              "      <td>0.261488</td>\n",
              "      <td>0.240786</td>\n",
              "      <td>-0.150380</td>\n",
              "      <td>-0.080656</td>\n",
              "      <td>0.310319</td>\n",
              "      <td>0.042854</td>\n",
              "      <td>0.048131</td>\n",
              "      <td>-0.172710</td>\n",
              "      <td>0.135926</td>\n",
              "      <td>-0.043390</td>\n",
              "      <td>-0.208796</td>\n",
              "      <td>0.040137</td>\n",
              "      <td>-0.190645</td>\n",
              "      <td>-0.096934</td>\n",
              "      <td>-0.009036</td>\n",
              "      <td>0.284776</td>\n",
              "      <td>0.338148</td>\n",
              "      <td>-0.440536</td>\n",
              "      <td>-0.090837</td>\n",
              "      <td>0.215511</td>\n",
              "      <td>-0.330016</td>\n",
              "      <td>-0.143669</td>\n",
              "      <td>-0.017097</td>\n",
              "      <td>0.211852</td>\n",
              "      <td>0.009358</td>\n",
              "      <td>0.205395</td>\n",
              "      <td>-0.100113</td>\n",
              "      <td>0.013015</td>\n",
              "      <td>0.053247</td>\n",
              "    </tr>\n",
              "    <tr>\n",
              "      <th>1</th>\n",
              "      <td>1</td>\n",
              "      <td>0.064982</td>\n",
              "      <td>-0.116850</td>\n",
              "      <td>0.034871</td>\n",
              "      <td>-0.090357</td>\n",
              "      <td>-0.067459</td>\n",
              "      <td>0.030954</td>\n",
              "      <td>-0.361263</td>\n",
              "      <td>-0.294617</td>\n",
              "      <td>-0.077854</td>\n",
              "      <td>0.135007</td>\n",
              "      <td>-0.192705</td>\n",
              "      <td>0.252616</td>\n",
              "      <td>-0.135662</td>\n",
              "      <td>-0.201412</td>\n",
              "      <td>-0.183382</td>\n",
              "      <td>0.173640</td>\n",
              "      <td>-0.103182</td>\n",
              "      <td>-0.074723</td>\n",
              "      <td>0.234004</td>\n",
              "      <td>-0.283560</td>\n",
              "      <td>-0.120644</td>\n",
              "      <td>-0.063076</td>\n",
              "      <td>-0.248546</td>\n",
              "      <td>-0.224326</td>\n",
              "      <td>-0.176795</td>\n",
              "      <td>0.061400</td>\n",
              "      <td>-0.243843</td>\n",
              "      <td>0.226394</td>\n",
              "      <td>0.101096</td>\n",
              "      <td>-0.077593</td>\n",
              "      <td>0.057844</td>\n",
              "      <td>-0.086949</td>\n",
              "      <td>-0.239860</td>\n",
              "      <td>-0.303655</td>\n",
              "      <td>-0.223538</td>\n",
              "      <td>-0.041548</td>\n",
              "      <td>-0.162694</td>\n",
              "      <td>0.005842</td>\n",
              "      <td>0.053615</td>\n",
              "      <td>...</td>\n",
              "      <td>0.151876</td>\n",
              "      <td>-0.153876</td>\n",
              "      <td>0.272216</td>\n",
              "      <td>-0.265888</td>\n",
              "      <td>-0.124845</td>\n",
              "      <td>0.500886</td>\n",
              "      <td>-0.053478</td>\n",
              "      <td>-0.159796</td>\n",
              "      <td>0.102271</td>\n",
              "      <td>0.032116</td>\n",
              "      <td>-0.034348</td>\n",
              "      <td>0.292187</td>\n",
              "      <td>0.236578</td>\n",
              "      <td>-0.006660</td>\n",
              "      <td>-0.113676</td>\n",
              "      <td>0.249192</td>\n",
              "      <td>0.048188</td>\n",
              "      <td>-0.055551</td>\n",
              "      <td>-0.037698</td>\n",
              "      <td>0.148909</td>\n",
              "      <td>0.064823</td>\n",
              "      <td>-0.270230</td>\n",
              "      <td>0.003926</td>\n",
              "      <td>-0.207080</td>\n",
              "      <td>-0.062248</td>\n",
              "      <td>-0.056531</td>\n",
              "      <td>0.188629</td>\n",
              "      <td>0.366379</td>\n",
              "      <td>-0.511710</td>\n",
              "      <td>-0.025049</td>\n",
              "      <td>0.193301</td>\n",
              "      <td>-0.391395</td>\n",
              "      <td>-0.120417</td>\n",
              "      <td>-0.072493</td>\n",
              "      <td>0.188275</td>\n",
              "      <td>-0.084694</td>\n",
              "      <td>0.152518</td>\n",
              "      <td>-0.109684</td>\n",
              "      <td>0.034304</td>\n",
              "      <td>0.018237</td>\n",
              "    </tr>\n",
              "    <tr>\n",
              "      <th>2</th>\n",
              "      <td>4</td>\n",
              "      <td>0.051160</td>\n",
              "      <td>-0.076732</td>\n",
              "      <td>0.005174</td>\n",
              "      <td>-0.071699</td>\n",
              "      <td>-0.204004</td>\n",
              "      <td>0.034764</td>\n",
              "      <td>-0.320014</td>\n",
              "      <td>-0.231828</td>\n",
              "      <td>-0.121784</td>\n",
              "      <td>0.101362</td>\n",
              "      <td>-0.238145</td>\n",
              "      <td>0.173951</td>\n",
              "      <td>-0.102029</td>\n",
              "      <td>-0.181864</td>\n",
              "      <td>-0.214877</td>\n",
              "      <td>0.186110</td>\n",
              "      <td>-0.032114</td>\n",
              "      <td>-0.143620</td>\n",
              "      <td>0.175421</td>\n",
              "      <td>-0.260034</td>\n",
              "      <td>-0.103828</td>\n",
              "      <td>-0.122353</td>\n",
              "      <td>-0.316970</td>\n",
              "      <td>-0.289015</td>\n",
              "      <td>-0.215771</td>\n",
              "      <td>0.027695</td>\n",
              "      <td>-0.254362</td>\n",
              "      <td>0.160985</td>\n",
              "      <td>0.040491</td>\n",
              "      <td>-0.019251</td>\n",
              "      <td>0.156431</td>\n",
              "      <td>-0.089619</td>\n",
              "      <td>-0.204530</td>\n",
              "      <td>-0.155480</td>\n",
              "      <td>-0.207329</td>\n",
              "      <td>-0.044228</td>\n",
              "      <td>-0.094432</td>\n",
              "      <td>-0.054102</td>\n",
              "      <td>-0.069460</td>\n",
              "      <td>...</td>\n",
              "      <td>0.013487</td>\n",
              "      <td>-0.145385</td>\n",
              "      <td>0.251336</td>\n",
              "      <td>-0.243751</td>\n",
              "      <td>-0.218401</td>\n",
              "      <td>0.557650</td>\n",
              "      <td>-0.032927</td>\n",
              "      <td>-0.233999</td>\n",
              "      <td>0.107764</td>\n",
              "      <td>-0.054706</td>\n",
              "      <td>-0.151404</td>\n",
              "      <td>0.268172</td>\n",
              "      <td>0.148024</td>\n",
              "      <td>0.066601</td>\n",
              "      <td>-0.126532</td>\n",
              "      <td>0.235418</td>\n",
              "      <td>0.013908</td>\n",
              "      <td>0.107383</td>\n",
              "      <td>-0.114999</td>\n",
              "      <td>0.242328</td>\n",
              "      <td>0.062410</td>\n",
              "      <td>-0.122995</td>\n",
              "      <td>0.026454</td>\n",
              "      <td>-0.118704</td>\n",
              "      <td>-0.025266</td>\n",
              "      <td>0.015129</td>\n",
              "      <td>0.252958</td>\n",
              "      <td>0.273657</td>\n",
              "      <td>-0.522295</td>\n",
              "      <td>-0.049114</td>\n",
              "      <td>0.163904</td>\n",
              "      <td>-0.299526</td>\n",
              "      <td>-0.099811</td>\n",
              "      <td>-0.049208</td>\n",
              "      <td>0.170104</td>\n",
              "      <td>-0.125188</td>\n",
              "      <td>0.111381</td>\n",
              "      <td>-0.180564</td>\n",
              "      <td>-0.061082</td>\n",
              "      <td>0.142650</td>\n",
              "    </tr>\n",
              "    <tr>\n",
              "      <th>3</th>\n",
              "      <td>5</td>\n",
              "      <td>0.127061</td>\n",
              "      <td>-0.063152</td>\n",
              "      <td>0.010520</td>\n",
              "      <td>0.000385</td>\n",
              "      <td>-0.146983</td>\n",
              "      <td>-0.099981</td>\n",
              "      <td>-0.382142</td>\n",
              "      <td>-0.287832</td>\n",
              "      <td>-0.129653</td>\n",
              "      <td>0.056506</td>\n",
              "      <td>-0.180725</td>\n",
              "      <td>0.183492</td>\n",
              "      <td>-0.055121</td>\n",
              "      <td>-0.205312</td>\n",
              "      <td>-0.267817</td>\n",
              "      <td>0.152828</td>\n",
              "      <td>-0.026461</td>\n",
              "      <td>-0.150457</td>\n",
              "      <td>0.253863</td>\n",
              "      <td>-0.289086</td>\n",
              "      <td>-0.194721</td>\n",
              "      <td>-0.073793</td>\n",
              "      <td>-0.313012</td>\n",
              "      <td>-0.311311</td>\n",
              "      <td>-0.254014</td>\n",
              "      <td>-0.055075</td>\n",
              "      <td>-0.147885</td>\n",
              "      <td>0.179036</td>\n",
              "      <td>0.120235</td>\n",
              "      <td>-0.005531</td>\n",
              "      <td>0.080192</td>\n",
              "      <td>-0.229052</td>\n",
              "      <td>-0.137060</td>\n",
              "      <td>-0.281633</td>\n",
              "      <td>-0.225555</td>\n",
              "      <td>-0.010621</td>\n",
              "      <td>-0.105480</td>\n",
              "      <td>-0.135987</td>\n",
              "      <td>-0.034342</td>\n",
              "      <td>...</td>\n",
              "      <td>0.058002</td>\n",
              "      <td>-0.146499</td>\n",
              "      <td>0.203021</td>\n",
              "      <td>-0.242434</td>\n",
              "      <td>-0.169852</td>\n",
              "      <td>0.488979</td>\n",
              "      <td>0.018102</td>\n",
              "      <td>-0.178110</td>\n",
              "      <td>0.155078</td>\n",
              "      <td>-0.020591</td>\n",
              "      <td>-0.145490</td>\n",
              "      <td>0.284350</td>\n",
              "      <td>0.186599</td>\n",
              "      <td>0.037712</td>\n",
              "      <td>-0.143745</td>\n",
              "      <td>0.180907</td>\n",
              "      <td>-0.023579</td>\n",
              "      <td>0.016043</td>\n",
              "      <td>-0.097705</td>\n",
              "      <td>0.168376</td>\n",
              "      <td>0.072525</td>\n",
              "      <td>-0.184797</td>\n",
              "      <td>0.048695</td>\n",
              "      <td>-0.136387</td>\n",
              "      <td>-0.102923</td>\n",
              "      <td>-0.042237</td>\n",
              "      <td>0.235340</td>\n",
              "      <td>0.317434</td>\n",
              "      <td>-0.532257</td>\n",
              "      <td>-0.036280</td>\n",
              "      <td>0.168049</td>\n",
              "      <td>-0.355778</td>\n",
              "      <td>-0.150411</td>\n",
              "      <td>-0.067176</td>\n",
              "      <td>0.216000</td>\n",
              "      <td>-0.076183</td>\n",
              "      <td>0.158889</td>\n",
              "      <td>-0.057773</td>\n",
              "      <td>-0.079182</td>\n",
              "      <td>0.057414</td>\n",
              "    </tr>\n",
              "    <tr>\n",
              "      <th>4</th>\n",
              "      <td>8</td>\n",
              "      <td>0.144889</td>\n",
              "      <td>-0.084671</td>\n",
              "      <td>0.147057</td>\n",
              "      <td>-0.068760</td>\n",
              "      <td>-0.024226</td>\n",
              "      <td>0.081921</td>\n",
              "      <td>-0.362943</td>\n",
              "      <td>-0.288691</td>\n",
              "      <td>-0.121206</td>\n",
              "      <td>0.145029</td>\n",
              "      <td>-0.226151</td>\n",
              "      <td>0.219446</td>\n",
              "      <td>-0.065560</td>\n",
              "      <td>-0.249132</td>\n",
              "      <td>-0.253098</td>\n",
              "      <td>0.139695</td>\n",
              "      <td>-0.006103</td>\n",
              "      <td>-0.133933</td>\n",
              "      <td>0.246038</td>\n",
              "      <td>-0.293615</td>\n",
              "      <td>-0.202569</td>\n",
              "      <td>-0.105134</td>\n",
              "      <td>-0.260601</td>\n",
              "      <td>-0.281008</td>\n",
              "      <td>-0.168580</td>\n",
              "      <td>-0.036372</td>\n",
              "      <td>-0.212415</td>\n",
              "      <td>0.052084</td>\n",
              "      <td>0.090292</td>\n",
              "      <td>-0.025743</td>\n",
              "      <td>0.087359</td>\n",
              "      <td>-0.068358</td>\n",
              "      <td>-0.228364</td>\n",
              "      <td>-0.236147</td>\n",
              "      <td>-0.155169</td>\n",
              "      <td>-0.103995</td>\n",
              "      <td>-0.178480</td>\n",
              "      <td>-0.073000</td>\n",
              "      <td>-0.061950</td>\n",
              "      <td>...</td>\n",
              "      <td>0.059290</td>\n",
              "      <td>-0.132187</td>\n",
              "      <td>0.255592</td>\n",
              "      <td>-0.292721</td>\n",
              "      <td>-0.240281</td>\n",
              "      <td>0.562846</td>\n",
              "      <td>0.022170</td>\n",
              "      <td>-0.174992</td>\n",
              "      <td>0.161351</td>\n",
              "      <td>-0.039306</td>\n",
              "      <td>-0.113506</td>\n",
              "      <td>0.256670</td>\n",
              "      <td>0.236067</td>\n",
              "      <td>0.038830</td>\n",
              "      <td>-0.130292</td>\n",
              "      <td>0.260965</td>\n",
              "      <td>0.022115</td>\n",
              "      <td>0.017341</td>\n",
              "      <td>-0.055450</td>\n",
              "      <td>0.205454</td>\n",
              "      <td>-0.037376</td>\n",
              "      <td>-0.141493</td>\n",
              "      <td>0.091427</td>\n",
              "      <td>-0.116183</td>\n",
              "      <td>-0.065763</td>\n",
              "      <td>-0.044039</td>\n",
              "      <td>0.178388</td>\n",
              "      <td>0.402246</td>\n",
              "      <td>-0.518461</td>\n",
              "      <td>-0.054657</td>\n",
              "      <td>0.212959</td>\n",
              "      <td>-0.389882</td>\n",
              "      <td>-0.157168</td>\n",
              "      <td>-0.051536</td>\n",
              "      <td>0.129986</td>\n",
              "      <td>-0.021489</td>\n",
              "      <td>0.184418</td>\n",
              "      <td>-0.058603</td>\n",
              "      <td>-0.023088</td>\n",
              "      <td>0.084837</td>\n",
              "    </tr>\n",
              "  </tbody>\n",
              "</table>\n",
              "<p>5 rows × 769 columns</p>\n",
              "</div>"
            ],
            "text/plain": [
              "   tweet_id  feature_0  feature_1  ...  feature_765  feature_766  feature_767\n",
              "0         0   0.125605  -0.136067  ...    -0.100113     0.013015     0.053247\n",
              "1         1   0.064982  -0.116850  ...    -0.109684     0.034304     0.018237\n",
              "2         4   0.051160  -0.076732  ...    -0.180564    -0.061082     0.142650\n",
              "3         5   0.127061  -0.063152  ...    -0.057773    -0.079182     0.057414\n",
              "4         8   0.144889  -0.084671  ...    -0.058603    -0.023088     0.084837\n",
              "\n",
              "[5 rows x 769 columns]"
            ]
          },
          "metadata": {
            "tags": []
          },
          "execution_count": 5
        }
      ]
    },
    {
      "cell_type": "code",
      "metadata": {
        "colab": {
          "base_uri": "https://localhost:8080/"
        },
        "id": "JmG2AnM3e84T",
        "outputId": "21141527-2d4c-4248-e8a4-0f50cf5c0f4a"
      },
      "source": [
        "train_text.virality.value_counts(normalize=1)*100"
      ],
      "execution_count": null,
      "outputs": [
        {
          "output_type": "execute_result",
          "data": {
            "text/plain": [
              "1    46.015190\n",
              "2    30.005063\n",
              "3    15.682700\n",
              "5     4.465823\n",
              "4     3.831224\n",
              "Name: virality, dtype: float64"
            ]
          },
          "metadata": {
            "tags": []
          },
          "execution_count": 166
        }
      ]
    },
    {
      "cell_type": "code",
      "metadata": {
        "id": "pCsJqAwPauy1"
      },
      "source": [
        "train_text['virality']=0"
      ],
      "execution_count": null,
      "outputs": []
    },
    {
      "cell_type": "code",
      "metadata": {
        "id": "FrCzEMd9cB1O"
      },
      "source": [
        "train.head()"
      ],
      "execution_count": null,
      "outputs": []
    },
    {
      "cell_type": "code",
      "metadata": {
        "id": "72hYYtXFZpDA"
      },
      "source": [
        "for i in range(train_text.shape[0]):\n",
        "  train_text.loc[i,'virality'] = y[train.tweet_id==train_text.tweet_id[i]].iloc[0]"
      ],
      "execution_count": null,
      "outputs": []
    },
    {
      "cell_type": "code",
      "metadata": {
        "id": "ZG-DNFjiZo_f"
      },
      "source": [
        "Y_text = train_text.pop('virality')"
      ],
      "execution_count": null,
      "outputs": []
    },
    {
      "cell_type": "code",
      "metadata": {
        "colab": {
          "base_uri": "https://localhost:8080/"
        },
        "id": "7_xqJ3N2fX8x",
        "outputId": "86c06ee9-fd01-4ab0-a9c1-04a7635def5a"
      },
      "source": [
        "X_train_text, X_test_text, y_train_text, y_test_text = train_test_split(train_text, Y_text, test_size=0.3)\n",
        "print(X_train_text.shape)\n",
        "print(X_test_text.shape)\n",
        "print(y_train_text.shape)\n",
        "print(y_test_text.shape)"
      ],
      "execution_count": null,
      "outputs": [
        {
          "output_type": "stream",
          "text": [
            "(20737, 769)\n",
            "(8888, 769)\n",
            "(20737,)\n",
            "(8888,)\n"
          ],
          "name": "stdout"
        }
      ]
    },
    {
      "cell_type": "code",
      "metadata": {
        "colab": {
          "base_uri": "https://localhost:8080/"
        },
        "id": "0HIxW77kflZ3",
        "outputId": "841290ea-058b-4963-e8bc-b1181b48a8de"
      },
      "source": [
        "clf5 = RandomForestClassifier()\n",
        "clf5.fit(X_train_text,y_train_text)\n",
        "print(clf5.score(X_train_text,y_train_text))\n",
        "print(clf5.score(X_test_text,y_test_text))"
      ],
      "execution_count": null,
      "outputs": [
        {
          "output_type": "stream",
          "text": [
            "1.0\n",
            "0.5435418541854186\n"
          ],
          "name": "stdout"
        }
      ]
    },
    {
      "cell_type": "code",
      "metadata": {
        "id": "l5A7v3ZBo_yk"
      },
      "source": [
        ""
      ],
      "execution_count": null,
      "outputs": []
    },
    {
      "cell_type": "markdown",
      "metadata": {
        "id": "YOiE-HZQP1aN"
      },
      "source": [
        "#LSTM"
      ]
    },
    {
      "cell_type": "code",
      "metadata": {
        "id": "6FmhhozFhj8h"
      },
      "source": [
        "X_train_array = X_train_text.to_numpy().reshape(X_train_text.shape[0],X_train_text.shape[1],1)\n",
        "X_test_array = X_test_text.to_numpy().reshape(X_test_text.shape[0],X_test_text.shape[1],1)"
      ],
      "execution_count": null,
      "outputs": []
    },
    {
      "cell_type": "code",
      "metadata": {
        "id": "mpGmSWEjf412"
      },
      "source": [
        "model = Sequential()\n",
        "model.add(LSTM(100, input_shape=X_train_array.shape[1:]))\n",
        "model.add(Dense(50,'relu'))\n",
        "model.add(Dense(25,'relu'))\n",
        "model.add(Dense(1,'sigmoid'))"
      ],
      "execution_count": null,
      "outputs": []
    },
    {
      "cell_type": "code",
      "metadata": {
        "id": "9tTGJ4Nug4NK"
      },
      "source": [
        "model.compile(optimizer = 'adam', loss = 'binary_crossentropy', metrics = ['accuracy'])"
      ],
      "execution_count": null,
      "outputs": []
    },
    {
      "cell_type": "code",
      "metadata": {
        "colab": {
          "base_uri": "https://localhost:8080/"
        },
        "id": "TZy-JXjbi0wc",
        "outputId": "295e70a6-a757-4865-916d-0ac37a869d73"
      },
      "source": [
        "model.fit(X_train_array, y_train_text.to_numpy(), epochs = 10, verbose=2,batch_size=256)"
      ],
      "execution_count": null,
      "outputs": [
        {
          "output_type": "stream",
          "text": [
            "Epoch 1/10\n",
            "82/82 - 193s - loss: -4.8624e+01 - accuracy: 0.4571\n",
            "Epoch 2/10\n",
            "82/82 - 192s - loss: -4.7353e+02 - accuracy: 0.4571\n",
            "Epoch 3/10\n",
            "82/82 - 192s - loss: -1.8288e+03 - accuracy: 0.4571\n",
            "Epoch 4/10\n",
            "82/82 - 191s - loss: -4.7966e+03 - accuracy: 0.4571\n",
            "Epoch 5/10\n",
            "82/82 - 193s - loss: -1.0015e+04 - accuracy: 0.4571\n",
            "Epoch 6/10\n",
            "82/82 - 191s - loss: -1.7950e+04 - accuracy: 0.4571\n",
            "Epoch 7/10\n",
            "82/82 - 192s - loss: -2.9315e+04 - accuracy: 0.4571\n",
            "Epoch 8/10\n",
            "82/82 - 191s - loss: -4.4333e+04 - accuracy: 0.4571\n",
            "Epoch 9/10\n",
            "82/82 - 192s - loss: -6.3555e+04 - accuracy: 0.4571\n",
            "Epoch 10/10\n",
            "82/82 - 193s - loss: -8.7663e+04 - accuracy: 0.4571\n"
          ],
          "name": "stdout"
        },
        {
          "output_type": "execute_result",
          "data": {
            "text/plain": [
              "<tensorflow.python.keras.callbacks.History at 0x7f643201f250>"
            ]
          },
          "metadata": {
            "tags": []
          },
          "execution_count": 180
        }
      ]
    },
    {
      "cell_type": "code",
      "metadata": {
        "colab": {
          "base_uri": "https://localhost:8080/"
        },
        "id": "Js54hfk7jI85",
        "outputId": "d9109077-fc51-4984-b37f-2e608f56c483"
      },
      "source": [
        "preds = model.evaluate(X_train_array, y_train_text)\n",
        "print (\"Loss = \" + str(preds[0]))\n",
        "print (\"Train Accuracy = \" + str(preds[1]))\n",
        "\n",
        "preds = model.evaluate(X_test_array, y_test_text)\n",
        "print (\"Loss = \" + str(preds[0]))\n",
        "print (\"Test Accuracy = \" + str(preds[1]))"
      ],
      "execution_count": null,
      "outputs": [
        {
          "output_type": "stream",
          "text": [
            "649/649 [==============================] - 98s 150ms/step - loss: -101714.5703 - accuracy: 0.4571\n",
            "Loss = -101714.5703125\n",
            "Train Accuracy = 0.4570574462413788\n",
            "278/278 [==============================] - 46s 165ms/step - loss: -101645.1016 - accuracy: 0.4674\n",
            "Loss = -101645.1015625\n",
            "Test Accuracy = 0.46737173199653625\n"
          ],
          "name": "stdout"
        }
      ]
    },
    {
      "cell_type": "code",
      "metadata": {
        "id": "TVvAkL3Qq-VY"
      },
      "source": [
        ""
      ],
      "execution_count": null,
      "outputs": []
    }
  ]
}