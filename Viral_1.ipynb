{
  "nbformat": 4,
  "nbformat_minor": 0,
  "metadata": {
    "colab": {
      "name": "Viral_1.ipynb",
      "provenance": [],
      "collapsed_sections": [],
      "mount_file_id": "1lg8Ixus0S_HO38uds7o6GphDbeRxd1FH",
      "authorship_tag": "ABX9TyM1mPt4hzAip2Mu2khZ9Eui"
    },
    "kernelspec": {
      "name": "python3",
      "display_name": "Python 3"
    },
    "language_info": {
      "name": "python"
    }
  },
  "cells": [
    {
      "cell_type": "code",
      "metadata": {
        "id": "3pryqirB25vR"
      },
      "source": [
        "import pandas as pd\n",
        "import numpy as np\n",
        "from sklearn.model_selection import train_test_split\n",
        "from sklearn.ensemble import RandomForestClassifier\n",
        "from xgboost import XGBClassifier\n",
        "from sklearn.svm import SVC\n",
        "from sklearn.linear_model import SGDClassifier\n",
        "from sklearn.neighbors import KNeighborsClassifier\n",
        "from sklearn.naive_bayes import GaussianNB\n",
        "from sklearn.decomposition import PCA\n",
        "from sklearn.preprocessing import LabelEncoder, MinMaxScaler\n",
        "from sklearn.metrics import confusion_matrix, precision_score, recall_score, f1_score\n",
        "from sklearn.model_selection import GridSearchCV\n",
        "import seaborn as sns"
      ],
      "execution_count": null,
      "outputs": []
    },
    {
      "cell_type": "code",
      "metadata": {
        "id": "PZHZ7moEBPmX"
      },
      "source": [
        "train  = pd.read_csv('/content/drive/MyDrive/Viral Tweets Prediction Challenge Dataset/Dataset/Tweets/train_tweets.csv')\n",
        "test = pd.read_csv('/content/drive/MyDrive/Viral Tweets Prediction Challenge Dataset/Dataset/Tweets/test_tweets.csv')"
      ],
      "execution_count": null,
      "outputs": []
    },
    {
      "cell_type": "code",
      "metadata": {
        "id": "_liTou9VCV6o"
      },
      "source": [
        "data  = pd.read_csv('/content/drive/MyDrive/Viral Tweets Prediction Challenge Dataset/Dataset/Tweets/train_tweets.csv')"
      ],
      "execution_count": null,
      "outputs": []
    },
    {
      "cell_type": "code",
      "metadata": {
        "colab": {
          "base_uri": "https://localhost:8080/",
          "height": 350
        },
        "id": "P0zOzPAaBfWf",
        "outputId": "01782245-2782-4fc0-ca8d-5352ef926bdf"
      },
      "source": [
        "train.head()"
      ],
      "execution_count": null,
      "outputs": [
        {
          "output_type": "execute_result",
          "data": {
            "text/html": [
              "<div>\n",
              "<style scoped>\n",
              "    .dataframe tbody tr th:only-of-type {\n",
              "        vertical-align: middle;\n",
              "    }\n",
              "\n",
              "    .dataframe tbody tr th {\n",
              "        vertical-align: top;\n",
              "    }\n",
              "\n",
              "    .dataframe thead th {\n",
              "        text-align: right;\n",
              "    }\n",
              "</style>\n",
              "<table border=\"1\" class=\"dataframe\">\n",
              "  <thead>\n",
              "    <tr style=\"text-align: right;\">\n",
              "      <th></th>\n",
              "      <th>tweet_id</th>\n",
              "      <th>tweet_user_id</th>\n",
              "      <th>tweet_created_at_year</th>\n",
              "      <th>tweet_created_at_month</th>\n",
              "      <th>tweet_created_at_day</th>\n",
              "      <th>tweet_created_at_hour</th>\n",
              "      <th>tweet_hashtag_count</th>\n",
              "      <th>tweet_url_count</th>\n",
              "      <th>tweet_mention_count</th>\n",
              "      <th>tweet_has_attachment</th>\n",
              "      <th>tweet_attachment_class</th>\n",
              "      <th>tweet_language_id</th>\n",
              "      <th>tweet_topic_ids</th>\n",
              "      <th>virality</th>\n",
              "    </tr>\n",
              "  </thead>\n",
              "  <tbody>\n",
              "    <tr>\n",
              "      <th>0</th>\n",
              "      <td>34698</td>\n",
              "      <td>10</td>\n",
              "      <td>2015</td>\n",
              "      <td>12</td>\n",
              "      <td>5</td>\n",
              "      <td>3</td>\n",
              "      <td>2.0</td>\n",
              "      <td>1.0</td>\n",
              "      <td>0.0</td>\n",
              "      <td>False</td>\n",
              "      <td>C</td>\n",
              "      <td>0</td>\n",
              "      <td>['36', '36', '36', '36', '36', '36', '37', '37...</td>\n",
              "      <td>3</td>\n",
              "    </tr>\n",
              "    <tr>\n",
              "      <th>1</th>\n",
              "      <td>24644</td>\n",
              "      <td>4</td>\n",
              "      <td>2020</td>\n",
              "      <td>6</td>\n",
              "      <td>19</td>\n",
              "      <td>0</td>\n",
              "      <td>0.0</td>\n",
              "      <td>1.0</td>\n",
              "      <td>0.0</td>\n",
              "      <td>False</td>\n",
              "      <td>C</td>\n",
              "      <td>0</td>\n",
              "      <td>['43', '78', '79', '80', '80', '89', '98', '99...</td>\n",
              "      <td>3</td>\n",
              "    </tr>\n",
              "    <tr>\n",
              "      <th>2</th>\n",
              "      <td>36321</td>\n",
              "      <td>54</td>\n",
              "      <td>2019</td>\n",
              "      <td>6</td>\n",
              "      <td>2</td>\n",
              "      <td>15</td>\n",
              "      <td>2.0</td>\n",
              "      <td>3.0</td>\n",
              "      <td>0.0</td>\n",
              "      <td>True</td>\n",
              "      <td>A</td>\n",
              "      <td>0</td>\n",
              "      <td>['79', '80', '98', '98', '98', '99', '99', '10...</td>\n",
              "      <td>1</td>\n",
              "    </tr>\n",
              "    <tr>\n",
              "      <th>3</th>\n",
              "      <td>2629</td>\n",
              "      <td>42</td>\n",
              "      <td>2020</td>\n",
              "      <td>9</td>\n",
              "      <td>6</td>\n",
              "      <td>17</td>\n",
              "      <td>0.0</td>\n",
              "      <td>1.0</td>\n",
              "      <td>1.0</td>\n",
              "      <td>True</td>\n",
              "      <td>A</td>\n",
              "      <td>0</td>\n",
              "      <td>['43', '79', '80', '98', '99', '99', '79', '80']</td>\n",
              "      <td>2</td>\n",
              "    </tr>\n",
              "    <tr>\n",
              "      <th>4</th>\n",
              "      <td>28169</td>\n",
              "      <td>32</td>\n",
              "      <td>2020</td>\n",
              "      <td>11</td>\n",
              "      <td>4</td>\n",
              "      <td>17</td>\n",
              "      <td>2.0</td>\n",
              "      <td>1.0</td>\n",
              "      <td>0.0</td>\n",
              "      <td>True</td>\n",
              "      <td>A</td>\n",
              "      <td>0</td>\n",
              "      <td>['79', '80', '98', '99', '43', '89']</td>\n",
              "      <td>2</td>\n",
              "    </tr>\n",
              "  </tbody>\n",
              "</table>\n",
              "</div>"
            ],
            "text/plain": [
              "   tweet_id  ...  virality\n",
              "0     34698  ...         3\n",
              "1     24644  ...         3\n",
              "2     36321  ...         1\n",
              "3      2629  ...         2\n",
              "4     28169  ...         2\n",
              "\n",
              "[5 rows x 14 columns]"
            ]
          },
          "metadata": {
            "tags": []
          },
          "execution_count": 3
        }
      ]
    },
    {
      "cell_type": "code",
      "metadata": {
        "colab": {
          "base_uri": "https://localhost:8080/",
          "height": 249
        },
        "id": "C7H0wZWNBg0w",
        "outputId": "223245a3-553b-4085-faab-7d606b39fd42"
      },
      "source": [
        "test.head()"
      ],
      "execution_count": null,
      "outputs": [
        {
          "output_type": "execute_result",
          "data": {
            "text/html": [
              "<div>\n",
              "<style scoped>\n",
              "    .dataframe tbody tr th:only-of-type {\n",
              "        vertical-align: middle;\n",
              "    }\n",
              "\n",
              "    .dataframe tbody tr th {\n",
              "        vertical-align: top;\n",
              "    }\n",
              "\n",
              "    .dataframe thead th {\n",
              "        text-align: right;\n",
              "    }\n",
              "</style>\n",
              "<table border=\"1\" class=\"dataframe\">\n",
              "  <thead>\n",
              "    <tr style=\"text-align: right;\">\n",
              "      <th></th>\n",
              "      <th>tweet_id</th>\n",
              "      <th>tweet_user_id</th>\n",
              "      <th>tweet_created_at_year</th>\n",
              "      <th>tweet_created_at_month</th>\n",
              "      <th>tweet_created_at_day</th>\n",
              "      <th>tweet_created_at_hour</th>\n",
              "      <th>tweet_hashtag_count</th>\n",
              "      <th>tweet_url_count</th>\n",
              "      <th>tweet_mention_count</th>\n",
              "      <th>tweet_has_attachment</th>\n",
              "      <th>tweet_attachment_class</th>\n",
              "      <th>tweet_language_id</th>\n",
              "      <th>tweet_topic_ids</th>\n",
              "    </tr>\n",
              "  </thead>\n",
              "  <tbody>\n",
              "    <tr>\n",
              "      <th>0</th>\n",
              "      <td>6238</td>\n",
              "      <td>13</td>\n",
              "      <td>2020</td>\n",
              "      <td>7</td>\n",
              "      <td>26</td>\n",
              "      <td>10</td>\n",
              "      <td>5.0</td>\n",
              "      <td>2.0</td>\n",
              "      <td>0.0</td>\n",
              "      <td>True</td>\n",
              "      <td>A</td>\n",
              "      <td>0</td>\n",
              "      <td>['98', '99', '99', '99', '99', '78', '79', '80']</td>\n",
              "    </tr>\n",
              "    <tr>\n",
              "      <th>1</th>\n",
              "      <td>37458</td>\n",
              "      <td>14</td>\n",
              "      <td>2018</td>\n",
              "      <td>1</td>\n",
              "      <td>15</td>\n",
              "      <td>18</td>\n",
              "      <td>0.0</td>\n",
              "      <td>0.0</td>\n",
              "      <td>1.0</td>\n",
              "      <td>False</td>\n",
              "      <td>C</td>\n",
              "      <td>0</td>\n",
              "      <td>['78', '79', '80', '98']</td>\n",
              "    </tr>\n",
              "    <tr>\n",
              "      <th>2</th>\n",
              "      <td>23968</td>\n",
              "      <td>50</td>\n",
              "      <td>2019</td>\n",
              "      <td>2</td>\n",
              "      <td>25</td>\n",
              "      <td>20</td>\n",
              "      <td>0.0</td>\n",
              "      <td>1.0</td>\n",
              "      <td>0.0</td>\n",
              "      <td>False</td>\n",
              "      <td>C</td>\n",
              "      <td>0</td>\n",
              "      <td>['78', '79', '80']</td>\n",
              "    </tr>\n",
              "    <tr>\n",
              "      <th>3</th>\n",
              "      <td>24137</td>\n",
              "      <td>50</td>\n",
              "      <td>2018</td>\n",
              "      <td>12</td>\n",
              "      <td>8</td>\n",
              "      <td>21</td>\n",
              "      <td>0.0</td>\n",
              "      <td>1.0</td>\n",
              "      <td>1.0</td>\n",
              "      <td>False</td>\n",
              "      <td>C</td>\n",
              "      <td>0</td>\n",
              "      <td>['78', '79', '80']</td>\n",
              "    </tr>\n",
              "    <tr>\n",
              "      <th>4</th>\n",
              "      <td>8064</td>\n",
              "      <td>30</td>\n",
              "      <td>2020</td>\n",
              "      <td>9</td>\n",
              "      <td>29</td>\n",
              "      <td>16</td>\n",
              "      <td>2.0</td>\n",
              "      <td>2.0</td>\n",
              "      <td>0.0</td>\n",
              "      <td>True</td>\n",
              "      <td>A</td>\n",
              "      <td>0</td>\n",
              "      <td>['78', '79', '79', '80', '98', '99']</td>\n",
              "    </tr>\n",
              "  </tbody>\n",
              "</table>\n",
              "</div>"
            ],
            "text/plain": [
              "   tweet_id  ...                                   tweet_topic_ids\n",
              "0      6238  ...  ['98', '99', '99', '99', '99', '78', '79', '80']\n",
              "1     37458  ...                          ['78', '79', '80', '98']\n",
              "2     23968  ...                                ['78', '79', '80']\n",
              "3     24137  ...                                ['78', '79', '80']\n",
              "4      8064  ...              ['78', '79', '79', '80', '98', '99']\n",
              "\n",
              "[5 rows x 13 columns]"
            ]
          },
          "metadata": {
            "tags": []
          },
          "execution_count": 4
        }
      ]
    },
    {
      "cell_type": "code",
      "metadata": {
        "colab": {
          "base_uri": "https://localhost:8080/"
        },
        "id": "nvZWJMkyBhx7",
        "outputId": "478a3765-0066-47e7-cc1f-12f9d6f66a92"
      },
      "source": [
        "print(train.shape)\n",
        "print(test.shape)"
      ],
      "execution_count": null,
      "outputs": [
        {
          "output_type": "stream",
          "text": [
            "(29625, 14)\n",
            "(12697, 13)\n"
          ],
          "name": "stdout"
        }
      ]
    },
    {
      "cell_type": "code",
      "metadata": {
        "colab": {
          "base_uri": "https://localhost:8080/"
        },
        "id": "_FGGP74JBlPT",
        "outputId": "6cc11d11-29e5-4b82-c196-9d3164436901"
      },
      "source": [
        "train.dtypes"
      ],
      "execution_count": null,
      "outputs": [
        {
          "output_type": "execute_result",
          "data": {
            "text/plain": [
              "tweet_id                    int64\n",
              "tweet_user_id               int64\n",
              "tweet_created_at_year       int64\n",
              "tweet_created_at_month      int64\n",
              "tweet_created_at_day        int64\n",
              "tweet_created_at_hour       int64\n",
              "tweet_hashtag_count       float64\n",
              "tweet_url_count           float64\n",
              "tweet_mention_count       float64\n",
              "tweet_has_attachment         bool\n",
              "tweet_attachment_class     object\n",
              "tweet_language_id           int64\n",
              "tweet_topic_ids            object\n",
              "virality                    int64\n",
              "dtype: object"
            ]
          },
          "metadata": {
            "tags": []
          },
          "execution_count": 6
        }
      ]
    },
    {
      "cell_type": "code",
      "metadata": {
        "colab": {
          "base_uri": "https://localhost:8080/"
        },
        "id": "fVyx1QawBvBI",
        "outputId": "1acd0f6f-f20a-4140-8455-e58b06fe0ff9"
      },
      "source": [
        "test.dtypes"
      ],
      "execution_count": null,
      "outputs": [
        {
          "output_type": "execute_result",
          "data": {
            "text/plain": [
              "tweet_id                    int64\n",
              "tweet_user_id               int64\n",
              "tweet_created_at_year       int64\n",
              "tweet_created_at_month      int64\n",
              "tweet_created_at_day        int64\n",
              "tweet_created_at_hour       int64\n",
              "tweet_hashtag_count       float64\n",
              "tweet_url_count           float64\n",
              "tweet_mention_count       float64\n",
              "tweet_has_attachment         bool\n",
              "tweet_attachment_class     object\n",
              "tweet_language_id           int64\n",
              "tweet_topic_ids            object\n",
              "dtype: object"
            ]
          },
          "metadata": {
            "tags": []
          },
          "execution_count": 7
        }
      ]
    },
    {
      "cell_type": "code",
      "metadata": {
        "colab": {
          "base_uri": "https://localhost:8080/"
        },
        "id": "tSWuaNCsBxqp",
        "outputId": "0246a8d4-00c6-4709-f226-8e89ebd761d3"
      },
      "source": [
        "train.isnull().sum()"
      ],
      "execution_count": null,
      "outputs": [
        {
          "output_type": "execute_result",
          "data": {
            "text/plain": [
              "tweet_id                     0\n",
              "tweet_user_id                0\n",
              "tweet_created_at_year        0\n",
              "tweet_created_at_month       0\n",
              "tweet_created_at_day         0\n",
              "tweet_created_at_hour        0\n",
              "tweet_hashtag_count          0\n",
              "tweet_url_count              0\n",
              "tweet_mention_count          0\n",
              "tweet_has_attachment         0\n",
              "tweet_attachment_class       0\n",
              "tweet_language_id            0\n",
              "tweet_topic_ids           4285\n",
              "virality                     0\n",
              "dtype: int64"
            ]
          },
          "metadata": {
            "tags": []
          },
          "execution_count": 8
        }
      ]
    },
    {
      "cell_type": "code",
      "metadata": {
        "colab": {
          "base_uri": "https://localhost:8080/"
        },
        "id": "YVYtcHA0CBJJ",
        "outputId": "742d7b0d-faf5-465b-a1e7-c28ea18dcd83"
      },
      "source": [
        "test.isnull().sum()"
      ],
      "execution_count": null,
      "outputs": [
        {
          "output_type": "execute_result",
          "data": {
            "text/plain": [
              "tweet_id                     0\n",
              "tweet_user_id                0\n",
              "tweet_created_at_year        0\n",
              "tweet_created_at_month       0\n",
              "tweet_created_at_day         0\n",
              "tweet_created_at_hour        0\n",
              "tweet_hashtag_count          0\n",
              "tweet_url_count              0\n",
              "tweet_mention_count          0\n",
              "tweet_has_attachment         0\n",
              "tweet_attachment_class       0\n",
              "tweet_language_id            0\n",
              "tweet_topic_ids           1802\n",
              "dtype: int64"
            ]
          },
          "metadata": {
            "tags": []
          },
          "execution_count": 9
        }
      ]
    },
    {
      "cell_type": "code",
      "metadata": {
        "colab": {
          "base_uri": "https://localhost:8080/",
          "height": 282
        },
        "id": "ZwXwikuVCGDG",
        "outputId": "55530287-7e6a-4ed4-eaee-98677e75d1db"
      },
      "source": [
        "train.virality.hist()"
      ],
      "execution_count": null,
      "outputs": [
        {
          "output_type": "execute_result",
          "data": {
            "text/plain": [
              "<matplotlib.axes._subplots.AxesSubplot at 0x7fb6f5a8a790>"
            ]
          },
          "metadata": {
            "tags": []
          },
          "execution_count": 10
        },
        {
          "output_type": "display_data",
          "data": {
            "image/png": "[encoded data removed]",
            "text/plain": [
              "<Figure size 432x288 with 1 Axes>"
            ]
          },
          "metadata": {
            "tags": [],
            "needs_background": "light"
          }
        }
      ]
    },
    {
      "cell_type": "code",
      "metadata": {
        "colab": {
          "base_uri": "https://localhost:8080/"
        },
        "id": "PCN4EJwI17tT",
        "outputId": "b3e94e13-21d8-466a-9c3f-0990b8396ebd"
      },
      "source": [
        "train.virality.value_counts() * 100 /train.shape[0]"
      ],
      "execution_count": null,
      "outputs": [
        {
          "output_type": "execute_result",
          "data": {
            "text/plain": [
              "1    46.015190\n",
              "2    30.005063\n",
              "3    15.682700\n",
              "5     4.465823\n",
              "4     3.831224\n",
              "Name: virality, dtype: float64"
            ]
          },
          "metadata": {
            "tags": []
          },
          "execution_count": 13
        }
      ]
    },
    {
      "cell_type": "code",
      "metadata": {
        "id": "9yOW6XzICMqY"
      },
      "source": [
        "train.pop('tweet_topic_ids')\n",
        "train.pop('tweet_attachment_class')\n",
        "y = train.pop('virality')"
      ],
      "execution_count": null,
      "outputs": []
    },
    {
      "cell_type": "code",
      "metadata": {
        "id": "F3L0Z8Xg-qWJ"
      },
      "source": [
        "test.pop('tweet_topic_ids')\n",
        "test.pop('tweet_attachment_class')"
      ],
      "execution_count": null,
      "outputs": []
    },
    {
      "cell_type": "code",
      "metadata": {
        "id": "hT75FFB4CgYk"
      },
      "source": [
        "X_train, X_test, y_train, y_test = train_test_split(train, y, test_size=0.3)"
      ],
      "execution_count": null,
      "outputs": []
    },
    {
      "cell_type": "code",
      "metadata": {
        "colab": {
          "base_uri": "https://localhost:8080/"
        },
        "id": "SlaTgeK-C-E4",
        "outputId": "c1e23dfe-e99e-4fa8-c08a-1c05b08784dd"
      },
      "source": [
        "print(X_train.shape)\n",
        "print(X_test.shape)\n",
        "print(y_train.shape)\n",
        "print(y_test.shape)"
      ],
      "execution_count": null,
      "outputs": [
        {
          "output_type": "stream",
          "text": [
            "(20737, 11)\n",
            "(8888, 11)\n",
            "(20737,)\n",
            "(8888,)\n"
          ],
          "name": "stdout"
        }
      ]
    },
    {
      "cell_type": "code",
      "metadata": {
        "id": "9WLBfFL3DSZA"
      },
      "source": [
        "clf = RandomForestClassifier()"
      ],
      "execution_count": null,
      "outputs": []
    },
    {
      "cell_type": "code",
      "metadata": {
        "colab": {
          "base_uri": "https://localhost:8080/"
        },
        "id": "u00XZ1jgDbCK",
        "outputId": "f26e8eba-edef-4858-90ef-db84ee8477d6"
      },
      "source": [
        "clf.fit(X_train,y_train)"
      ],
      "execution_count": null,
      "outputs": [
        {
          "output_type": "execute_result",
          "data": {
            "text/plain": [
              "RandomForestClassifier(bootstrap=True, ccp_alpha=0.0, class_weight=None,\n",
              "                       criterion='gini', max_depth=None, max_features='auto',\n",
              "                       max_leaf_nodes=None, max_samples=None,\n",
              "                       min_impurity_decrease=0.0, min_impurity_split=None,\n",
              "                       min_samples_leaf=1, min_samples_split=2,\n",
              "                       min_weight_fraction_leaf=0.0, n_estimators=100,\n",
              "                       n_jobs=None, oob_score=False, random_state=None,\n",
              "                       verbose=0, warm_start=False)"
            ]
          },
          "metadata": {
            "tags": []
          },
          "execution_count": 17
        }
      ]
    },
    {
      "cell_type": "code",
      "metadata": {
        "colab": {
          "base_uri": "https://localhost:8080/"
        },
        "id": "IccGcztXDd5Y",
        "outputId": "31a971a2-0a5f-48aa-a214-5f8a3ed3baab"
      },
      "source": [
        "clf.score(X_train,y_train)"
      ],
      "execution_count": null,
      "outputs": [
        {
          "output_type": "execute_result",
          "data": {
            "text/plain": [
              "1.0"
            ]
          },
          "metadata": {
            "tags": []
          },
          "execution_count": 18
        }
      ]
    },
    {
      "cell_type": "code",
      "metadata": {
        "colab": {
          "base_uri": "https://localhost:8080/"
        },
        "id": "_BDPO6JiDiNL",
        "outputId": "aef43be1-07fc-4517-8cbd-3586fce32b5a"
      },
      "source": [
        "clf.score(X_test,y_test)"
      ],
      "execution_count": null,
      "outputs": [
        {
          "output_type": "execute_result",
          "data": {
            "text/plain": [
              "0.6585283528352835"
            ]
          },
          "metadata": {
            "tags": []
          },
          "execution_count": 19
        }
      ]
    },
    {
      "cell_type": "code",
      "metadata": {
        "id": "ZmOjDkqmDka2"
      },
      "source": [
        ""
      ],
      "execution_count": null,
      "outputs": []
    },
    {
      "cell_type": "code",
      "metadata": {
        "colab": {
          "base_uri": "https://localhost:8080/"
        },
        "id": "QbvcIHXjDygb",
        "outputId": "272666de-1cb9-4134-b6c7-dd3fa29c9796"
      },
      "source": [
        "clf.fit(train,y)"
      ],
      "execution_count": null,
      "outputs": [
        {
          "output_type": "execute_result",
          "data": {
            "text/plain": [
              "RandomForestClassifier(bootstrap=True, ccp_alpha=0.0, class_weight=None,\n",
              "                       criterion='gini', max_depth=None, max_features='auto',\n",
              "                       max_leaf_nodes=None, max_samples=None,\n",
              "                       min_impurity_decrease=0.0, min_impurity_split=None,\n",
              "                       min_samples_leaf=1, min_samples_split=2,\n",
              "                       min_weight_fraction_leaf=0.0, n_estimators=100,\n",
              "                       n_jobs=None, oob_score=False, random_state=None,\n",
              "                       verbose=0, warm_start=False)"
            ]
          },
          "metadata": {
            "tags": []
          },
          "execution_count": 22
        }
      ]
    },
    {
      "cell_type": "code",
      "metadata": {
        "colab": {
          "base_uri": "https://localhost:8080/"
        },
        "id": "s3kwcdrvD9bO",
        "outputId": "1a5bb645-fdc7-4aa7-95cf-01e40730275f"
      },
      "source": [
        "clf.score(train,y)"
      ],
      "execution_count": null,
      "outputs": [
        {
          "output_type": "execute_result",
          "data": {
            "text/plain": [
              "1.0"
            ]
          },
          "metadata": {
            "tags": []
          },
          "execution_count": 23
        }
      ]
    },
    {
      "cell_type": "code",
      "metadata": {
        "id": "ed7j-7l7EB83"
      },
      "source": [
        "sol1['virality'] = clf.predict(test)"
      ],
      "execution_count": null,
      "outputs": []
    },
    {
      "cell_type": "code",
      "metadata": {
        "id": "ozbe9EWiEFi7"
      },
      "source": [
        "sol1 = test.tweet_id.to_frame()"
      ],
      "execution_count": null,
      "outputs": []
    },
    {
      "cell_type": "code",
      "metadata": {
        "colab": {
          "base_uri": "https://localhost:8080/",
          "height": 195
        },
        "id": "Vb91Gn_XERpX",
        "outputId": "e3613ca7-6161-45ee-a1dc-61ec0581751c"
      },
      "source": [
        "sol1.head()"
      ],
      "execution_count": null,
      "outputs": [
        {
          "output_type": "execute_result",
          "data": {
            "text/html": [
              "<div>\n",
              "<style scoped>\n",
              "    .dataframe tbody tr th:only-of-type {\n",
              "        vertical-align: middle;\n",
              "    }\n",
              "\n",
              "    .dataframe tbody tr th {\n",
              "        vertical-align: top;\n",
              "    }\n",
              "\n",
              "    .dataframe thead th {\n",
              "        text-align: right;\n",
              "    }\n",
              "</style>\n",
              "<table border=\"1\" class=\"dataframe\">\n",
              "  <thead>\n",
              "    <tr style=\"text-align: right;\">\n",
              "      <th></th>\n",
              "      <th>tweet_id</th>\n",
              "      <th>virality</th>\n",
              "    </tr>\n",
              "  </thead>\n",
              "  <tbody>\n",
              "    <tr>\n",
              "      <th>0</th>\n",
              "      <td>6238</td>\n",
              "      <td>1</td>\n",
              "    </tr>\n",
              "    <tr>\n",
              "      <th>1</th>\n",
              "      <td>37458</td>\n",
              "      <td>1</td>\n",
              "    </tr>\n",
              "    <tr>\n",
              "      <th>2</th>\n",
              "      <td>23968</td>\n",
              "      <td>4</td>\n",
              "    </tr>\n",
              "    <tr>\n",
              "      <th>3</th>\n",
              "      <td>24137</td>\n",
              "      <td>5</td>\n",
              "    </tr>\n",
              "    <tr>\n",
              "      <th>4</th>\n",
              "      <td>8064</td>\n",
              "      <td>3</td>\n",
              "    </tr>\n",
              "  </tbody>\n",
              "</table>\n",
              "</div>"
            ],
            "text/plain": [
              "   tweet_id  virality\n",
              "0      6238         1\n",
              "1     37458         1\n",
              "2     23968         4\n",
              "3     24137         5\n",
              "4      8064         3"
            ]
          },
          "metadata": {
            "tags": []
          },
          "execution_count": 29
        }
      ]
    },
    {
      "cell_type": "code",
      "metadata": {
        "id": "Ifjvc_34Eosf"
      },
      "source": [
        "sol1.to_csv('sol1.csv',index=False)"
      ],
      "execution_count": null,
      "outputs": []
    },
    {
      "cell_type": "code",
      "metadata": {
        "id": "ldevP60XFIXC"
      },
      "source": [
        "clf2 = XGBClassifier()"
      ],
      "execution_count": null,
      "outputs": []
    },
    {
      "cell_type": "code",
      "metadata": {
        "colab": {
          "base_uri": "https://localhost:8080/"
        },
        "id": "rSZJQ43tx7sU",
        "outputId": "9aafd106-57ed-4041-c08b-f6d0241880e7"
      },
      "source": [
        "clf2.fit(X_train,y_train)"
      ],
      "execution_count": null,
      "outputs": [
        {
          "output_type": "execute_result",
          "data": {
            "text/plain": [
              "XGBClassifier(base_score=0.5, booster='gbtree', colsample_bylevel=1,\n",
              "              colsample_bynode=1, colsample_bytree=1, gamma=0,\n",
              "              learning_rate=0.1, max_delta_step=0, max_depth=3,\n",
              "              min_child_weight=1, missing=None, n_estimators=100, n_jobs=1,\n",
              "              nthread=None, objective='multi:softprob', random_state=0,\n",
              "              reg_alpha=0, reg_lambda=1, scale_pos_weight=1, seed=None,\n",
              "              silent=None, subsample=1, verbosity=1)"
            ]
          },
          "metadata": {
            "tags": []
          },
          "execution_count": 8
        }
      ]
    },
    {
      "cell_type": "code",
      "metadata": {
        "colab": {
          "base_uri": "https://localhost:8080/"
        },
        "id": "EoVJ87iZyBz1",
        "outputId": "7015b598-7074-4c7d-a308-85bcdf91bf36"
      },
      "source": [
        "print(clf2.score(X_train,y_train))\n",
        "print(clf2.score(X_test,y_test))"
      ],
      "execution_count": null,
      "outputs": [
        {
          "output_type": "stream",
          "text": [
            "0.6533731976660077\n",
            "0.650990099009901\n"
          ],
          "name": "stdout"
        }
      ]
    },
    {
      "cell_type": "code",
      "metadata": {
        "colab": {
          "base_uri": "https://localhost:8080/",
          "height": 304
        },
        "id": "lyxX_gtGyKwB",
        "outputId": "4a414f04-548e-4c5f-ae03-e4b393dcd9ad"
      },
      "source": [
        "train.describe()"
      ],
      "execution_count": null,
      "outputs": [
        {
          "output_type": "execute_result",
          "data": {
            "text/html": [
              "<div>\n",
              "<style scoped>\n",
              "    .dataframe tbody tr th:only-of-type {\n",
              "        vertical-align: middle;\n",
              "    }\n",
              "\n",
              "    .dataframe tbody tr th {\n",
              "        vertical-align: top;\n",
              "    }\n",
              "\n",
              "    .dataframe thead th {\n",
              "        text-align: right;\n",
              "    }\n",
              "</style>\n",
              "<table border=\"1\" class=\"dataframe\">\n",
              "  <thead>\n",
              "    <tr style=\"text-align: right;\">\n",
              "      <th></th>\n",
              "      <th>tweet_id</th>\n",
              "      <th>tweet_user_id</th>\n",
              "      <th>tweet_created_at_year</th>\n",
              "      <th>tweet_created_at_month</th>\n",
              "      <th>tweet_created_at_day</th>\n",
              "      <th>tweet_created_at_hour</th>\n",
              "      <th>tweet_hashtag_count</th>\n",
              "      <th>tweet_url_count</th>\n",
              "      <th>tweet_mention_count</th>\n",
              "      <th>tweet_language_id</th>\n",
              "    </tr>\n",
              "  </thead>\n",
              "  <tbody>\n",
              "    <tr>\n",
              "      <th>count</th>\n",
              "      <td>29625.000000</td>\n",
              "      <td>29625.000000</td>\n",
              "      <td>29625.000000</td>\n",
              "      <td>29625.000000</td>\n",
              "      <td>29625.000000</td>\n",
              "      <td>29625.000000</td>\n",
              "      <td>29625.000000</td>\n",
              "      <td>29625.000000</td>\n",
              "      <td>29625.000000</td>\n",
              "      <td>29625.000000</td>\n",
              "    </tr>\n",
              "    <tr>\n",
              "      <th>mean</th>\n",
              "      <td>21136.827477</td>\n",
              "      <td>27.489755</td>\n",
              "      <td>2019.005705</td>\n",
              "      <td>7.045536</td>\n",
              "      <td>15.814717</td>\n",
              "      <td>15.048236</td>\n",
              "      <td>1.054008</td>\n",
              "      <td>1.218903</td>\n",
              "      <td>0.641283</td>\n",
              "      <td>0.153181</td>\n",
              "    </tr>\n",
              "    <tr>\n",
              "      <th>std</th>\n",
              "      <td>12160.900255</td>\n",
              "      <td>16.271052</td>\n",
              "      <td>1.447595</td>\n",
              "      <td>3.527015</td>\n",
              "      <td>8.872990</td>\n",
              "      <td>5.188924</td>\n",
              "      <td>1.126270</td>\n",
              "      <td>0.985059</td>\n",
              "      <td>1.011227</td>\n",
              "      <td>1.245717</td>\n",
              "    </tr>\n",
              "    <tr>\n",
              "      <th>min</th>\n",
              "      <td>0.000000</td>\n",
              "      <td>0.000000</td>\n",
              "      <td>2013.000000</td>\n",
              "      <td>1.000000</td>\n",
              "      <td>1.000000</td>\n",
              "      <td>0.000000</td>\n",
              "      <td>0.000000</td>\n",
              "      <td>0.000000</td>\n",
              "      <td>0.000000</td>\n",
              "      <td>0.000000</td>\n",
              "    </tr>\n",
              "    <tr>\n",
              "      <th>25%</th>\n",
              "      <td>10639.000000</td>\n",
              "      <td>14.000000</td>\n",
              "      <td>2019.000000</td>\n",
              "      <td>4.000000</td>\n",
              "      <td>8.000000</td>\n",
              "      <td>13.000000</td>\n",
              "      <td>0.000000</td>\n",
              "      <td>1.000000</td>\n",
              "      <td>0.000000</td>\n",
              "      <td>0.000000</td>\n",
              "    </tr>\n",
              "    <tr>\n",
              "      <th>50%</th>\n",
              "      <td>21113.000000</td>\n",
              "      <td>27.000000</td>\n",
              "      <td>2019.000000</td>\n",
              "      <td>7.000000</td>\n",
              "      <td>16.000000</td>\n",
              "      <td>16.000000</td>\n",
              "      <td>1.000000</td>\n",
              "      <td>1.000000</td>\n",
              "      <td>0.000000</td>\n",
              "      <td>0.000000</td>\n",
              "    </tr>\n",
              "    <tr>\n",
              "      <th>75%</th>\n",
              "      <td>31645.000000</td>\n",
              "      <td>42.000000</td>\n",
              "      <td>2020.000000</td>\n",
              "      <td>10.000000</td>\n",
              "      <td>24.000000</td>\n",
              "      <td>19.000000</td>\n",
              "      <td>2.000000</td>\n",
              "      <td>2.000000</td>\n",
              "      <td>1.000000</td>\n",
              "      <td>0.000000</td>\n",
              "    </tr>\n",
              "    <tr>\n",
              "      <th>max</th>\n",
              "      <td>42323.000000</td>\n",
              "      <td>55.000000</td>\n",
              "      <td>2021.000000</td>\n",
              "      <td>12.000000</td>\n",
              "      <td>31.000000</td>\n",
              "      <td>23.000000</td>\n",
              "      <td>14.000000</td>\n",
              "      <td>8.000000</td>\n",
              "      <td>16.000000</td>\n",
              "      <td>30.000000</td>\n",
              "    </tr>\n",
              "  </tbody>\n",
              "</table>\n",
              "</div>"
            ],
            "text/plain": [
              "           tweet_id  tweet_user_id  ...  tweet_mention_count  tweet_language_id\n",
              "count  29625.000000   29625.000000  ...         29625.000000       29625.000000\n",
              "mean   21136.827477      27.489755  ...             0.641283           0.153181\n",
              "std    12160.900255      16.271052  ...             1.011227           1.245717\n",
              "min        0.000000       0.000000  ...             0.000000           0.000000\n",
              "25%    10639.000000      14.000000  ...             0.000000           0.000000\n",
              "50%    21113.000000      27.000000  ...             0.000000           0.000000\n",
              "75%    31645.000000      42.000000  ...             1.000000           0.000000\n",
              "max    42323.000000      55.000000  ...            16.000000          30.000000\n",
              "\n",
              "[8 rows x 10 columns]"
            ]
          },
          "metadata": {
            "tags": []
          },
          "execution_count": 12
        }
      ]
    },
    {
      "cell_type": "code",
      "metadata": {
        "colab": {
          "base_uri": "https://localhost:8080/",
          "height": 215
        },
        "id": "6DLnj-v9zdCy",
        "outputId": "43bc0597-86de-4ac5-f1b0-10a9cc2612b3"
      },
      "source": [
        "train.head()"
      ],
      "execution_count": null,
      "outputs": [
        {
          "output_type": "execute_result",
          "data": {
            "text/html": [
              "<div>\n",
              "<style scoped>\n",
              "    .dataframe tbody tr th:only-of-type {\n",
              "        vertical-align: middle;\n",
              "    }\n",
              "\n",
              "    .dataframe tbody tr th {\n",
              "        vertical-align: top;\n",
              "    }\n",
              "\n",
              "    .dataframe thead th {\n",
              "        text-align: right;\n",
              "    }\n",
              "</style>\n",
              "<table border=\"1\" class=\"dataframe\">\n",
              "  <thead>\n",
              "    <tr style=\"text-align: right;\">\n",
              "      <th></th>\n",
              "      <th>tweet_id</th>\n",
              "      <th>tweet_user_id</th>\n",
              "      <th>tweet_created_at_year</th>\n",
              "      <th>tweet_created_at_month</th>\n",
              "      <th>tweet_created_at_day</th>\n",
              "      <th>tweet_created_at_hour</th>\n",
              "      <th>tweet_hashtag_count</th>\n",
              "      <th>tweet_url_count</th>\n",
              "      <th>tweet_mention_count</th>\n",
              "      <th>tweet_has_attachment</th>\n",
              "      <th>tweet_language_id</th>\n",
              "    </tr>\n",
              "  </thead>\n",
              "  <tbody>\n",
              "    <tr>\n",
              "      <th>0</th>\n",
              "      <td>34698</td>\n",
              "      <td>10</td>\n",
              "      <td>2015</td>\n",
              "      <td>12</td>\n",
              "      <td>5</td>\n",
              "      <td>3</td>\n",
              "      <td>2.0</td>\n",
              "      <td>1.0</td>\n",
              "      <td>0.0</td>\n",
              "      <td>False</td>\n",
              "      <td>0</td>\n",
              "    </tr>\n",
              "    <tr>\n",
              "      <th>1</th>\n",
              "      <td>24644</td>\n",
              "      <td>4</td>\n",
              "      <td>2020</td>\n",
              "      <td>6</td>\n",
              "      <td>19</td>\n",
              "      <td>0</td>\n",
              "      <td>0.0</td>\n",
              "      <td>1.0</td>\n",
              "      <td>0.0</td>\n",
              "      <td>False</td>\n",
              "      <td>0</td>\n",
              "    </tr>\n",
              "    <tr>\n",
              "      <th>2</th>\n",
              "      <td>36321</td>\n",
              "      <td>54</td>\n",
              "      <td>2019</td>\n",
              "      <td>6</td>\n",
              "      <td>2</td>\n",
              "      <td>15</td>\n",
              "      <td>2.0</td>\n",
              "      <td>3.0</td>\n",
              "      <td>0.0</td>\n",
              "      <td>True</td>\n",
              "      <td>0</td>\n",
              "    </tr>\n",
              "    <tr>\n",
              "      <th>3</th>\n",
              "      <td>2629</td>\n",
              "      <td>42</td>\n",
              "      <td>2020</td>\n",
              "      <td>9</td>\n",
              "      <td>6</td>\n",
              "      <td>17</td>\n",
              "      <td>0.0</td>\n",
              "      <td>1.0</td>\n",
              "      <td>1.0</td>\n",
              "      <td>True</td>\n",
              "      <td>0</td>\n",
              "    </tr>\n",
              "    <tr>\n",
              "      <th>4</th>\n",
              "      <td>28169</td>\n",
              "      <td>32</td>\n",
              "      <td>2020</td>\n",
              "      <td>11</td>\n",
              "      <td>4</td>\n",
              "      <td>17</td>\n",
              "      <td>2.0</td>\n",
              "      <td>1.0</td>\n",
              "      <td>0.0</td>\n",
              "      <td>True</td>\n",
              "      <td>0</td>\n",
              "    </tr>\n",
              "  </tbody>\n",
              "</table>\n",
              "</div>"
            ],
            "text/plain": [
              "   tweet_id  tweet_user_id  ...  tweet_has_attachment  tweet_language_id\n",
              "0     34698             10  ...                 False                  0\n",
              "1     24644              4  ...                 False                  0\n",
              "2     36321             54  ...                  True                  0\n",
              "3      2629             42  ...                  True                  0\n",
              "4     28169             32  ...                  True                  0\n",
              "\n",
              "[5 rows x 11 columns]"
            ]
          },
          "metadata": {
            "tags": []
          },
          "execution_count": 13
        }
      ]
    },
    {
      "cell_type": "code",
      "metadata": {
        "id": "GXpEKIVP0WHU"
      },
      "source": [
        "scaler = MinMaxScaler()\n",
        "X_train_scaled = scaler.fit_transform(X_train)"
      ],
      "execution_count": null,
      "outputs": []
    },
    {
      "cell_type": "code",
      "metadata": {
        "id": "mfZRRPKy1fm4"
      },
      "source": [
        "X_train_scaled.describe()"
      ],
      "execution_count": null,
      "outputs": []
    },
    {
      "cell_type": "code",
      "metadata": {
        "colab": {
          "base_uri": "https://localhost:8080/"
        },
        "id": "mcxPZRvKH6vT",
        "outputId": "3a94debb-017b-4032-e4e9-086cb948ebf3"
      },
      "source": [
        "forest = RandomForestClassifier(random_state = 1)\n",
        "modelF = forest.fit(X_train, y_train)\n",
        "print('Train Accuracy: ', forest.score(X_train,y_train))\n",
        "print('Test Accuracy: ', forest.score(X_test,y_test))"
      ],
      "execution_count": null,
      "outputs": [
        {
          "output_type": "stream",
          "text": [
            "Train Accuracy:  1.0\n",
            "Test Accuracy:  0.6632538253825383\n"
          ],
          "name": "stdout"
        }
      ]
    },
    {
      "cell_type": "code",
      "metadata": {
        "colab": {
          "base_uri": "https://localhost:8080/"
        },
        "id": "5QJcoS_h1ufu",
        "outputId": "0a0bc2d1-c992-4fbf-a97c-7d41f602c277"
      },
      "source": [
        "n_estimators = [100, 300, 500, 800, 1200]\n",
        "max_depth = [5, 8, 15, 25, 30]\n",
        "min_samples_split = [2, 5, 10, 15, 100]\n",
        "min_samples_leaf = [1, 2, 5, 10] \n",
        "\n",
        "hyperF = dict(n_estimators = n_estimators, max_depth = max_depth,  \n",
        "              min_samples_split = min_samples_split, \n",
        "             min_samples_leaf = min_samples_leaf)\n",
        "\n",
        "gridF = GridSearchCV(forest, hyperF, cv = 3, verbose = 1, \n",
        "                      n_jobs = -1)\n",
        "bestF = gridF.fit(X_train, y_train)"
      ],
      "execution_count": null,
      "outputs": [
        {
          "output_type": "stream",
          "text": [
            "Fitting 3 folds for each of 500 candidates, totalling 1500 fits\n"
          ],
          "name": "stdout"
        },
        {
          "output_type": "stream",
          "text": [
            "[Parallel(n_jobs=-1)]: Using backend LokyBackend with 2 concurrent workers.\n",
            "[Parallel(n_jobs=-1)]: Done  46 tasks      | elapsed:  2.9min\n",
            "[Parallel(n_jobs=-1)]: Done 196 tasks      | elapsed: 12.7min\n",
            "[Parallel(n_jobs=-1)]: Done 446 tasks      | elapsed: 32.1min\n",
            "/usr/local/lib/python3.7/dist-packages/joblib/externals/loky/process_executor.py:691: UserWarning: A worker stopped while some jobs were given to the executor. This can be caused by a too short worker timeout or by a memory leak.\n",
            "  \"timeout or by a memory leak.\", UserWarning\n",
            "[Parallel(n_jobs=-1)]: Done 796 tasks      | elapsed: 69.6min\n",
            "[Parallel(n_jobs=-1)]: Done 1246 tasks      | elapsed: 124.6min\n",
            "[Parallel(n_jobs=-1)]: Done 1500 out of 1500 | elapsed: 154.1min finished\n"
          ],
          "name": "stderr"
        }
      ]
    },
    {
      "cell_type": "code",
      "metadata": {
        "colab": {
          "base_uri": "https://localhost:8080/"
        },
        "id": "aw5_wL2HHpF0",
        "outputId": "7f23f673-6061-4797-8885-0d6ec5092dbc"
      },
      "source": [
        "print(bestF)"
      ],
      "execution_count": null,
      "outputs": [
        {
          "output_type": "stream",
          "text": [
            "GridSearchCV(cv=3, error_score=nan,\n",
            "             estimator=RandomForestClassifier(bootstrap=True, ccp_alpha=0.0,\n",
            "                                              class_weight=None,\n",
            "                                              criterion='gini', max_depth=None,\n",
            "                                              max_features='auto',\n",
            "                                              max_leaf_nodes=None,\n",
            "                                              max_samples=None,\n",
            "                                              min_impurity_decrease=0.0,\n",
            "                                              min_impurity_split=None,\n",
            "                                              min_samples_leaf=1,\n",
            "                                              min_samples_split=2,\n",
            "                                              min_weight_fraction_leaf=0.0,\n",
            "                                              n_estimators=100, n_jobs=None,\n",
            "                                              oob_score=False, random_state=1,\n",
            "                                              verbose=0, warm_start=False),\n",
            "             iid='deprecated', n_jobs=-1,\n",
            "             param_grid={'max_depth': [5, 8, 15, 25, 30],\n",
            "                         'min_samples_leaf': [1, 2, 5, 10],\n",
            "                         'min_samples_split': [2, 5, 10, 15, 100],\n",
            "                         'n_estimators': [100, 300, 500, 800, 1200]},\n",
            "             pre_dispatch='2*n_jobs', refit=True, return_train_score=False,\n",
            "             scoring=None, verbose=1)\n"
          ],
          "name": "stdout"
        }
      ]
    },
    {
      "cell_type": "code",
      "metadata": {
        "id": "dy-z-8udnnvG"
      },
      "source": [
        "bestF"
      ],
      "execution_count": null,
      "outputs": []
    },
    {
      "cell_type": "code",
      "metadata": {
        "colab": {
          "base_uri": "https://localhost:8080/"
        },
        "id": "Uau_sDkEno3N",
        "outputId": "bbee6af2-d013-4749-d3e5-52d31830093e"
      },
      "source": [
        "gridF.best_params_"
      ],
      "execution_count": null,
      "outputs": [
        {
          "output_type": "execute_result",
          "data": {
            "text/plain": [
              "{'max_depth': 25,\n",
              " 'min_samples_leaf': 1,\n",
              " 'min_samples_split': 10,\n",
              " 'n_estimators': 1200}"
            ]
          },
          "metadata": {
            "tags": []
          },
          "execution_count": 12
        }
      ]
    },
    {
      "cell_type": "code",
      "metadata": {
        "colab": {
          "base_uri": "https://localhost:8080/"
        },
        "id": "-4EgfbpDtBvZ",
        "outputId": "4416c3c7-6d61-4d36-a4c9-87ce9cbd1918"
      },
      "source": [
        "clf3 = RandomForestClassifier(n_estimators=1200,max_depth=25, min_samples_leaf=1, min_samples_split=10)\n",
        "clf3.fit(X_train,y_train)\n",
        "print('Train Accuracy: ', clf3.score(X_train,y_train))\n",
        "print('Test Accuracy: ', clf3.score(X_test,y_test))"
      ],
      "execution_count": null,
      "outputs": [
        {
          "output_type": "stream",
          "text": [
            "Train Accuracy:  0.8575975309832666\n",
            "Test Accuracy:  0.68001800180018\n"
          ],
          "name": "stdout"
        }
      ]
    },
    {
      "cell_type": "code",
      "metadata": {
        "colab": {
          "base_uri": "https://localhost:8080/"
        },
        "id": "nOJkSzX6toku",
        "outputId": "cacccb41-604a-47d0-cb45-eeef6e11dd06"
      },
      "source": [
        "clf4 = RandomForestClassifier(n_estimators=1200,max_depth=25, min_samples_leaf=1, min_samples_split=10)\n",
        "clf4.fit(train, y)"
      ],
      "execution_count": null,
      "outputs": [
        {
          "output_type": "execute_result",
          "data": {
            "text/plain": [
              "RandomForestClassifier(bootstrap=True, ccp_alpha=0.0, class_weight=None,\n",
              "                       criterion='gini', max_depth=25, max_features='auto',\n",
              "                       max_leaf_nodes=None, max_samples=None,\n",
              "                       min_impurity_decrease=0.0, min_impurity_split=None,\n",
              "                       min_samples_leaf=1, min_samples_split=10,\n",
              "                       min_weight_fraction_leaf=0.0, n_estimators=1200,\n",
              "                       n_jobs=None, oob_score=False, random_state=None,\n",
              "                       verbose=0, warm_start=False)"
            ]
          },
          "metadata": {
            "tags": []
          },
          "execution_count": 15
        }
      ]
    },
    {
      "cell_type": "code",
      "metadata": {
        "id": "mPDrnx9XuHNF"
      },
      "source": [
        "sol2 = test.tweet_id.to_frame()\n",
        "sol2['virality'] = clf4.predict(test)\n",
        "sol2.to_csv('sol2.csv',index=False)"
      ],
      "execution_count": null,
      "outputs": []
    },
    {
      "cell_type": "code",
      "metadata": {
        "colab": {
          "base_uri": "https://localhost:8080/",
          "height": 195
        },
        "id": "9PVrJokdugOn",
        "outputId": "34c2c60d-393f-458a-f4cd-f2a0b19563db"
      },
      "source": [
        "sol2.head()"
      ],
      "execution_count": null,
      "outputs": [
        {
          "output_type": "execute_result",
          "data": {
            "text/html": [
              "<div>\n",
              "<style scoped>\n",
              "    .dataframe tbody tr th:only-of-type {\n",
              "        vertical-align: middle;\n",
              "    }\n",
              "\n",
              "    .dataframe tbody tr th {\n",
              "        vertical-align: top;\n",
              "    }\n",
              "\n",
              "    .dataframe thead th {\n",
              "        text-align: right;\n",
              "    }\n",
              "</style>\n",
              "<table border=\"1\" class=\"dataframe\">\n",
              "  <thead>\n",
              "    <tr style=\"text-align: right;\">\n",
              "      <th></th>\n",
              "      <th>tweet_id</th>\n",
              "    </tr>\n",
              "  </thead>\n",
              "  <tbody>\n",
              "    <tr>\n",
              "      <th>0</th>\n",
              "      <td>6238</td>\n",
              "    </tr>\n",
              "    <tr>\n",
              "      <th>1</th>\n",
              "      <td>37458</td>\n",
              "    </tr>\n",
              "    <tr>\n",
              "      <th>2</th>\n",
              "      <td>23968</td>\n",
              "    </tr>\n",
              "    <tr>\n",
              "      <th>3</th>\n",
              "      <td>24137</td>\n",
              "    </tr>\n",
              "    <tr>\n",
              "      <th>4</th>\n",
              "      <td>8064</td>\n",
              "    </tr>\n",
              "  </tbody>\n",
              "</table>\n",
              "</div>"
            ],
            "text/plain": [
              "   tweet_id\n",
              "0      6238\n",
              "1     37458\n",
              "2     23968\n",
              "3     24137\n",
              "4      8064"
            ]
          },
          "metadata": {
            "tags": []
          },
          "execution_count": 17
        }
      ]
    },
    {
      "cell_type": "code",
      "metadata": {
        "id": "j6DSPapXurTc"
      },
      "source": [
        ""
      ],
      "execution_count": null,
      "outputs": []
    },
    {
      "cell_type": "markdown",
      "metadata": {
        "id": "jY99aQnZ2NNC"
      },
      "source": [
        "Fine Tuning"
      ]
    },
    {
      "cell_type": "code",
      "metadata": {
        "id": "c5qj11FV2fho"
      },
      "source": [
        "{'max_depth': 25,\n",
        " 'min_samples_leaf': 1,\n",
        " 'min_samples_split': 10,\n",
        " 'n_estimators': 1200}"
      ],
      "execution_count": null,
      "outputs": []
    },
    {
      "cell_type": "code",
      "metadata": {
        "colab": {
          "base_uri": "https://localhost:8080/"
        },
        "id": "N8mml2yC2OKU",
        "outputId": "7dada77d-ea90-4f03-d196-8e9d7b618007"
      },
      "source": [
        "forest = RandomForestClassifier(random_state = 1)\n",
        "modelF = forest.fit(X_train, y_train)\n",
        "print('Train Accuracy: ', forest.score(X_train,y_train))\n",
        "print('Test Accuracy: ', forest.score(X_test,y_test))"
      ],
      "execution_count": null,
      "outputs": [
        {
          "output_type": "stream",
          "text": [
            "Train Accuracy:  1.0\n",
            "Test Accuracy:  0.6592034203420342\n"
          ],
          "name": "stdout"
        }
      ]
    },
    {
      "cell_type": "code",
      "metadata": {
        "colab": {
          "base_uri": "https://localhost:8080/"
        },
        "id": "qve-__Sl2aVF",
        "outputId": "adc8a1af-dd63-4c4c-8f95-6012b84d2750"
      },
      "source": [
        "n_estimators = [1000, 1200,1100]\n",
        "max_depth = [20, 23, 25, 27]\n",
        "min_samples_split = [8, 10, 12]\n",
        "min_samples_leaf = [1] \n",
        "\n",
        "hyperF = dict(n_estimators = n_estimators, max_depth = max_depth,  \n",
        "              min_samples_split = min_samples_split, \n",
        "             min_samples_leaf = min_samples_leaf)\n",
        "\n",
        "gridF = GridSearchCV(forest, hyperF, cv = 3, verbose = 1, \n",
        "                      n_jobs = -1)\n",
        "bestF = gridF.fit(X_train, y_train)"
      ],
      "execution_count": null,
      "outputs": [
        {
          "output_type": "stream",
          "text": [
            "Fitting 3 folds for each of 36 candidates, totalling 108 fits\n"
          ],
          "name": "stdout"
        },
        {
          "output_type": "stream",
          "text": [
            "[Parallel(n_jobs=-1)]: Using backend LokyBackend with 2 concurrent workers.\n",
            "[Parallel(n_jobs=-1)]: Done  46 tasks      | elapsed: 11.2min\n",
            "[Parallel(n_jobs=-1)]: Done 108 out of 108 | elapsed: 26.2min finished\n"
          ],
          "name": "stderr"
        }
      ]
    },
    {
      "cell_type": "code",
      "metadata": {
        "colab": {
          "base_uri": "https://localhost:8080/"
        },
        "id": "mHiOLIV23CqV",
        "outputId": "8f9dfa5d-0d02-4cac-97f3-35793f05b1f0"
      },
      "source": [
        "bestF.best_params_"
      ],
      "execution_count": null,
      "outputs": [
        {
          "output_type": "execute_result",
          "data": {
            "text/plain": [
              "{'max_depth': 23,\n",
              " 'min_samples_leaf': 1,\n",
              " 'min_samples_split': 8,\n",
              " 'n_estimators': 1200}"
            ]
          },
          "metadata": {
            "tags": []
          },
          "execution_count": 21
        }
      ]
    },
    {
      "cell_type": "code",
      "metadata": {
        "colab": {
          "base_uri": "https://localhost:8080/"
        },
        "id": "0MJXQcr99fnO",
        "outputId": "b90ceddf-2664-41f5-a967-d497d96cc4ee"
      },
      "source": [
        "bestF.best_score_"
      ],
      "execution_count": null,
      "outputs": [
        {
          "output_type": "execute_result",
          "data": {
            "text/plain": [
              "0.671601706973621"
            ]
          },
          "metadata": {
            "tags": []
          },
          "execution_count": 22
        }
      ]
    },
    {
      "cell_type": "code",
      "metadata": {
        "colab": {
          "base_uri": "https://localhost:8080/"
        },
        "id": "uO6oQZze9kda",
        "outputId": "4edd2c2a-886f-4133-c0f6-9268aa3ed31f"
      },
      "source": [
        "clf5 = RandomForestClassifier(n_estimators=1200,max_depth=23, min_samples_leaf=1, min_samples_split=8)\n",
        "clf5.fit(X_train,y_train)\n",
        "print('Train Accuracy: ', clf5.score(X_train,y_train))\n",
        "print('Test Accuracy: ', clf5.score(X_test,y_test))"
      ],
      "execution_count": null,
      "outputs": [
        {
          "output_type": "stream",
          "text": [
            "Train Accuracy:  0.8860973139798428\n",
            "Test Accuracy:  0.6685418541854186\n"
          ],
          "name": "stdout"
        }
      ]
    },
    {
      "cell_type": "code",
      "metadata": {
        "id": "d_2fxrIL92xO"
      },
      "source": [
        "clf6 = RandomForestClassifier(n_estimators=1200,max_depth=23, min_samples_leaf=1, min_samples_split=8)\n",
        "clf6.fit(train, y)\n",
        "sol3 = test.tweet_id.to_frame()\n",
        "sol3['virality'] = clf6.predict(test)\n",
        "sol3.to_csv('sol3.csv',index=False)"
      ],
      "execution_count": null,
      "outputs": []
    },
    {
      "cell_type": "code",
      "metadata": {
        "colab": {
          "base_uri": "https://localhost:8080/",
          "height": 400
        },
        "id": "upLQiKDT-BGC",
        "outputId": "12fdd023-17ba-42e5-ae97-f250a2266178"
      },
      "source": [
        "sns.heatmap(data.corr())"
      ],
      "execution_count": null,
      "outputs": [
        {
          "output_type": "execute_result",
          "data": {
            "text/plain": [
              "<matplotlib.axes._subplots.AxesSubplot at 0x7fb6e5d5ab90>"
            ]
          },
          "metadata": {
            "tags": []
          },
          "execution_count": 32
        },
        {
          "output_type": "display_data",
          "data": {
            "image/png": "[encoded data removed]",
            "text/plain": [
              "<Figure size 432x288 with 2 Axes>"
            ]
          },
          "metadata": {
            "tags": [],
            "needs_background": "light"
          }
        }
      ]
    },
    {
      "cell_type": "code",
      "metadata": {
        "id": "0kpW1zJiCBRQ"
      },
      "source": [
        "users = pd.read_csv('/content/drive/MyDrive/Viral Tweets Prediction Challenge Dataset/Dataset/Users/users.csv')"
      ],
      "execution_count": null,
      "outputs": []
    },
    {
      "cell_type": "code",
      "metadata": {
        "colab": {
          "base_uri": "https://localhost:8080/",
          "height": 215
        },
        "id": "K_fRi6vHDADc",
        "outputId": "641135a3-8a10-4615-fe15-ccdab32dd86f"
      },
      "source": [
        "users.head()"
      ],
      "execution_count": null,
      "outputs": [
        {
          "output_type": "execute_result",
          "data": {
            "text/html": [
              "<div>\n",
              "<style scoped>\n",
              "    .dataframe tbody tr th:only-of-type {\n",
              "        vertical-align: middle;\n",
              "    }\n",
              "\n",
              "    .dataframe tbody tr th {\n",
              "        vertical-align: top;\n",
              "    }\n",
              "\n",
              "    .dataframe thead th {\n",
              "        text-align: right;\n",
              "    }\n",
              "</style>\n",
              "<table border=\"1\" class=\"dataframe\">\n",
              "  <thead>\n",
              "    <tr style=\"text-align: right;\">\n",
              "      <th></th>\n",
              "      <th>user_id</th>\n",
              "      <th>user_like_count</th>\n",
              "      <th>user_followers_count</th>\n",
              "      <th>user_following_count</th>\n",
              "      <th>user_listed_on_count</th>\n",
              "      <th>user_has_location</th>\n",
              "      <th>user_tweet_count</th>\n",
              "      <th>user_has_url</th>\n",
              "      <th>user_verified</th>\n",
              "      <th>user_created_at_year</th>\n",
              "      <th>user_created_at_month</th>\n",
              "    </tr>\n",
              "  </thead>\n",
              "  <tbody>\n",
              "    <tr>\n",
              "      <th>0</th>\n",
              "      <td>0</td>\n",
              "      <td>1164</td>\n",
              "      <td>48720</td>\n",
              "      <td>70469</td>\n",
              "      <td>5956</td>\n",
              "      <td>True</td>\n",
              "      <td>14122</td>\n",
              "      <td>True</td>\n",
              "      <td>0</td>\n",
              "      <td>2010</td>\n",
              "      <td>8</td>\n",
              "    </tr>\n",
              "    <tr>\n",
              "      <th>1</th>\n",
              "      <td>1</td>\n",
              "      <td>3914</td>\n",
              "      <td>85361</td>\n",
              "      <td>2171</td>\n",
              "      <td>5943</td>\n",
              "      <td>False</td>\n",
              "      <td>6957</td>\n",
              "      <td>False</td>\n",
              "      <td>0</td>\n",
              "      <td>2011</td>\n",
              "      <td>9</td>\n",
              "    </tr>\n",
              "    <tr>\n",
              "      <th>2</th>\n",
              "      <td>2</td>\n",
              "      <td>8292</td>\n",
              "      <td>200944</td>\n",
              "      <td>1416</td>\n",
              "      <td>8379</td>\n",
              "      <td>True</td>\n",
              "      <td>83485</td>\n",
              "      <td>True</td>\n",
              "      <td>0</td>\n",
              "      <td>2011</td>\n",
              "      <td>6</td>\n",
              "    </tr>\n",
              "    <tr>\n",
              "      <th>3</th>\n",
              "      <td>3</td>\n",
              "      <td>1770</td>\n",
              "      <td>15385</td>\n",
              "      <td>4572</td>\n",
              "      <td>1866</td>\n",
              "      <td>True</td>\n",
              "      <td>12265</td>\n",
              "      <td>True</td>\n",
              "      <td>0</td>\n",
              "      <td>2011</td>\n",
              "      <td>8</td>\n",
              "    </tr>\n",
              "    <tr>\n",
              "      <th>4</th>\n",
              "      <td>4</td>\n",
              "      <td>15311</td>\n",
              "      <td>459083</td>\n",
              "      <td>1021</td>\n",
              "      <td>7368</td>\n",
              "      <td>False</td>\n",
              "      <td>121193</td>\n",
              "      <td>False</td>\n",
              "      <td>0</td>\n",
              "      <td>2011</td>\n",
              "      <td>6</td>\n",
              "    </tr>\n",
              "  </tbody>\n",
              "</table>\n",
              "</div>"
            ],
            "text/plain": [
              "   user_id  user_like_count  ...  user_created_at_year  user_created_at_month\n",
              "0        0             1164  ...                  2010                      8\n",
              "1        1             3914  ...                  2011                      9\n",
              "2        2             8292  ...                  2011                      6\n",
              "3        3             1770  ...                  2011                      8\n",
              "4        4            15311  ...                  2011                      6\n",
              "\n",
              "[5 rows x 11 columns]"
            ]
          },
          "metadata": {
            "tags": []
          },
          "execution_count": 34
        }
      ]
    },
    {
      "cell_type": "code",
      "metadata": {
        "colab": {
          "base_uri": "https://localhost:8080/"
        },
        "id": "khlkGTFSDBZR",
        "outputId": "9df277ff-b048-4200-adfd-698e67c2f85f"
      },
      "source": [
        "users.shape"
      ],
      "execution_count": null,
      "outputs": [
        {
          "output_type": "execute_result",
          "data": {
            "text/plain": [
              "(52, 11)"
            ]
          },
          "metadata": {
            "tags": []
          },
          "execution_count": 35
        }
      ]
    },
    {
      "cell_type": "code",
      "metadata": {
        "id": "lrI7aWGbDCZu"
      },
      "source": [
        "users"
      ],
      "execution_count": null,
      "outputs": []
    },
    {
      "cell_type": "code",
      "metadata": {
        "id": "qJgNtAMlDFV1"
      },
      "source": [
        "data"
      ],
      "execution_count": null,
      "outputs": []
    },
    {
      "cell_type": "code",
      "metadata": {
        "colab": {
          "base_uri": "https://localhost:8080/"
        },
        "id": "L_5jobwNHCQm",
        "outputId": "661cf623-2321-428f-cebd-e4564a372de5"
      },
      "source": [
        "len(data.tweet_user_id.unique())"
      ],
      "execution_count": null,
      "outputs": [
        {
          "output_type": "execute_result",
          "data": {
            "text/plain": [
              "52"
            ]
          },
          "metadata": {
            "tags": []
          },
          "execution_count": 47
        }
      ]
    },
    {
      "cell_type": "code",
      "metadata": {
        "id": "1g7sm53ADWWq"
      },
      "source": [
        "data.tweet_user_id.value_counts()"
      ],
      "execution_count": null,
      "outputs": []
    },
    {
      "cell_type": "code",
      "metadata": {
        "id": "mqN3wooHDf5s"
      },
      "source": [
        "data2 = data.copy()\n"
      ],
      "execution_count": null,
      "outputs": []
    },
    {
      "cell_type": "code",
      "metadata": {
        "id": "7R2aO3g8NY9F"
      },
      "source": [
        "data=data2.copy()"
      ],
      "execution_count": null,
      "outputs": []
    },
    {
      "cell_type": "code",
      "metadata": {
        "colab": {
          "base_uri": "https://localhost:8080/"
        },
        "id": "bNfXVTXfHeGr",
        "outputId": "ded94d27-6d59-49b3-822e-da8acdf2e052"
      },
      "source": [
        "data.shape"
      ],
      "execution_count": null,
      "outputs": [
        {
          "output_type": "execute_result",
          "data": {
            "text/plain": [
              "(29625, 14)"
            ]
          },
          "metadata": {
            "tags": []
          },
          "execution_count": 49
        }
      ]
    },
    {
      "cell_type": "code",
      "metadata": {
        "colab": {
          "base_uri": "https://localhost:8080/",
          "height": 350
        },
        "id": "LxvcC3E7Hfw9",
        "outputId": "2ec4c182-5c4b-4cb7-dacc-d055afc62796"
      },
      "source": [
        "data.head()"
      ],
      "execution_count": null,
      "outputs": [
        {
          "output_type": "execute_result",
          "data": {
            "text/html": [
              "<div>\n",
              "<style scoped>\n",
              "    .dataframe tbody tr th:only-of-type {\n",
              "        vertical-align: middle;\n",
              "    }\n",
              "\n",
              "    .dataframe tbody tr th {\n",
              "        vertical-align: top;\n",
              "    }\n",
              "\n",
              "    .dataframe thead th {\n",
              "        text-align: right;\n",
              "    }\n",
              "</style>\n",
              "<table border=\"1\" class=\"dataframe\">\n",
              "  <thead>\n",
              "    <tr style=\"text-align: right;\">\n",
              "      <th></th>\n",
              "      <th>tweet_id</th>\n",
              "      <th>tweet_user_id</th>\n",
              "      <th>tweet_created_at_year</th>\n",
              "      <th>tweet_created_at_month</th>\n",
              "      <th>tweet_created_at_day</th>\n",
              "      <th>tweet_created_at_hour</th>\n",
              "      <th>tweet_hashtag_count</th>\n",
              "      <th>tweet_url_count</th>\n",
              "      <th>tweet_mention_count</th>\n",
              "      <th>tweet_has_attachment</th>\n",
              "      <th>tweet_attachment_class</th>\n",
              "      <th>tweet_language_id</th>\n",
              "      <th>tweet_topic_ids</th>\n",
              "      <th>virality</th>\n",
              "    </tr>\n",
              "  </thead>\n",
              "  <tbody>\n",
              "    <tr>\n",
              "      <th>0</th>\n",
              "      <td>34698</td>\n",
              "      <td>10</td>\n",
              "      <td>2015</td>\n",
              "      <td>12</td>\n",
              "      <td>5</td>\n",
              "      <td>3</td>\n",
              "      <td>2.0</td>\n",
              "      <td>1.0</td>\n",
              "      <td>0.0</td>\n",
              "      <td>False</td>\n",
              "      <td>C</td>\n",
              "      <td>0</td>\n",
              "      <td>['36', '36', '36', '36', '36', '36', '37', '37...</td>\n",
              "      <td>3</td>\n",
              "    </tr>\n",
              "    <tr>\n",
              "      <th>1</th>\n",
              "      <td>24644</td>\n",
              "      <td>4</td>\n",
              "      <td>2020</td>\n",
              "      <td>6</td>\n",
              "      <td>19</td>\n",
              "      <td>0</td>\n",
              "      <td>0.0</td>\n",
              "      <td>1.0</td>\n",
              "      <td>0.0</td>\n",
              "      <td>False</td>\n",
              "      <td>C</td>\n",
              "      <td>0</td>\n",
              "      <td>['43', '78', '79', '80', '80', '89', '98', '99...</td>\n",
              "      <td>3</td>\n",
              "    </tr>\n",
              "    <tr>\n",
              "      <th>2</th>\n",
              "      <td>36321</td>\n",
              "      <td>54</td>\n",
              "      <td>2019</td>\n",
              "      <td>6</td>\n",
              "      <td>2</td>\n",
              "      <td>15</td>\n",
              "      <td>2.0</td>\n",
              "      <td>3.0</td>\n",
              "      <td>0.0</td>\n",
              "      <td>True</td>\n",
              "      <td>A</td>\n",
              "      <td>0</td>\n",
              "      <td>['79', '80', '98', '98', '98', '99', '99', '10...</td>\n",
              "      <td>1</td>\n",
              "    </tr>\n",
              "    <tr>\n",
              "      <th>3</th>\n",
              "      <td>2629</td>\n",
              "      <td>42</td>\n",
              "      <td>2020</td>\n",
              "      <td>9</td>\n",
              "      <td>6</td>\n",
              "      <td>17</td>\n",
              "      <td>0.0</td>\n",
              "      <td>1.0</td>\n",
              "      <td>1.0</td>\n",
              "      <td>True</td>\n",
              "      <td>A</td>\n",
              "      <td>0</td>\n",
              "      <td>['43', '79', '80', '98', '99', '99', '79', '80']</td>\n",
              "      <td>2</td>\n",
              "    </tr>\n",
              "    <tr>\n",
              "      <th>4</th>\n",
              "      <td>28169</td>\n",
              "      <td>32</td>\n",
              "      <td>2020</td>\n",
              "      <td>11</td>\n",
              "      <td>4</td>\n",
              "      <td>17</td>\n",
              "      <td>2.0</td>\n",
              "      <td>1.0</td>\n",
              "      <td>0.0</td>\n",
              "      <td>True</td>\n",
              "      <td>A</td>\n",
              "      <td>0</td>\n",
              "      <td>['79', '80', '98', '99', '43', '89']</td>\n",
              "      <td>2</td>\n",
              "    </tr>\n",
              "  </tbody>\n",
              "</table>\n",
              "</div>"
            ],
            "text/plain": [
              "   tweet_id  ...  virality\n",
              "0     34698  ...         3\n",
              "1     24644  ...         3\n",
              "2     36321  ...         1\n",
              "3      2629  ...         2\n",
              "4     28169  ...         2\n",
              "\n",
              "[5 rows x 14 columns]"
            ]
          },
          "metadata": {
            "tags": []
          },
          "execution_count": 50
        }
      ]
    },
    {
      "cell_type": "code",
      "metadata": {
        "colab": {
          "base_uri": "https://localhost:8080/"
        },
        "id": "6sNy-B4aHhT8",
        "outputId": "f9451579-db84-46d2-c303-266311203258"
      },
      "source": [
        "[data.loc[0,'tweet_user_id']]"
      ],
      "execution_count": null,
      "outputs": [
        {
          "output_type": "execute_result",
          "data": {
            "text/plain": [
              "10"
            ]
          },
          "metadata": {
            "tags": []
          },
          "execution_count": 52
        }
      ]
    },
    {
      "cell_type": "code",
      "metadata": {
        "colab": {
          "base_uri": "https://localhost:8080/",
          "height": 511
        },
        "id": "J-DA1TfSLs-u",
        "outputId": "e63b8234-e04f-4d40-80b9-7e94df909494"
      },
      "source": [
        "users.head(15)"
      ],
      "execution_count": null,
      "outputs": [
        {
          "output_type": "execute_result",
          "data": {
            "text/html": [
              "<div>\n",
              "<style scoped>\n",
              "    .dataframe tbody tr th:only-of-type {\n",
              "        vertical-align: middle;\n",
              "    }\n",
              "\n",
              "    .dataframe tbody tr th {\n",
              "        vertical-align: top;\n",
              "    }\n",
              "\n",
              "    .dataframe thead th {\n",
              "        text-align: right;\n",
              "    }\n",
              "</style>\n",
              "<table border=\"1\" class=\"dataframe\">\n",
              "  <thead>\n",
              "    <tr style=\"text-align: right;\">\n",
              "      <th></th>\n",
              "      <th>user_id</th>\n",
              "      <th>user_like_count</th>\n",
              "      <th>user_followers_count</th>\n",
              "      <th>user_following_count</th>\n",
              "      <th>user_listed_on_count</th>\n",
              "      <th>user_has_location</th>\n",
              "      <th>user_tweet_count</th>\n",
              "      <th>user_has_url</th>\n",
              "      <th>user_verified</th>\n",
              "      <th>user_created_at_year</th>\n",
              "      <th>user_created_at_month</th>\n",
              "    </tr>\n",
              "  </thead>\n",
              "  <tbody>\n",
              "    <tr>\n",
              "      <th>0</th>\n",
              "      <td>0</td>\n",
              "      <td>1164</td>\n",
              "      <td>48720</td>\n",
              "      <td>70469</td>\n",
              "      <td>5956</td>\n",
              "      <td>True</td>\n",
              "      <td>14122</td>\n",
              "      <td>True</td>\n",
              "      <td>0</td>\n",
              "      <td>2010</td>\n",
              "      <td>8</td>\n",
              "    </tr>\n",
              "    <tr>\n",
              "      <th>1</th>\n",
              "      <td>1</td>\n",
              "      <td>3914</td>\n",
              "      <td>85361</td>\n",
              "      <td>2171</td>\n",
              "      <td>5943</td>\n",
              "      <td>False</td>\n",
              "      <td>6957</td>\n",
              "      <td>False</td>\n",
              "      <td>0</td>\n",
              "      <td>2011</td>\n",
              "      <td>9</td>\n",
              "    </tr>\n",
              "    <tr>\n",
              "      <th>2</th>\n",
              "      <td>2</td>\n",
              "      <td>8292</td>\n",
              "      <td>200944</td>\n",
              "      <td>1416</td>\n",
              "      <td>8379</td>\n",
              "      <td>True</td>\n",
              "      <td>83485</td>\n",
              "      <td>True</td>\n",
              "      <td>0</td>\n",
              "      <td>2011</td>\n",
              "      <td>6</td>\n",
              "    </tr>\n",
              "    <tr>\n",
              "      <th>3</th>\n",
              "      <td>3</td>\n",
              "      <td>1770</td>\n",
              "      <td>15385</td>\n",
              "      <td>4572</td>\n",
              "      <td>1866</td>\n",
              "      <td>True</td>\n",
              "      <td>12265</td>\n",
              "      <td>True</td>\n",
              "      <td>0</td>\n",
              "      <td>2011</td>\n",
              "      <td>8</td>\n",
              "    </tr>\n",
              "    <tr>\n",
              "      <th>4</th>\n",
              "      <td>4</td>\n",
              "      <td>15311</td>\n",
              "      <td>459083</td>\n",
              "      <td>1021</td>\n",
              "      <td>7368</td>\n",
              "      <td>False</td>\n",
              "      <td>121193</td>\n",
              "      <td>False</td>\n",
              "      <td>0</td>\n",
              "      <td>2011</td>\n",
              "      <td>6</td>\n",
              "    </tr>\n",
              "    <tr>\n",
              "      <th>5</th>\n",
              "      <td>5</td>\n",
              "      <td>882</td>\n",
              "      <td>5969</td>\n",
              "      <td>2352</td>\n",
              "      <td>841</td>\n",
              "      <td>True</td>\n",
              "      <td>3184</td>\n",
              "      <td>False</td>\n",
              "      <td>0</td>\n",
              "      <td>2011</td>\n",
              "      <td>1</td>\n",
              "    </tr>\n",
              "    <tr>\n",
              "      <th>6</th>\n",
              "      <td>6</td>\n",
              "      <td>4736</td>\n",
              "      <td>23127</td>\n",
              "      <td>1345</td>\n",
              "      <td>909</td>\n",
              "      <td>False</td>\n",
              "      <td>12033</td>\n",
              "      <td>True</td>\n",
              "      <td>0</td>\n",
              "      <td>2011</td>\n",
              "      <td>1</td>\n",
              "    </tr>\n",
              "    <tr>\n",
              "      <th>7</th>\n",
              "      <td>7</td>\n",
              "      <td>0</td>\n",
              "      <td>103254</td>\n",
              "      <td>529</td>\n",
              "      <td>990</td>\n",
              "      <td>True</td>\n",
              "      <td>169</td>\n",
              "      <td>True</td>\n",
              "      <td>0</td>\n",
              "      <td>2014</td>\n",
              "      <td>11</td>\n",
              "    </tr>\n",
              "    <tr>\n",
              "      <th>8</th>\n",
              "      <td>8</td>\n",
              "      <td>7776</td>\n",
              "      <td>168167</td>\n",
              "      <td>11290</td>\n",
              "      <td>1816</td>\n",
              "      <td>True</td>\n",
              "      <td>7065</td>\n",
              "      <td>True</td>\n",
              "      <td>0</td>\n",
              "      <td>2013</td>\n",
              "      <td>4</td>\n",
              "    </tr>\n",
              "    <tr>\n",
              "      <th>9</th>\n",
              "      <td>10</td>\n",
              "      <td>9365</td>\n",
              "      <td>398591</td>\n",
              "      <td>136081</td>\n",
              "      <td>18462</td>\n",
              "      <td>True</td>\n",
              "      <td>169980</td>\n",
              "      <td>True</td>\n",
              "      <td>0</td>\n",
              "      <td>2011</td>\n",
              "      <td>10</td>\n",
              "    </tr>\n",
              "    <tr>\n",
              "      <th>10</th>\n",
              "      <td>11</td>\n",
              "      <td>1526</td>\n",
              "      <td>20345</td>\n",
              "      <td>1322</td>\n",
              "      <td>1941</td>\n",
              "      <td>False</td>\n",
              "      <td>7648</td>\n",
              "      <td>True</td>\n",
              "      <td>0</td>\n",
              "      <td>2011</td>\n",
              "      <td>4</td>\n",
              "    </tr>\n",
              "    <tr>\n",
              "      <th>11</th>\n",
              "      <td>12</td>\n",
              "      <td>8698</td>\n",
              "      <td>1310481</td>\n",
              "      <td>211356</td>\n",
              "      <td>38838</td>\n",
              "      <td>True</td>\n",
              "      <td>145660</td>\n",
              "      <td>True</td>\n",
              "      <td>0</td>\n",
              "      <td>2008</td>\n",
              "      <td>2</td>\n",
              "    </tr>\n",
              "    <tr>\n",
              "      <th>12</th>\n",
              "      <td>13</td>\n",
              "      <td>2190</td>\n",
              "      <td>23349</td>\n",
              "      <td>825</td>\n",
              "      <td>2386</td>\n",
              "      <td>True</td>\n",
              "      <td>6462</td>\n",
              "      <td>True</td>\n",
              "      <td>0</td>\n",
              "      <td>2013</td>\n",
              "      <td>8</td>\n",
              "    </tr>\n",
              "    <tr>\n",
              "      <th>13</th>\n",
              "      <td>14</td>\n",
              "      <td>1655</td>\n",
              "      <td>12740</td>\n",
              "      <td>11865</td>\n",
              "      <td>1024</td>\n",
              "      <td>True</td>\n",
              "      <td>12572</td>\n",
              "      <td>True</td>\n",
              "      <td>0</td>\n",
              "      <td>2011</td>\n",
              "      <td>4</td>\n",
              "    </tr>\n",
              "    <tr>\n",
              "      <th>14</th>\n",
              "      <td>15</td>\n",
              "      <td>4318</td>\n",
              "      <td>1049348</td>\n",
              "      <td>2888</td>\n",
              "      <td>12504</td>\n",
              "      <td>True</td>\n",
              "      <td>15396</td>\n",
              "      <td>True</td>\n",
              "      <td>0</td>\n",
              "      <td>2012</td>\n",
              "      <td>12</td>\n",
              "    </tr>\n",
              "  </tbody>\n",
              "</table>\n",
              "</div>"
            ],
            "text/plain": [
              "    user_id  user_like_count  ...  user_created_at_year  user_created_at_month\n",
              "0         0             1164  ...                  2010                      8\n",
              "1         1             3914  ...                  2011                      9\n",
              "2         2             8292  ...                  2011                      6\n",
              "3         3             1770  ...                  2011                      8\n",
              "4         4            15311  ...                  2011                      6\n",
              "5         5              882  ...                  2011                      1\n",
              "6         6             4736  ...                  2011                      1\n",
              "7         7                0  ...                  2014                     11\n",
              "8         8             7776  ...                  2013                      4\n",
              "9        10             9365  ...                  2011                     10\n",
              "10       11             1526  ...                  2011                      4\n",
              "11       12             8698  ...                  2008                      2\n",
              "12       13             2190  ...                  2013                      8\n",
              "13       14             1655  ...                  2011                      4\n",
              "14       15             4318  ...                  2012                     12\n",
              "\n",
              "[15 rows x 11 columns]"
            ]
          },
          "metadata": {
            "tags": []
          },
          "execution_count": 57
        }
      ]
    },
    {
      "cell_type": "code",
      "metadata": {
        "colab": {
          "base_uri": "https://localhost:8080/",
          "height": 97
        },
        "id": "YOd0tOz8MS9_",
        "outputId": "cfb88023-30dc-4a05-ccf9-b3cbf8d13d36"
      },
      "source": [
        "users[users.user_id==10]"
      ],
      "execution_count": null,
      "outputs": [
        {
          "output_type": "execute_result",
          "data": {
            "text/html": [
              "<div>\n",
              "<style scoped>\n",
              "    .dataframe tbody tr th:only-of-type {\n",
              "        vertical-align: middle;\n",
              "    }\n",
              "\n",
              "    .dataframe tbody tr th {\n",
              "        vertical-align: top;\n",
              "    }\n",
              "\n",
              "    .dataframe thead th {\n",
              "        text-align: right;\n",
              "    }\n",
              "</style>\n",
              "<table border=\"1\" class=\"dataframe\">\n",
              "  <thead>\n",
              "    <tr style=\"text-align: right;\">\n",
              "      <th></th>\n",
              "      <th>user_id</th>\n",
              "      <th>user_like_count</th>\n",
              "      <th>user_followers_count</th>\n",
              "      <th>user_following_count</th>\n",
              "      <th>user_listed_on_count</th>\n",
              "      <th>user_has_location</th>\n",
              "      <th>user_tweet_count</th>\n",
              "      <th>user_has_url</th>\n",
              "      <th>user_verified</th>\n",
              "      <th>user_created_at_year</th>\n",
              "      <th>user_created_at_month</th>\n",
              "    </tr>\n",
              "  </thead>\n",
              "  <tbody>\n",
              "    <tr>\n",
              "      <th>9</th>\n",
              "      <td>10</td>\n",
              "      <td>9365</td>\n",
              "      <td>398591</td>\n",
              "      <td>136081</td>\n",
              "      <td>18462</td>\n",
              "      <td>True</td>\n",
              "      <td>169980</td>\n",
              "      <td>True</td>\n",
              "      <td>0</td>\n",
              "      <td>2011</td>\n",
              "      <td>10</td>\n",
              "    </tr>\n",
              "  </tbody>\n",
              "</table>\n",
              "</div>"
            ],
            "text/plain": [
              "   user_id  user_like_count  ...  user_created_at_year  user_created_at_month\n",
              "9       10             9365  ...                  2011                     10\n",
              "\n",
              "[1 rows x 11 columns]"
            ]
          },
          "metadata": {
            "tags": []
          },
          "execution_count": 54
        }
      ]
    },
    {
      "cell_type": "code",
      "metadata": {
        "id": "oCR0izUXMgud"
      },
      "source": [
        "data.loc[0] = users[users.user_id==10]"
      ],
      "execution_count": null,
      "outputs": []
    },
    {
      "cell_type": "code",
      "metadata": {
        "colab": {
          "base_uri": "https://localhost:8080/",
          "height": 316
        },
        "id": "vZLzzg9LNEfk",
        "outputId": "83f6e1d6-efce-4da2-f5b9-50b9d35aa8e6"
      },
      "source": [
        "data.head()"
      ],
      "execution_count": null,
      "outputs": [
        {
          "output_type": "execute_result",
          "data": {
            "text/html": [
              "<div>\n",
              "<style scoped>\n",
              "    .dataframe tbody tr th:only-of-type {\n",
              "        vertical-align: middle;\n",
              "    }\n",
              "\n",
              "    .dataframe tbody tr th {\n",
              "        vertical-align: top;\n",
              "    }\n",
              "\n",
              "    .dataframe thead th {\n",
              "        text-align: right;\n",
              "    }\n",
              "</style>\n",
              "<table border=\"1\" class=\"dataframe\">\n",
              "  <thead>\n",
              "    <tr style=\"text-align: right;\">\n",
              "      <th></th>\n",
              "      <th>tweet_id</th>\n",
              "      <th>tweet_user_id</th>\n",
              "      <th>tweet_created_at_year</th>\n",
              "      <th>tweet_created_at_month</th>\n",
              "      <th>tweet_created_at_day</th>\n",
              "      <th>tweet_created_at_hour</th>\n",
              "      <th>tweet_hashtag_count</th>\n",
              "      <th>tweet_url_count</th>\n",
              "      <th>tweet_mention_count</th>\n",
              "      <th>tweet_has_attachment</th>\n",
              "      <th>tweet_attachment_class</th>\n",
              "      <th>tweet_language_id</th>\n",
              "      <th>tweet_topic_ids</th>\n",
              "      <th>virality</th>\n",
              "    </tr>\n",
              "  </thead>\n",
              "  <tbody>\n",
              "    <tr>\n",
              "      <th>0</th>\n",
              "      <td>NaN</td>\n",
              "      <td>NaN</td>\n",
              "      <td>NaN</td>\n",
              "      <td>NaN</td>\n",
              "      <td>NaN</td>\n",
              "      <td>NaN</td>\n",
              "      <td>NaN</td>\n",
              "      <td>NaN</td>\n",
              "      <td>NaN</td>\n",
              "      <td>NaN</td>\n",
              "      <td>NaN</td>\n",
              "      <td>NaN</td>\n",
              "      <td>NaN</td>\n",
              "      <td>NaN</td>\n",
              "    </tr>\n",
              "    <tr>\n",
              "      <th>1</th>\n",
              "      <td>24644.0</td>\n",
              "      <td>4.0</td>\n",
              "      <td>2020.0</td>\n",
              "      <td>6.0</td>\n",
              "      <td>19.0</td>\n",
              "      <td>0.0</td>\n",
              "      <td>0.0</td>\n",
              "      <td>1.0</td>\n",
              "      <td>0.0</td>\n",
              "      <td>0.0</td>\n",
              "      <td>C</td>\n",
              "      <td>0.0</td>\n",
              "      <td>['43', '78', '79', '80', '80', '89', '98', '99...</td>\n",
              "      <td>3.0</td>\n",
              "    </tr>\n",
              "    <tr>\n",
              "      <th>2</th>\n",
              "      <td>36321.0</td>\n",
              "      <td>54.0</td>\n",
              "      <td>2019.0</td>\n",
              "      <td>6.0</td>\n",
              "      <td>2.0</td>\n",
              "      <td>15.0</td>\n",
              "      <td>2.0</td>\n",
              "      <td>3.0</td>\n",
              "      <td>0.0</td>\n",
              "      <td>1.0</td>\n",
              "      <td>A</td>\n",
              "      <td>0.0</td>\n",
              "      <td>['79', '80', '98', '98', '98', '99', '99', '10...</td>\n",
              "      <td>1.0</td>\n",
              "    </tr>\n",
              "    <tr>\n",
              "      <th>3</th>\n",
              "      <td>2629.0</td>\n",
              "      <td>42.0</td>\n",
              "      <td>2020.0</td>\n",
              "      <td>9.0</td>\n",
              "      <td>6.0</td>\n",
              "      <td>17.0</td>\n",
              "      <td>0.0</td>\n",
              "      <td>1.0</td>\n",
              "      <td>1.0</td>\n",
              "      <td>1.0</td>\n",
              "      <td>A</td>\n",
              "      <td>0.0</td>\n",
              "      <td>['43', '79', '80', '98', '99', '99', '79', '80']</td>\n",
              "      <td>2.0</td>\n",
              "    </tr>\n",
              "    <tr>\n",
              "      <th>4</th>\n",
              "      <td>28169.0</td>\n",
              "      <td>32.0</td>\n",
              "      <td>2020.0</td>\n",
              "      <td>11.0</td>\n",
              "      <td>4.0</td>\n",
              "      <td>17.0</td>\n",
              "      <td>2.0</td>\n",
              "      <td>1.0</td>\n",
              "      <td>0.0</td>\n",
              "      <td>1.0</td>\n",
              "      <td>A</td>\n",
              "      <td>0.0</td>\n",
              "      <td>['79', '80', '98', '99', '43', '89']</td>\n",
              "      <td>2.0</td>\n",
              "    </tr>\n",
              "  </tbody>\n",
              "</table>\n",
              "</div>"
            ],
            "text/plain": [
              "   tweet_id  ...  virality\n",
              "0       NaN  ...       NaN\n",
              "1   24644.0  ...       3.0\n",
              "2   36321.0  ...       1.0\n",
              "3    2629.0  ...       2.0\n",
              "4   28169.0  ...       2.0\n",
              "\n",
              "[5 rows x 14 columns]"
            ]
          },
          "metadata": {
            "tags": []
          },
          "execution_count": 61
        }
      ]
    },
    {
      "cell_type": "code",
      "metadata": {
        "colab": {
          "base_uri": "https://localhost:8080/"
        },
        "id": "vNe2puPkP8yj",
        "outputId": "7e5b16cd-a4e3-45f5-a537-4a21578d774d"
      },
      "source": [
        "users.columns"
      ],
      "execution_count": null,
      "outputs": [
        {
          "output_type": "execute_result",
          "data": {
            "text/plain": [
              "Index(['user_id', 'user_like_count', 'user_followers_count',\n",
              "       'user_following_count', 'user_listed_on_count', 'user_has_location',\n",
              "       'user_tweet_count', 'user_has_url', 'user_verified',\n",
              "       'user_created_at_year', 'user_created_at_month'],\n",
              "      dtype='object')"
            ]
          },
          "metadata": {
            "tags": []
          },
          "execution_count": 63
        }
      ]
    },
    {
      "cell_type": "code",
      "metadata": {
        "id": "qKKF-tOqQIVn"
      },
      "source": [
        "test.tweet_user_id.value_counts()"
      ],
      "execution_count": null,
      "outputs": []
    },
    {
      "cell_type": "code",
      "metadata": {
        "id": "HP-BgLf7QMdp"
      },
      "source": [
        ""
      ],
      "execution_count": null,
      "outputs": []
    }
  ]
}