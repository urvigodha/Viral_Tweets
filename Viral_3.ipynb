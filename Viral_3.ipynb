{
  "nbformat": 4,
  "nbformat_minor": 0,
  "metadata": {
    "colab": {
      "name": "Viral_3.ipynb",
      "provenance": [],
      "toc_visible": true,
      "mount_file_id": "1aIu-20Oen0Fz4DInvQty6m31VD1tO0PB",
      "authorship_tag": "ABX9TyNU1T4JuWHiQ6Q3ix+a9E4u"
    },
    "kernelspec": {
      "name": "python3",
      "display_name": "Python 3"
    },
    "language_info": {
      "name": "python"
    }
  },
  "cells": [
    {
      "cell_type": "code",
      "metadata": {
        "id": "RoawdqF1c763"
      },
      "source": [
        "import pandas as pd\n",
        "import numpy as np\n",
        "from sklearn.model_selection import train_test_split\n",
        "from sklearn.ensemble import RandomForestClassifier\n",
        "from xgboost import XGBClassifier\n",
        "from sklearn.svm import SVC\n",
        "from sklearn.linear_model import SGDClassifier\n",
        "from sklearn.neighbors import KNeighborsClassifier\n",
        "from sklearn.naive_bayes import GaussianNB\n",
        "from sklearn.decomposition import PCA\n",
        "from sklearn.preprocessing import LabelEncoder, MinMaxScaler\n",
        "from sklearn.metrics import confusion_matrix, precision_score, recall_score, f1_score\n",
        "from sklearn.model_selection import GridSearchCV\n",
        "from sklearn.model_selection import RandomizedSearchCV\n",
        "import seaborn as sns\n",
        "from keras.layers import LSTM,Dense\n",
        "from keras.models import Sequential\n",
        "from keras.utils import plot_model\n",
        "from scipy.stats import uniform, truncnorm, randint"
      ],
      "execution_count": null,
      "outputs": []
    },
    {
      "cell_type": "code",
      "metadata": {
        "id": "dpj7VTfpdFYW"
      },
      "source": [
        "train  = pd.read_csv('/content/drive/MyDrive/Viral Tweets Prediction Challenge Dataset/Dataset/Tweets/train_tweets.csv')\n",
        "test = pd.read_csv('/content/drive/MyDrive/Viral Tweets Prediction Challenge Dataset/Dataset/Tweets/test_tweets.csv')"
      ],
      "execution_count": null,
      "outputs": []
    },
    {
      "cell_type": "code",
      "metadata": {
        "id": "dXx3zTaxHvK5"
      },
      "source": [
        "test['tweet_topic_count'] = test.tweet_topic_ids.apply(len)\n",
        "train['tweet_topic_count'] = train.tweet_topic_ids.apply(len)"
      ],
      "execution_count": null,
      "outputs": []
    },
    {
      "cell_type": "code",
      "metadata": {
        "colab": {
          "base_uri": "https://localhost:8080/"
        },
        "id": "464aVsJ2eUHj",
        "outputId": "2f1f17d5-2c57-4513-c337-2182df5519bf"
      },
      "source": [
        "print(train.shape)\n",
        "print(test.shape)"
      ],
      "execution_count": null,
      "outputs": [
        {
          "output_type": "stream",
          "text": [
            "(29625, 14)\n",
            "(12697, 13)\n"
          ],
          "name": "stdout"
        }
      ]
    },
    {
      "cell_type": "code",
      "metadata": {
        "colab": {
          "base_uri": "https://localhost:8080/",
          "height": 350
        },
        "id": "AZFwns0CdG7q",
        "outputId": "c3b3e87f-9e36-4e83-9aec-ffd6172eac50"
      },
      "source": [
        "train.head()"
      ],
      "execution_count": null,
      "outputs": [
        {
          "output_type": "execute_result",
          "data": {
            "text/html": [
              "<div>\n",
              "<style scoped>\n",
              "    .dataframe tbody tr th:only-of-type {\n",
              "        vertical-align: middle;\n",
              "    }\n",
              "\n",
              "    .dataframe tbody tr th {\n",
              "        vertical-align: top;\n",
              "    }\n",
              "\n",
              "    .dataframe thead th {\n",
              "        text-align: right;\n",
              "    }\n",
              "</style>\n",
              "<table border=\"1\" class=\"dataframe\">\n",
              "  <thead>\n",
              "    <tr style=\"text-align: right;\">\n",
              "      <th></th>\n",
              "      <th>tweet_id</th>\n",
              "      <th>tweet_user_id</th>\n",
              "      <th>tweet_created_at_year</th>\n",
              "      <th>tweet_created_at_month</th>\n",
              "      <th>tweet_created_at_day</th>\n",
              "      <th>tweet_created_at_hour</th>\n",
              "      <th>tweet_hashtag_count</th>\n",
              "      <th>tweet_url_count</th>\n",
              "      <th>tweet_mention_count</th>\n",
              "      <th>tweet_has_attachment</th>\n",
              "      <th>tweet_attachment_class</th>\n",
              "      <th>tweet_language_id</th>\n",
              "      <th>tweet_topic_ids</th>\n",
              "      <th>virality</th>\n",
              "    </tr>\n",
              "  </thead>\n",
              "  <tbody>\n",
              "    <tr>\n",
              "      <th>0</th>\n",
              "      <td>34698</td>\n",
              "      <td>10</td>\n",
              "      <td>2015</td>\n",
              "      <td>12</td>\n",
              "      <td>5</td>\n",
              "      <td>3</td>\n",
              "      <td>2.0</td>\n",
              "      <td>1.0</td>\n",
              "      <td>0.0</td>\n",
              "      <td>False</td>\n",
              "      <td>C</td>\n",
              "      <td>0</td>\n",
              "      <td>['36', '36', '36', '36', '36', '36', '37', '37...</td>\n",
              "      <td>3</td>\n",
              "    </tr>\n",
              "    <tr>\n",
              "      <th>1</th>\n",
              "      <td>24644</td>\n",
              "      <td>4</td>\n",
              "      <td>2020</td>\n",
              "      <td>6</td>\n",
              "      <td>19</td>\n",
              "      <td>0</td>\n",
              "      <td>0.0</td>\n",
              "      <td>1.0</td>\n",
              "      <td>0.0</td>\n",
              "      <td>False</td>\n",
              "      <td>C</td>\n",
              "      <td>0</td>\n",
              "      <td>['43', '78', '79', '80', '80', '89', '98', '99...</td>\n",
              "      <td>3</td>\n",
              "    </tr>\n",
              "    <tr>\n",
              "      <th>2</th>\n",
              "      <td>36321</td>\n",
              "      <td>54</td>\n",
              "      <td>2019</td>\n",
              "      <td>6</td>\n",
              "      <td>2</td>\n",
              "      <td>15</td>\n",
              "      <td>2.0</td>\n",
              "      <td>3.0</td>\n",
              "      <td>0.0</td>\n",
              "      <td>True</td>\n",
              "      <td>A</td>\n",
              "      <td>0</td>\n",
              "      <td>['79', '80', '98', '98', '98', '99', '99', '10...</td>\n",
              "      <td>1</td>\n",
              "    </tr>\n",
              "    <tr>\n",
              "      <th>3</th>\n",
              "      <td>2629</td>\n",
              "      <td>42</td>\n",
              "      <td>2020</td>\n",
              "      <td>9</td>\n",
              "      <td>6</td>\n",
              "      <td>17</td>\n",
              "      <td>0.0</td>\n",
              "      <td>1.0</td>\n",
              "      <td>1.0</td>\n",
              "      <td>True</td>\n",
              "      <td>A</td>\n",
              "      <td>0</td>\n",
              "      <td>['43', '79', '80', '98', '99', '99', '79', '80']</td>\n",
              "      <td>2</td>\n",
              "    </tr>\n",
              "    <tr>\n",
              "      <th>4</th>\n",
              "      <td>28169</td>\n",
              "      <td>32</td>\n",
              "      <td>2020</td>\n",
              "      <td>11</td>\n",
              "      <td>4</td>\n",
              "      <td>17</td>\n",
              "      <td>2.0</td>\n",
              "      <td>1.0</td>\n",
              "      <td>0.0</td>\n",
              "      <td>True</td>\n",
              "      <td>A</td>\n",
              "      <td>0</td>\n",
              "      <td>['79', '80', '98', '99', '43', '89']</td>\n",
              "      <td>2</td>\n",
              "    </tr>\n",
              "  </tbody>\n",
              "</table>\n",
              "</div>"
            ],
            "text/plain": [
              "   tweet_id  ...  virality\n",
              "0     34698  ...         3\n",
              "1     24644  ...         3\n",
              "2     36321  ...         1\n",
              "3      2629  ...         2\n",
              "4     28169  ...         2\n",
              "\n",
              "[5 rows x 14 columns]"
            ]
          },
          "metadata": {
            "tags": []
          },
          "execution_count": 4
        }
      ]
    },
    {
      "cell_type": "markdown",
      "metadata": {
        "id": "K7RP3TUYw1fw"
      },
      "source": [
        "# Attachment Class"
      ]
    },
    {
      "cell_type": "code",
      "metadata": {
        "colab": {
          "base_uri": "https://localhost:8080/"
        },
        "id": "sFD1GX01fKUm",
        "outputId": "5d3c0ed7-171b-4e2e-c340-80785d1d9fed"
      },
      "source": [
        "train.tweet_has_attachment.value_counts()"
      ],
      "execution_count": null,
      "outputs": [
        {
          "output_type": "execute_result",
          "data": {
            "text/plain": [
              "True     17800\n",
              "False    11825\n",
              "Name: tweet_has_attachment, dtype: int64"
            ]
          },
          "metadata": {
            "tags": []
          },
          "execution_count": 5
        }
      ]
    },
    {
      "cell_type": "code",
      "metadata": {
        "colab": {
          "base_uri": "https://localhost:8080/"
        },
        "id": "YToZGLWtfOiC",
        "outputId": "feddca46-999e-46cf-f75f-3e6dd7eb7b02"
      },
      "source": [
        "test.tweet_has_attachment.value_counts()"
      ],
      "execution_count": null,
      "outputs": [
        {
          "output_type": "execute_result",
          "data": {
            "text/plain": [
              "True     7621\n",
              "False    5076\n",
              "Name: tweet_has_attachment, dtype: int64"
            ]
          },
          "metadata": {
            "tags": []
          },
          "execution_count": 6
        }
      ]
    },
    {
      "cell_type": "code",
      "metadata": {
        "colab": {
          "base_uri": "https://localhost:8080/"
        },
        "id": "zWooM7WkdITQ",
        "outputId": "9cd0c8d4-a68b-4224-f94a-47f02c58c9f9"
      },
      "source": [
        "train.tweet_attachment_class.value_counts()"
      ],
      "execution_count": null,
      "outputs": [
        {
          "output_type": "execute_result",
          "data": {
            "text/plain": [
              "A    17511\n",
              "C    11825\n",
              "B      289\n",
              "Name: tweet_attachment_class, dtype: int64"
            ]
          },
          "metadata": {
            "tags": []
          },
          "execution_count": 7
        }
      ]
    },
    {
      "cell_type": "code",
      "metadata": {
        "colab": {
          "base_uri": "https://localhost:8080/"
        },
        "id": "606OTHDedM4y",
        "outputId": "b89e8f31-b620-46e1-9f07-2ec311f73206"
      },
      "source": [
        "test.tweet_attachment_class.value_counts()"
      ],
      "execution_count": null,
      "outputs": [
        {
          "output_type": "execute_result",
          "data": {
            "text/plain": [
              "A    7505\n",
              "C    5076\n",
              "B     116\n",
              "Name: tweet_attachment_class, dtype: int64"
            ]
          },
          "metadata": {
            "tags": []
          },
          "execution_count": 8
        }
      ]
    },
    {
      "cell_type": "code",
      "metadata": {
        "id": "f0qkjS9pdQny"
      },
      "source": [
        "test_images = pd.read_csv('/content/drive/MyDrive/Viral Tweets Prediction Challenge Dataset/Dataset/Tweets/test_tweets_vectorized_media.csv')\n",
        "train_images = pd.read_csv('/content/drive/MyDrive/Viral Tweets Prediction Challenge Dataset/Dataset/Tweets/train_tweets_vectorized_media.csv')"
      ],
      "execution_count": null,
      "outputs": []
    },
    {
      "cell_type": "code",
      "metadata": {
        "id": "CiGMKQcSd2oj"
      },
      "source": [
        "test_images.head()"
      ],
      "execution_count": null,
      "outputs": []
    },
    {
      "cell_type": "code",
      "metadata": {
        "colab": {
          "base_uri": "https://localhost:8080/"
        },
        "id": "os-64Ea3eDp5",
        "outputId": "773959aa-8e62-4eee-b063-dc37df85d36c"
      },
      "source": [
        "test_images.shape"
      ],
      "execution_count": null,
      "outputs": [
        {
          "output_type": "execute_result",
          "data": {
            "text/plain": [
              "(8946, 2050)"
            ]
          },
          "metadata": {
            "tags": []
          },
          "execution_count": 8
        }
      ]
    },
    {
      "cell_type": "code",
      "metadata": {
        "colab": {
          "base_uri": "https://localhost:8080/"
        },
        "id": "0LHpG8SNeFSs",
        "outputId": "c480afa1-099f-42eb-8d27-6088e4ce48ee"
      },
      "source": [
        "len(test_images.tweet_id.unique())"
      ],
      "execution_count": null,
      "outputs": [
        {
          "output_type": "execute_result",
          "data": {
            "text/plain": [
              "7475"
            ]
          },
          "metadata": {
            "tags": []
          },
          "execution_count": 11
        }
      ]
    },
    {
      "cell_type": "code",
      "metadata": {
        "colab": {
          "base_uri": "https://localhost:8080/"
        },
        "id": "npSKXAtkhrPY",
        "outputId": "be9b80f9-2736-4819-e442-61f977b65feb"
      },
      "source": [
        "test_images.tweet_id.value_counts().value_counts()"
      ],
      "execution_count": null,
      "outputs": [
        {
          "output_type": "execute_result",
          "data": {
            "text/plain": [
              "1    6691\n",
              "2     341\n",
              "4     244\n",
              "3     199\n",
              "Name: tweet_id, dtype: int64"
            ]
          },
          "metadata": {
            "tags": []
          },
          "execution_count": 31
        }
      ]
    },
    {
      "cell_type": "code",
      "metadata": {
        "colab": {
          "base_uri": "https://localhost:8080/"
        },
        "id": "B1MqXORyh5ZE",
        "outputId": "2152161b-3c70-4980-916d-838ff4d90166"
      },
      "source": [
        "train_images.tweet_id.value_counts().value_counts()"
      ],
      "execution_count": null,
      "outputs": [
        {
          "output_type": "execute_result",
          "data": {
            "text/plain": [
              "1    15510\n",
              "2      834\n",
              "4      556\n",
              "3      536\n",
              "Name: tweet_id, dtype: int64"
            ]
          },
          "metadata": {
            "tags": []
          },
          "execution_count": 30
        }
      ]
    },
    {
      "cell_type": "code",
      "metadata": {
        "colab": {
          "base_uri": "https://localhost:8080/"
        },
        "id": "WLAJArHIekWy",
        "outputId": "86bfaed1-d822-481d-c513-5b80fddb237f"
      },
      "source": [
        "train_images.shape"
      ],
      "execution_count": null,
      "outputs": [
        {
          "output_type": "execute_result",
          "data": {
            "text/plain": [
              "(21010, 2050)"
            ]
          },
          "metadata": {
            "tags": []
          },
          "execution_count": 12
        }
      ]
    },
    {
      "cell_type": "code",
      "metadata": {
        "colab": {
          "base_uri": "https://localhost:8080/"
        },
        "id": "ROOT5TkDe0bJ",
        "outputId": "15eb449d-1eb2-4f92-e677-e638eda9c0f0"
      },
      "source": [
        "len(train_images.tweet_id.unique())"
      ],
      "execution_count": null,
      "outputs": [
        {
          "output_type": "execute_result",
          "data": {
            "text/plain": [
              "17436"
            ]
          },
          "metadata": {
            "tags": []
          },
          "execution_count": 13
        }
      ]
    },
    {
      "cell_type": "code",
      "metadata": {
        "id": "xGgS_9m0e8kV"
      },
      "source": [
        "y = train.pop('virality')\n"
      ],
      "execution_count": null,
      "outputs": []
    },
    {
      "cell_type": "code",
      "metadata": {
        "id": "78XmvGcYknzk"
      },
      "source": [
        "train.tweet_attachment_class.map({'A':1})"
      ],
      "execution_count": null,
      "outputs": []
    },
    {
      "cell_type": "markdown",
      "metadata": {
        "id": "lk16Enu31gSI"
      },
      "source": [
        "#Topic ID"
      ]
    },
    {
      "cell_type": "code",
      "metadata": {
        "colab": {
          "base_uri": "https://localhost:8080/"
        },
        "id": "zWcjykKBl6p9",
        "outputId": "d92c1b4f-3672-40b2-fce0-5e665c4491e5"
      },
      "source": [
        "train.tweet_topic_ids.value_counts()"
      ],
      "execution_count": null,
      "outputs": [
        {
          "output_type": "execute_result",
          "data": {
            "text/plain": [
              "['78', '79', '80']                                                                              4062\n",
              "['78', '79', '80', '98', '99', '100', '78', '79', '80']                                         1539\n",
              "['78', '79', '80', '98']                                                                        1136\n",
              "['79', '80']                                                                                     735\n",
              "['78', '79', '80', '98', '99', '100']                                                            650\n",
              "                                                                                                ... \n",
              "['39', '43', '59', '59', '59', '93']                                                               1\n",
              "['43', '93', '78', '78', '79', '79', '80', '80']                                                   1\n",
              "['43', '79', '80', '98', '99', '163', '98', '98', '99', '99', '100', '100']                        1\n",
              "['79', '80', '100', '98', '99', '99', '112']                                                       1\n",
              "['78', '79', '80', '98', '98', '99', '100', '78', '79', '79', '80', '80', '98', '99', '100']       1\n",
              "Name: tweet_topic_ids, Length: 4307, dtype: int64"
            ]
          },
          "metadata": {
            "tags": []
          },
          "execution_count": 4
        }
      ]
    },
    {
      "cell_type": "code",
      "metadata": {
        "colab": {
          "base_uri": "https://localhost:8080/"
        },
        "id": "AJqjlOJ5mDC9",
        "outputId": "2caa95e3-38cc-4ae8-d68a-d75d40789253"
      },
      "source": [
        "test.tweet_topic_ids.head(5)"
      ],
      "execution_count": null,
      "outputs": [
        {
          "output_type": "execute_result",
          "data": {
            "text/plain": [
              "0    [98, 99, 99, 99, 99, 78, 79, 80]\n",
              "1                    [78, 79, 80, 98]\n",
              "2                        [78, 79, 80]\n",
              "3                        [78, 79, 80]\n",
              "4            [78, 79, 79, 80, 98, 99]\n",
              "Name: tweet_topic_ids, dtype: object"
            ]
          },
          "metadata": {
            "tags": []
          },
          "execution_count": 108
        }
      ]
    },
    {
      "cell_type": "code",
      "metadata": {
        "id": "tfUBCD-5xnD5"
      },
      "source": [
        "test.tweet_topic_ids = test.fillna('[]').tweet_topic_ids.apply(eval)\n",
        "train.tweet_topic_ids = train.fillna('[]').tweet_topic_ids.apply(eval)"
      ],
      "execution_count": null,
      "outputs": []
    },
    {
      "cell_type": "code",
      "metadata": {
        "colab": {
          "base_uri": "https://localhost:8080/"
        },
        "id": "ab8VfnmgBQus",
        "outputId": "18264573-3377-47f8-c0e4-a933b2ad3669"
      },
      "source": [
        "type(train.tweet_topic_ids[0])"
      ],
      "execution_count": null,
      "outputs": [
        {
          "output_type": "execute_result",
          "data": {
            "text/plain": [
              "list"
            ]
          },
          "metadata": {
            "tags": []
          },
          "execution_count": 84
        }
      ]
    },
    {
      "cell_type": "code",
      "metadata": {
        "id": "xMw1FqztBQrT"
      },
      "source": [
        "def to_1D(series):\n",
        " return pd.Series([x for _list in series for x in _list])"
      ],
      "execution_count": null,
      "outputs": []
    },
    {
      "cell_type": "code",
      "metadata": {
        "colab": {
          "base_uri": "https://localhost:8080/"
        },
        "id": "ueZsvHcOBvu8",
        "outputId": "014f2857-1dd1-408f-f8c2-54c6be631b53"
      },
      "source": [
        "to_1D(train.tweet_topic_ids).unique()"
      ],
      "execution_count": null,
      "outputs": [
        {
          "output_type": "execute_result",
          "data": {
            "text/plain": [
              "array(['36', '37', '43', '78', '79', '80', '89', '98', '99', '100', '39',\n",
              "       '44', '59', '156', '81', '93', '125', '163', '118', '87', '88',\n",
              "       '152', '120', '45', '73', '82', '148', '121', '151', '63', '104',\n",
              "       '111', '119', '91', '149', '147', '72', '60', '61', '170', '68',\n",
              "       '58', '171', '155', '153', '112', '150', '169', '172', '52', '127',\n",
              "       '122', '126', '101', '71', '165'], dtype=object)"
            ]
          },
          "metadata": {
            "tags": []
          },
          "execution_count": 98
        }
      ]
    },
    {
      "cell_type": "code",
      "metadata": {
        "colab": {
          "base_uri": "https://localhost:8080/"
        },
        "id": "sLxD6__RBvm5",
        "outputId": "9a058428-f53c-41cf-dc19-fa86851174d0"
      },
      "source": [
        "to_1D(test.tweet_topic_ids).unique()"
      ],
      "execution_count": null,
      "outputs": [
        {
          "output_type": "execute_result",
          "data": {
            "text/plain": [
              "array(['98', '99', '78', '79', '80', '100', '156', '43', '81', '87', '88',\n",
              "       '36', '37', '44', '104', '171', '152', '61', '59', '93', '119',\n",
              "       '120', '68', '45', '89', '63', '153', '169', '91', '39', '73',\n",
              "       '163', '111', '60', '58', '112', '151', '147', '172', '118', '150',\n",
              "       '170', '121', '127', '148', '72', '126', '122', '101', '149',\n",
              "       '125', '82', '71', '38', '52', '155', '123', '117'], dtype=object)"
            ]
          },
          "metadata": {
            "tags": []
          },
          "execution_count": 102
        }
      ]
    },
    {
      "cell_type": "code",
      "metadata": {
        "id": "dprQ2lFLC_KA"
      },
      "source": [
        "topics = set(to_1D(test.tweet_topic_ids).unique().tolist()+to_1D(train.tweet_topic_ids).unique().tolist())"
      ],
      "execution_count": null,
      "outputs": []
    },
    {
      "cell_type": "code",
      "metadata": {
        "id": "9CBHHe3ZE76C"
      },
      "source": [
        "test['tweet_topic_count'] = test.tweet_topic_ids.apply(len)\n",
        "train['tweet_topic_count'] = train.tweet_topic_ids.apply(len)"
      ],
      "execution_count": null,
      "outputs": []
    },
    {
      "cell_type": "code",
      "metadata": {
        "id": "L0gXM1knE7wr"
      },
      "source": [
        "def boolean_df(item_lists, unique_items):\n",
        "# Create empty dict\n",
        "    bool_dict = {}\n",
        "    \n",
        "    # Loop through all the tags\n",
        "    for i, item in enumerate(unique_items):\n",
        "        \n",
        "        # Apply boolean mask\n",
        "        bool_dict[item] = item_lists.apply(lambda x: item in x)\n",
        "            \n",
        "    # Return the results as a dataframe\n",
        "    return pd.DataFrame(bool_dict)"
      ],
      "execution_count": null,
      "outputs": []
    },
    {
      "cell_type": "code",
      "metadata": {
        "id": "EMzeVkz_OoXw"
      },
      "source": [
        "train_topics_bool = boolean_df(train['tweet_topic_ids'], topics)\n",
        "test_topics_bool = boolean_df(test['tweet_topic_ids'], topics)"
      ],
      "execution_count": null,
      "outputs": []
    },
    {
      "cell_type": "code",
      "metadata": {
        "id": "kOLXOcLWQw6f"
      },
      "source": [
        "test = pd.concat([test, test_topics_bool],axis=1)\n",
        "train = pd.concat([train, train_topics_bool], axis=1)"
      ],
      "execution_count": null,
      "outputs": []
    },
    {
      "cell_type": "code",
      "metadata": {
        "id": "DQ1NnjlGS-Xq"
      },
      "source": [
        "test.tweet_attachment_class = test.tweet_attachment_class.map({'A':1,'B':2,'C':3})\n",
        "train.tweet_attachment_class = train.tweet_attachment_class.map({'A':1,'B':2,'C':3})"
      ],
      "execution_count": null,
      "outputs": []
    },
    {
      "cell_type": "code",
      "metadata": {
        "id": "qnMk4spSTe1o"
      },
      "source": [
        "train.pop('tweet_topic_ids')\n",
        "test.pop('tweet_topic_ids')"
      ],
      "execution_count": null,
      "outputs": []
    },
    {
      "cell_type": "code",
      "metadata": {
        "colab": {
          "base_uri": "https://localhost:8080/"
        },
        "id": "G2a7l50ISCTv",
        "outputId": "b20d59ac-e0f5-4984-b5cb-c2c104a5ebe8"
      },
      "source": [
        "X_train, X_test, y_train, y_test = train_test_split(train, y, test_size=0.3)\n",
        "print(X_train.shape)\n",
        "print(X_test.shape)\n",
        "print(y_train.shape)\n",
        "print(y_test.shape)"
      ],
      "execution_count": null,
      "outputs": [
        {
          "output_type": "stream",
          "text": [
            "(20737, 83)\n",
            "(8888, 83)\n",
            "(20737,)\n",
            "(8888,)\n"
          ],
          "name": "stdout"
        }
      ]
    },
    {
      "cell_type": "code",
      "metadata": {
        "colab": {
          "base_uri": "https://localhost:8080/"
        },
        "id": "pVTwI3Y8Rw9J",
        "outputId": "fb02ed96-797a-43ea-d973-f92ce109ff62"
      },
      "source": [
        "train.shape"
      ],
      "execution_count": null,
      "outputs": [
        {
          "output_type": "execute_result",
          "data": {
            "text/plain": [
              "(29625, 83)"
            ]
          },
          "metadata": {
            "tags": []
          },
          "execution_count": 177
        }
      ]
    },
    {
      "cell_type": "code",
      "metadata": {
        "colab": {
          "base_uri": "https://localhost:8080/"
        },
        "id": "LmG9ae3aPco-",
        "outputId": "f14955c4-fec3-42e4-a451-cbde3063e47d"
      },
      "source": [
        "test.shape"
      ],
      "execution_count": null,
      "outputs": [
        {
          "output_type": "execute_result",
          "data": {
            "text/plain": [
              "(12697, 83)"
            ]
          },
          "metadata": {
            "tags": []
          },
          "execution_count": 178
        }
      ]
    },
    {
      "cell_type": "code",
      "metadata": {
        "id": "GtymUhjXTdr3"
      },
      "source": [
        ""
      ],
      "execution_count": null,
      "outputs": []
    },
    {
      "cell_type": "code",
      "metadata": {
        "colab": {
          "base_uri": "https://localhost:8080/"
        },
        "id": "lt23NEs-E68z",
        "outputId": "4963a618-026e-4ca2-99f4-3cec2f62fe48"
      },
      "source": [
        "clf.fit(X_train,y_train)"
      ],
      "execution_count": null,
      "outputs": [
        {
          "output_type": "execute_result",
          "data": {
            "text/plain": [
              "RandomForestClassifier(bootstrap=True, ccp_alpha=0.0, class_weight=None,\n",
              "                       criterion='gini', max_depth=25, max_features='auto',\n",
              "                       max_leaf_nodes=None, max_samples=None,\n",
              "                       min_impurity_decrease=0.0, min_impurity_split=None,\n",
              "                       min_samples_leaf=1, min_samples_split=10,\n",
              "                       min_weight_fraction_leaf=0.0, n_estimators=1200,\n",
              "                       n_jobs=None, oob_score=False, random_state=None,\n",
              "                       verbose=0, warm_start=False)"
            ]
          },
          "metadata": {
            "tags": []
          },
          "execution_count": 179
        }
      ]
    },
    {
      "cell_type": "code",
      "metadata": {
        "colab": {
          "base_uri": "https://localhost:8080/"
        },
        "id": "bY_lwk7bE65i",
        "outputId": "fecf80f1-a6e3-4bd6-f01e-2f2a59432f81"
      },
      "source": [
        "print(clf.score(X_train,y_train))\n",
        "print(clf.score(X_test,y_test))"
      ],
      "execution_count": null,
      "outputs": [
        {
          "output_type": "stream",
          "text": [
            "0.8381154458214786\n",
            "0.6828307830783078\n"
          ],
          "name": "stdout"
        }
      ]
    },
    {
      "cell_type": "code",
      "metadata": {
        "id": "SEPewJT7E62p"
      },
      "source": [
        ""
      ],
      "execution_count": null,
      "outputs": []
    },
    {
      "cell_type": "markdown",
      "metadata": {
        "id": "9KWgDBjBA2VT"
      },
      "source": [
        "# "
      ]
    },
    {
      "cell_type": "code",
      "metadata": {
        "colab": {
          "base_uri": "https://localhost:8080/"
        },
        "id": "aHci3lmigt6d",
        "outputId": "3800610b-65de-4514-8ac5-c26b3cd7e480"
      },
      "source": [
        "clf = RandomForestClassifier(n_estimators=1200,max_depth=25, min_samples_leaf=1, min_samples_split=10)\n",
        "clf.fit(train,y)\n",
        "print(clf.score(X_train,y_train))\n",
        "print(clf.score(X_test,y_test))"
      ],
      "execution_count": null,
      "outputs": [
        {
          "output_type": "stream",
          "text": [
            "0.8386941216183633\n",
            "0.8421467146714672\n"
          ],
          "name": "stdout"
        }
      ]
    },
    {
      "cell_type": "code",
      "metadata": {
        "id": "hpCkxSzkhF0M"
      },
      "source": [
        "sol9 = test.tweet_id.to_frame()\n",
        "sol9['virality'] = clf.predict(test)\n",
        "sol9.astype(int).to_csv('sol11.csv',index=False)"
      ],
      "execution_count": null,
      "outputs": []
    },
    {
      "cell_type": "code",
      "metadata": {
        "id": "5xtUiRuzUaxG"
      },
      "source": [
        "users = pd.read_csv('/content/drive/MyDrive/Viral Tweets Prediction Challenge Dataset/Dataset/Users/users.csv')"
      ],
      "execution_count": null,
      "outputs": []
    },
    {
      "cell_type": "code",
      "metadata": {
        "id": "BVG-YT5EWK9y"
      },
      "source": [
        "train = pd.concat([train,pd.DataFrame(columns=users.columns)])\n",
        "test = pd.concat([test,pd.DataFrame(columns=users.columns)])\n",
        "for i in range(train.shape[0]):\n",
        "  train.loc[i,'user_id':'user_created_at_month'] = users[users.user_id==train.tweet_user_id[i]].iloc[0]\n",
        "for i in range(test.shape[0]):\n",
        "  test.loc[i,'user_id':'user_created_at_month'] = users[users.user_id==test.tweet_user_id[i]].iloc[0]"
      ],
      "execution_count": null,
      "outputs": []
    },
    {
      "cell_type": "code",
      "metadata": {
        "colab": {
          "base_uri": "https://localhost:8080/",
          "height": 244
        },
        "id": "PoEmIxjeWgoN",
        "outputId": "e99a69fd-4ac4-4d21-c092-0dff9fa892ae"
      },
      "source": [
        "train.head()"
      ],
      "execution_count": null,
      "outputs": [
        {
          "output_type": "execute_result",
          "data": {
            "text/html": [
              "<div>\n",
              "<style scoped>\n",
              "    .dataframe tbody tr th:only-of-type {\n",
              "        vertical-align: middle;\n",
              "    }\n",
              "\n",
              "    .dataframe tbody tr th {\n",
              "        vertical-align: top;\n",
              "    }\n",
              "\n",
              "    .dataframe thead th {\n",
              "        text-align: right;\n",
              "    }\n",
              "</style>\n",
              "<table border=\"1\" class=\"dataframe\">\n",
              "  <thead>\n",
              "    <tr style=\"text-align: right;\">\n",
              "      <th></th>\n",
              "      <th>tweet_id</th>\n",
              "      <th>tweet_user_id</th>\n",
              "      <th>tweet_created_at_year</th>\n",
              "      <th>tweet_created_at_month</th>\n",
              "      <th>tweet_created_at_day</th>\n",
              "      <th>tweet_created_at_hour</th>\n",
              "      <th>tweet_hashtag_count</th>\n",
              "      <th>tweet_url_count</th>\n",
              "      <th>tweet_mention_count</th>\n",
              "      <th>tweet_has_attachment</th>\n",
              "      <th>tweet_attachment_class</th>\n",
              "      <th>tweet_language_id</th>\n",
              "      <th>tweet_topics</th>\n",
              "      <th>80</th>\n",
              "      <th>89</th>\n",
              "      <th>60</th>\n",
              "      <th>156</th>\n",
              "      <th>59</th>\n",
              "      <th>100</th>\n",
              "      <th>148</th>\n",
              "      <th>44</th>\n",
              "      <th>171</th>\n",
              "      <th>111</th>\n",
              "      <th>39</th>\n",
              "      <th>58</th>\n",
              "      <th>52</th>\n",
              "      <th>147</th>\n",
              "      <th>125</th>\n",
              "      <th>122</th>\n",
              "      <th>123</th>\n",
              "      <th>63</th>\n",
              "      <th>165</th>\n",
              "      <th>152</th>\n",
              "      <th>72</th>\n",
              "      <th>82</th>\n",
              "      <th>71</th>\n",
              "      <th>150</th>\n",
              "      <th>117</th>\n",
              "      <th>36</th>\n",
              "      <th>87</th>\n",
              "      <th>...</th>\n",
              "      <th>153</th>\n",
              "      <th>93</th>\n",
              "      <th>121</th>\n",
              "      <th>169</th>\n",
              "      <th>91</th>\n",
              "      <th>151</th>\n",
              "      <th>172</th>\n",
              "      <th>127</th>\n",
              "      <th>149</th>\n",
              "      <th>98</th>\n",
              "      <th>68</th>\n",
              "      <th>61</th>\n",
              "      <th>170</th>\n",
              "      <th>81</th>\n",
              "      <th>38</th>\n",
              "      <th>155</th>\n",
              "      <th>73</th>\n",
              "      <th>45</th>\n",
              "      <th>104</th>\n",
              "      <th>43</th>\n",
              "      <th>37</th>\n",
              "      <th>163</th>\n",
              "      <th>118</th>\n",
              "      <th>79</th>\n",
              "      <th>119</th>\n",
              "      <th>120</th>\n",
              "      <th>88</th>\n",
              "      <th>78</th>\n",
              "      <th>112</th>\n",
              "      <th>user_id</th>\n",
              "      <th>user_like_count</th>\n",
              "      <th>user_followers_count</th>\n",
              "      <th>user_following_count</th>\n",
              "      <th>user_listed_on_count</th>\n",
              "      <th>user_has_location</th>\n",
              "      <th>user_tweet_count</th>\n",
              "      <th>user_has_url</th>\n",
              "      <th>user_verified</th>\n",
              "      <th>user_created_at_year</th>\n",
              "      <th>user_created_at_month</th>\n",
              "    </tr>\n",
              "  </thead>\n",
              "  <tbody>\n",
              "    <tr>\n",
              "      <th>0</th>\n",
              "      <td>34698.0</td>\n",
              "      <td>10.0</td>\n",
              "      <td>2015.0</td>\n",
              "      <td>12.0</td>\n",
              "      <td>5.0</td>\n",
              "      <td>3.0</td>\n",
              "      <td>2.0</td>\n",
              "      <td>1.0</td>\n",
              "      <td>0.0</td>\n",
              "      <td>False</td>\n",
              "      <td>3.0</td>\n",
              "      <td>0.0</td>\n",
              "      <td>12.0</td>\n",
              "      <td>False</td>\n",
              "      <td>False</td>\n",
              "      <td>False</td>\n",
              "      <td>False</td>\n",
              "      <td>False</td>\n",
              "      <td>False</td>\n",
              "      <td>False</td>\n",
              "      <td>False</td>\n",
              "      <td>False</td>\n",
              "      <td>False</td>\n",
              "      <td>False</td>\n",
              "      <td>False</td>\n",
              "      <td>False</td>\n",
              "      <td>False</td>\n",
              "      <td>False</td>\n",
              "      <td>False</td>\n",
              "      <td>False</td>\n",
              "      <td>False</td>\n",
              "      <td>False</td>\n",
              "      <td>False</td>\n",
              "      <td>False</td>\n",
              "      <td>False</td>\n",
              "      <td>False</td>\n",
              "      <td>False</td>\n",
              "      <td>False</td>\n",
              "      <td>True</td>\n",
              "      <td>False</td>\n",
              "      <td>...</td>\n",
              "      <td>False</td>\n",
              "      <td>False</td>\n",
              "      <td>False</td>\n",
              "      <td>False</td>\n",
              "      <td>False</td>\n",
              "      <td>False</td>\n",
              "      <td>False</td>\n",
              "      <td>False</td>\n",
              "      <td>False</td>\n",
              "      <td>False</td>\n",
              "      <td>False</td>\n",
              "      <td>False</td>\n",
              "      <td>False</td>\n",
              "      <td>False</td>\n",
              "      <td>False</td>\n",
              "      <td>False</td>\n",
              "      <td>False</td>\n",
              "      <td>False</td>\n",
              "      <td>False</td>\n",
              "      <td>False</td>\n",
              "      <td>True</td>\n",
              "      <td>False</td>\n",
              "      <td>False</td>\n",
              "      <td>False</td>\n",
              "      <td>False</td>\n",
              "      <td>False</td>\n",
              "      <td>False</td>\n",
              "      <td>False</td>\n",
              "      <td>False</td>\n",
              "      <td>10</td>\n",
              "      <td>9365</td>\n",
              "      <td>398591</td>\n",
              "      <td>136081</td>\n",
              "      <td>18462</td>\n",
              "      <td>True</td>\n",
              "      <td>169980</td>\n",
              "      <td>True</td>\n",
              "      <td>0</td>\n",
              "      <td>2011</td>\n",
              "      <td>10</td>\n",
              "    </tr>\n",
              "    <tr>\n",
              "      <th>1</th>\n",
              "      <td>24644.0</td>\n",
              "      <td>4.0</td>\n",
              "      <td>2020.0</td>\n",
              "      <td>6.0</td>\n",
              "      <td>19.0</td>\n",
              "      <td>0.0</td>\n",
              "      <td>0.0</td>\n",
              "      <td>1.0</td>\n",
              "      <td>0.0</td>\n",
              "      <td>False</td>\n",
              "      <td>3.0</td>\n",
              "      <td>0.0</td>\n",
              "      <td>9.0</td>\n",
              "      <td>True</td>\n",
              "      <td>True</td>\n",
              "      <td>False</td>\n",
              "      <td>False</td>\n",
              "      <td>False</td>\n",
              "      <td>True</td>\n",
              "      <td>False</td>\n",
              "      <td>False</td>\n",
              "      <td>False</td>\n",
              "      <td>False</td>\n",
              "      <td>False</td>\n",
              "      <td>False</td>\n",
              "      <td>False</td>\n",
              "      <td>False</td>\n",
              "      <td>False</td>\n",
              "      <td>False</td>\n",
              "      <td>False</td>\n",
              "      <td>False</td>\n",
              "      <td>False</td>\n",
              "      <td>False</td>\n",
              "      <td>False</td>\n",
              "      <td>False</td>\n",
              "      <td>False</td>\n",
              "      <td>False</td>\n",
              "      <td>False</td>\n",
              "      <td>False</td>\n",
              "      <td>False</td>\n",
              "      <td>...</td>\n",
              "      <td>False</td>\n",
              "      <td>False</td>\n",
              "      <td>False</td>\n",
              "      <td>False</td>\n",
              "      <td>False</td>\n",
              "      <td>False</td>\n",
              "      <td>False</td>\n",
              "      <td>False</td>\n",
              "      <td>False</td>\n",
              "      <td>True</td>\n",
              "      <td>False</td>\n",
              "      <td>False</td>\n",
              "      <td>False</td>\n",
              "      <td>False</td>\n",
              "      <td>False</td>\n",
              "      <td>False</td>\n",
              "      <td>False</td>\n",
              "      <td>False</td>\n",
              "      <td>False</td>\n",
              "      <td>True</td>\n",
              "      <td>False</td>\n",
              "      <td>False</td>\n",
              "      <td>False</td>\n",
              "      <td>True</td>\n",
              "      <td>False</td>\n",
              "      <td>False</td>\n",
              "      <td>False</td>\n",
              "      <td>True</td>\n",
              "      <td>False</td>\n",
              "      <td>4</td>\n",
              "      <td>15311</td>\n",
              "      <td>459083</td>\n",
              "      <td>1021</td>\n",
              "      <td>7368</td>\n",
              "      <td>False</td>\n",
              "      <td>121193</td>\n",
              "      <td>False</td>\n",
              "      <td>0</td>\n",
              "      <td>2011</td>\n",
              "      <td>6</td>\n",
              "    </tr>\n",
              "    <tr>\n",
              "      <th>2</th>\n",
              "      <td>36321.0</td>\n",
              "      <td>54.0</td>\n",
              "      <td>2019.0</td>\n",
              "      <td>6.0</td>\n",
              "      <td>2.0</td>\n",
              "      <td>15.0</td>\n",
              "      <td>2.0</td>\n",
              "      <td>3.0</td>\n",
              "      <td>0.0</td>\n",
              "      <td>True</td>\n",
              "      <td>1.0</td>\n",
              "      <td>0.0</td>\n",
              "      <td>11.0</td>\n",
              "      <td>True</td>\n",
              "      <td>False</td>\n",
              "      <td>False</td>\n",
              "      <td>False</td>\n",
              "      <td>False</td>\n",
              "      <td>True</td>\n",
              "      <td>False</td>\n",
              "      <td>False</td>\n",
              "      <td>False</td>\n",
              "      <td>False</td>\n",
              "      <td>False</td>\n",
              "      <td>False</td>\n",
              "      <td>False</td>\n",
              "      <td>False</td>\n",
              "      <td>False</td>\n",
              "      <td>False</td>\n",
              "      <td>False</td>\n",
              "      <td>False</td>\n",
              "      <td>False</td>\n",
              "      <td>False</td>\n",
              "      <td>False</td>\n",
              "      <td>False</td>\n",
              "      <td>False</td>\n",
              "      <td>False</td>\n",
              "      <td>False</td>\n",
              "      <td>False</td>\n",
              "      <td>False</td>\n",
              "      <td>...</td>\n",
              "      <td>False</td>\n",
              "      <td>False</td>\n",
              "      <td>False</td>\n",
              "      <td>False</td>\n",
              "      <td>False</td>\n",
              "      <td>False</td>\n",
              "      <td>False</td>\n",
              "      <td>False</td>\n",
              "      <td>False</td>\n",
              "      <td>True</td>\n",
              "      <td>False</td>\n",
              "      <td>False</td>\n",
              "      <td>False</td>\n",
              "      <td>False</td>\n",
              "      <td>False</td>\n",
              "      <td>False</td>\n",
              "      <td>False</td>\n",
              "      <td>False</td>\n",
              "      <td>False</td>\n",
              "      <td>False</td>\n",
              "      <td>False</td>\n",
              "      <td>False</td>\n",
              "      <td>False</td>\n",
              "      <td>True</td>\n",
              "      <td>False</td>\n",
              "      <td>False</td>\n",
              "      <td>False</td>\n",
              "      <td>False</td>\n",
              "      <td>False</td>\n",
              "      <td>54</td>\n",
              "      <td>336</td>\n",
              "      <td>447110</td>\n",
              "      <td>584</td>\n",
              "      <td>10519</td>\n",
              "      <td>True</td>\n",
              "      <td>3786</td>\n",
              "      <td>True</td>\n",
              "      <td>0</td>\n",
              "      <td>2011</td>\n",
              "      <td>12</td>\n",
              "    </tr>\n",
              "    <tr>\n",
              "      <th>3</th>\n",
              "      <td>2629.0</td>\n",
              "      <td>42.0</td>\n",
              "      <td>2020.0</td>\n",
              "      <td>9.0</td>\n",
              "      <td>6.0</td>\n",
              "      <td>17.0</td>\n",
              "      <td>0.0</td>\n",
              "      <td>1.0</td>\n",
              "      <td>1.0</td>\n",
              "      <td>True</td>\n",
              "      <td>1.0</td>\n",
              "      <td>0.0</td>\n",
              "      <td>8.0</td>\n",
              "      <td>True</td>\n",
              "      <td>False</td>\n",
              "      <td>False</td>\n",
              "      <td>False</td>\n",
              "      <td>False</td>\n",
              "      <td>False</td>\n",
              "      <td>False</td>\n",
              "      <td>False</td>\n",
              "      <td>False</td>\n",
              "      <td>False</td>\n",
              "      <td>False</td>\n",
              "      <td>False</td>\n",
              "      <td>False</td>\n",
              "      <td>False</td>\n",
              "      <td>False</td>\n",
              "      <td>False</td>\n",
              "      <td>False</td>\n",
              "      <td>False</td>\n",
              "      <td>False</td>\n",
              "      <td>False</td>\n",
              "      <td>False</td>\n",
              "      <td>False</td>\n",
              "      <td>False</td>\n",
              "      <td>False</td>\n",
              "      <td>False</td>\n",
              "      <td>False</td>\n",
              "      <td>False</td>\n",
              "      <td>...</td>\n",
              "      <td>False</td>\n",
              "      <td>False</td>\n",
              "      <td>False</td>\n",
              "      <td>False</td>\n",
              "      <td>False</td>\n",
              "      <td>False</td>\n",
              "      <td>False</td>\n",
              "      <td>False</td>\n",
              "      <td>False</td>\n",
              "      <td>True</td>\n",
              "      <td>False</td>\n",
              "      <td>False</td>\n",
              "      <td>False</td>\n",
              "      <td>False</td>\n",
              "      <td>False</td>\n",
              "      <td>False</td>\n",
              "      <td>False</td>\n",
              "      <td>False</td>\n",
              "      <td>False</td>\n",
              "      <td>True</td>\n",
              "      <td>False</td>\n",
              "      <td>False</td>\n",
              "      <td>False</td>\n",
              "      <td>True</td>\n",
              "      <td>False</td>\n",
              "      <td>False</td>\n",
              "      <td>False</td>\n",
              "      <td>False</td>\n",
              "      <td>False</td>\n",
              "      <td>42</td>\n",
              "      <td>1124</td>\n",
              "      <td>276541</td>\n",
              "      <td>758</td>\n",
              "      <td>6163</td>\n",
              "      <td>True</td>\n",
              "      <td>3264</td>\n",
              "      <td>True</td>\n",
              "      <td>0</td>\n",
              "      <td>2011</td>\n",
              "      <td>9</td>\n",
              "    </tr>\n",
              "    <tr>\n",
              "      <th>4</th>\n",
              "      <td>28169.0</td>\n",
              "      <td>32.0</td>\n",
              "      <td>2020.0</td>\n",
              "      <td>11.0</td>\n",
              "      <td>4.0</td>\n",
              "      <td>17.0</td>\n",
              "      <td>2.0</td>\n",
              "      <td>1.0</td>\n",
              "      <td>0.0</td>\n",
              "      <td>True</td>\n",
              "      <td>1.0</td>\n",
              "      <td>0.0</td>\n",
              "      <td>6.0</td>\n",
              "      <td>True</td>\n",
              "      <td>True</td>\n",
              "      <td>False</td>\n",
              "      <td>False</td>\n",
              "      <td>False</td>\n",
              "      <td>False</td>\n",
              "      <td>False</td>\n",
              "      <td>False</td>\n",
              "      <td>False</td>\n",
              "      <td>False</td>\n",
              "      <td>False</td>\n",
              "      <td>False</td>\n",
              "      <td>False</td>\n",
              "      <td>False</td>\n",
              "      <td>False</td>\n",
              "      <td>False</td>\n",
              "      <td>False</td>\n",
              "      <td>False</td>\n",
              "      <td>False</td>\n",
              "      <td>False</td>\n",
              "      <td>False</td>\n",
              "      <td>False</td>\n",
              "      <td>False</td>\n",
              "      <td>False</td>\n",
              "      <td>False</td>\n",
              "      <td>False</td>\n",
              "      <td>False</td>\n",
              "      <td>...</td>\n",
              "      <td>False</td>\n",
              "      <td>False</td>\n",
              "      <td>False</td>\n",
              "      <td>False</td>\n",
              "      <td>False</td>\n",
              "      <td>False</td>\n",
              "      <td>False</td>\n",
              "      <td>False</td>\n",
              "      <td>False</td>\n",
              "      <td>True</td>\n",
              "      <td>False</td>\n",
              "      <td>False</td>\n",
              "      <td>False</td>\n",
              "      <td>False</td>\n",
              "      <td>False</td>\n",
              "      <td>False</td>\n",
              "      <td>False</td>\n",
              "      <td>False</td>\n",
              "      <td>False</td>\n",
              "      <td>True</td>\n",
              "      <td>False</td>\n",
              "      <td>False</td>\n",
              "      <td>False</td>\n",
              "      <td>True</td>\n",
              "      <td>False</td>\n",
              "      <td>False</td>\n",
              "      <td>False</td>\n",
              "      <td>False</td>\n",
              "      <td>False</td>\n",
              "      <td>32</td>\n",
              "      <td>0</td>\n",
              "      <td>1587783</td>\n",
              "      <td>2</td>\n",
              "      <td>16414</td>\n",
              "      <td>False</td>\n",
              "      <td>2022</td>\n",
              "      <td>True</td>\n",
              "      <td>0</td>\n",
              "      <td>2013</td>\n",
              "      <td>7</td>\n",
              "    </tr>\n",
              "  </tbody>\n",
              "</table>\n",
              "<p>5 rows × 83 columns</p>\n",
              "</div>"
            ],
            "text/plain": [
              "   tweet_id  tweet_user_id  ...  user_created_at_year  user_created_at_month\n",
              "0   34698.0           10.0  ...                  2011                     10\n",
              "1   24644.0            4.0  ...                  2011                      6\n",
              "2   36321.0           54.0  ...                  2011                     12\n",
              "3    2629.0           42.0  ...                  2011                      9\n",
              "4   28169.0           32.0  ...                  2013                      7\n",
              "\n",
              "[5 rows x 83 columns]"
            ]
          },
          "metadata": {
            "tags": []
          },
          "execution_count": 175
        }
      ]
    },
    {
      "cell_type": "code",
      "metadata": {
        "colab": {
          "base_uri": "https://localhost:8080/"
        },
        "id": "fcFZnSR2aRYm",
        "outputId": "e05df0dd-4c99-4ea3-e20a-b7aae20495eb"
      },
      "source": [
        "forest = RandomForestClassifier(random_state = 1)\n",
        "modelF = forest.fit(X_train, y_train)\n",
        "print('Train Accuracy: ', forest.score(X_train,y_train))\n",
        "print('Test Accuracy: ', forest.score(X_test,y_test))"
      ],
      "execution_count": null,
      "outputs": [
        {
          "output_type": "stream",
          "text": [
            "Train Accuracy:  1.0\n",
            "Test Accuracy:  0.6748424842484249\n"
          ],
          "name": "stdout"
        }
      ]
    },
    {
      "cell_type": "code",
      "metadata": {
        "id": "PP_3LxNXWjlr"
      },
      "source": [
        "n_estimators = [100, 300, 500, 800, 1200]\n",
        "max_depth = [5, 8, 15, 25, 30]\n",
        "min_samples_split = [2, 5, 10, 15, 100]\n",
        "min_samples_leaf = [1, 2, 5, 10] \n",
        "\n",
        "hyperF = dict(n_estimators = n_estimators, max_depth = max_depth,  \n",
        "              min_samples_split = min_samples_split, \n",
        "             min_samples_leaf = min_samples_leaf)\n",
        "\n",
        "gridF = RandomizedSearchCV(forest, hyperF, cv = 3, verbose = 1, \n",
        "                      n_jobs = -1,)\n",
        "bestF = gridF.fit(X_train, y_train)"
      ],
      "execution_count": null,
      "outputs": []
    },
    {
      "cell_type": "code",
      "metadata": {
        "id": "MhmHq53sbV-m"
      },
      "source": [
        "model_params = {\n",
        "    # randomly sample numbers from 4 to 204 estimators\n",
        "    'n_estimators': randint(4,1400),\n",
        "    # normally distributed max_features, with mean .25 stddev 0.1, bounded between 0 and 1\n",
        "    'max_features': truncnorm(a=0, b=1, loc=0.25, scale=0.1),\n",
        "    # uniform distribution from 0.01 to 0.2 (0.01 + 0.199)\n",
        "    'min_samples_split': uniform(0.01, 0.299)\n",
        "}"
      ],
      "execution_count": null,
      "outputs": []
    },
    {
      "cell_type": "code",
      "metadata": {
        "id": "pNFD1hb7hJ73"
      },
      "source": [
        ""
      ],
      "execution_count": null,
      "outputs": []
    },
    {
      "cell_type": "code",
      "metadata": {
        "colab": {
          "base_uri": "https://localhost:8080/"
        },
        "id": "4TfSkHkacJW5",
        "outputId": "f405280b-f79f-4f9f-a27e-a14aeca95146"
      },
      "source": [
        "clf"
      ],
      "execution_count": null,
      "outputs": [
        {
          "output_type": "execute_result",
          "data": {
            "text/plain": [
              "RandomForestClassifier(bootstrap=True, ccp_alpha=0.0, class_weight=None,\n",
              "                       criterion='gini', max_depth=25, max_features='auto',\n",
              "                       max_leaf_nodes=None, max_samples=None,\n",
              "                       min_impurity_decrease=0.0, min_impurity_split=None,\n",
              "                       min_samples_leaf=1, min_samples_split=10,\n",
              "                       min_weight_fraction_leaf=0.0, n_estimators=1200,\n",
              "                       n_jobs=None, oob_score=False, random_state=None,\n",
              "                       verbose=0, warm_start=False)"
            ]
          },
          "metadata": {
            "tags": []
          },
          "execution_count": 190
        }
      ]
    },
    {
      "cell_type": "code",
      "metadata": {
        "id": "dugQt39ubfZb"
      },
      "source": [
        "# this will train 100 models over 5 folds of cross validation (500 models total)\n",
        "random_search = RandomizedSearchCV(clf, model_params, n_iter=100, cv=5, random_state=1)\n",
        "\n",
        "# train the random search meta-estimator to find the best model out of 100 candidates\n",
        "model = random_search.fit(X_train, y_train)\n"
      ],
      "execution_count": null,
      "outputs": []
    },
    {
      "cell_type": "code",
      "metadata": {
        "colab": {
          "base_uri": "https://localhost:8080/"
        },
        "id": "fPxkzXmrg-AP",
        "outputId": "9f97383a-0e93-41d2-a090-0289e1b5e801"
      },
      "source": [
        "model.best_score_"
      ],
      "execution_count": null,
      "outputs": [
        {
          "output_type": "execute_result",
          "data": {
            "text/plain": [
              "0.6487920768089025"
            ]
          },
          "metadata": {
            "tags": []
          },
          "execution_count": 205
        }
      ]
    },
    {
      "cell_type": "code",
      "metadata": {
        "colab": {
          "base_uri": "https://localhost:8080/"
        },
        "id": "hRMfs9UicjVQ",
        "outputId": "0c5c0e81-86ee-4128-898d-322381ef5760"
      },
      "source": [
        "model.best_params_"
      ],
      "execution_count": null,
      "outputs": [
        {
          "output_type": "execute_result",
          "data": {
            "text/plain": [
              "{'max_features': 0.26750178061074575,\n",
              " 'min_samples_split': 0.01239281048497777,\n",
              " 'n_estimators': 509}"
            ]
          },
          "metadata": {
            "tags": []
          },
          "execution_count": 204
        }
      ]
    },
    {
      "cell_type": "code",
      "metadata": {
        "colab": {
          "base_uri": "https://localhost:8080/"
        },
        "id": "-vKIeBfRfzEn",
        "outputId": "27683c10-d461-4d0e-e268-6a8efe534ea5"
      },
      "source": [
        "clf2 = RandomForestClassifier(max_features=0.26345595027850155, min_samples_split=0.013696664233304495, n_estimators=170)\n",
        "clf2.fit(train,y)"
      ],
      "execution_count": null,
      "outputs": [
        {
          "output_type": "execute_result",
          "data": {
            "text/plain": [
              "RandomForestClassifier(bootstrap=True, ccp_alpha=0.0, class_weight=None,\n",
              "                       criterion='gini', max_depth=None,\n",
              "                       max_features=0.26345595027850155, max_leaf_nodes=None,\n",
              "                       max_samples=None, min_impurity_decrease=0.0,\n",
              "                       min_impurity_split=None, min_samples_leaf=1,\n",
              "                       min_samples_split=0.013696664233304495,\n",
              "                       min_weight_fraction_leaf=0.0, n_estimators=170,\n",
              "                       n_jobs=None, oob_score=False, random_state=None,\n",
              "                       verbose=0, warm_start=False)"
            ]
          },
          "metadata": {
            "tags": []
          },
          "execution_count": 196
        }
      ]
    },
    {
      "cell_type": "code",
      "metadata": {
        "colab": {
          "base_uri": "https://localhost:8080/"
        },
        "id": "7PUtDbmLgjRC",
        "outputId": "30ad9c31-224d-484b-f1f2-1d87d89f8246"
      },
      "source": [
        "clf = RandomForestClassifier(n_estimators=170, max_features=0.26345595027850155, min_samples_split=0.013696664233304495)\n",
        "clf.fit(X_train,y_train)\n",
        "print(clf.score(X_train,y_train))\n",
        "print(clf.score(X_test,y_test))"
      ],
      "execution_count": null,
      "outputs": [
        {
          "output_type": "stream",
          "text": [
            "0.6546269952259247\n",
            "0.6586408640864087\n"
          ],
          "name": "stdout"
        }
      ]
    },
    {
      "cell_type": "code",
      "metadata": {
        "id": "iMSoJAaHcR8U"
      },
      "source": [
        "sol9 = test.tweet_id.to_frame()\n",
        "sol9['virality'] = clf.predict(test)\n",
        "sol9.astype(int).to_csv('sol12.csv',index=False)"
      ],
      "execution_count": null,
      "outputs": []
    },
    {
      "cell_type": "code",
      "metadata": {
        "id": "gJvmec7zgcaW"
      },
      "source": [
        ""
      ],
      "execution_count": null,
      "outputs": []
    }
  ]
}